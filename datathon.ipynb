{
 "cells": [
  {
   "cell_type": "code",
   "execution_count": 38,
   "metadata": {
    "collapsed": true,
    "pycharm": {
     "name": "#%%\n"
    }
   },
   "outputs": [],
   "source": [
    "import numpy as np\n",
    "import pandas as pd\n",
    "import seaborn as sns\n",
    "from sklearn.tree import DecisionTreeRegressor\n",
    "from sklearn.linear_model import LinearRegression\n",
    "from sklearn.preprocessing import PolynomialFeatures\n",
    "from xgboost import XGBRegressor\n",
    "from sklearn.model_selection import GridSearchCV\n",
    "from sklearn.model_selection import train_test_split\n",
    "from sklearn.ensemble import RandomForestRegressor\n",
    "from sklearn.metrics import mean_squared_error\n",
    "import datetime as dt\n",
    "import math"
   ]
  },
  {
   "cell_type": "markdown",
   "source": [
    "Se obtienen los datasets de entrenamiento y test y se los transforma en dataframes para su análisis."
   ],
   "metadata": {
    "collapsed": false,
    "pycharm": {
     "name": "#%% md\n"
    }
   }
  },
  {
   "cell_type": "code",
   "execution_count": 2,
   "outputs": [],
   "source": [
    "df_train = pd.read_csv('bike_train.csv')\n",
    "df_test = pd.read_csv('bike_test.csv')"
   ],
   "metadata": {
    "collapsed": false,
    "pycharm": {
     "name": "#%%\n"
    }
   }
  },
  {
   "cell_type": "code",
   "execution_count": 3,
   "outputs": [
    {
     "data": {
      "text/plain": "   instant     dteday  season  yr  mnth  hr  holiday  weekday  workingday  \\\n0    12000  5/20/2012       2   1     5   4        0        0           0   \n1    12001  5/20/2012       2   1     5   5        0        0           0   \n2    12002  5/20/2012       2   1     5   6        0        0           0   \n3    12003  5/20/2012       2   1     5   7        0        0           0   \n4    12004  5/20/2012       2   1     5   8        0        0           0   \n\n   weathersit  temp   atemp   hum  windspeed  \n0           1  0.52  0.5000  0.68     0.0896  \n1           1  0.50  0.4848  0.72     0.1045  \n2           1  0.50  0.4848  0.63     0.1343  \n3           1  0.52  0.5000  0.68     0.1940  \n4           1  0.56  0.5303  0.56     0.1642  ",
      "text/html": "<div>\n<style scoped>\n    .dataframe tbody tr th:only-of-type {\n        vertical-align: middle;\n    }\n\n    .dataframe tbody tr th {\n        vertical-align: top;\n    }\n\n    .dataframe thead th {\n        text-align: right;\n    }\n</style>\n<table border=\"1\" class=\"dataframe\">\n  <thead>\n    <tr style=\"text-align: right;\">\n      <th></th>\n      <th>instant</th>\n      <th>dteday</th>\n      <th>season</th>\n      <th>yr</th>\n      <th>mnth</th>\n      <th>hr</th>\n      <th>holiday</th>\n      <th>weekday</th>\n      <th>workingday</th>\n      <th>weathersit</th>\n      <th>temp</th>\n      <th>atemp</th>\n      <th>hum</th>\n      <th>windspeed</th>\n    </tr>\n  </thead>\n  <tbody>\n    <tr>\n      <th>0</th>\n      <td>12000</td>\n      <td>5/20/2012</td>\n      <td>2</td>\n      <td>1</td>\n      <td>5</td>\n      <td>4</td>\n      <td>0</td>\n      <td>0</td>\n      <td>0</td>\n      <td>1</td>\n      <td>0.52</td>\n      <td>0.5000</td>\n      <td>0.68</td>\n      <td>0.0896</td>\n    </tr>\n    <tr>\n      <th>1</th>\n      <td>12001</td>\n      <td>5/20/2012</td>\n      <td>2</td>\n      <td>1</td>\n      <td>5</td>\n      <td>5</td>\n      <td>0</td>\n      <td>0</td>\n      <td>0</td>\n      <td>1</td>\n      <td>0.50</td>\n      <td>0.4848</td>\n      <td>0.72</td>\n      <td>0.1045</td>\n    </tr>\n    <tr>\n      <th>2</th>\n      <td>12002</td>\n      <td>5/20/2012</td>\n      <td>2</td>\n      <td>1</td>\n      <td>5</td>\n      <td>6</td>\n      <td>0</td>\n      <td>0</td>\n      <td>0</td>\n      <td>1</td>\n      <td>0.50</td>\n      <td>0.4848</td>\n      <td>0.63</td>\n      <td>0.1343</td>\n    </tr>\n    <tr>\n      <th>3</th>\n      <td>12003</td>\n      <td>5/20/2012</td>\n      <td>2</td>\n      <td>1</td>\n      <td>5</td>\n      <td>7</td>\n      <td>0</td>\n      <td>0</td>\n      <td>0</td>\n      <td>1</td>\n      <td>0.52</td>\n      <td>0.5000</td>\n      <td>0.68</td>\n      <td>0.1940</td>\n    </tr>\n    <tr>\n      <th>4</th>\n      <td>12004</td>\n      <td>5/20/2012</td>\n      <td>2</td>\n      <td>1</td>\n      <td>5</td>\n      <td>8</td>\n      <td>0</td>\n      <td>0</td>\n      <td>0</td>\n      <td>1</td>\n      <td>0.56</td>\n      <td>0.5303</td>\n      <td>0.56</td>\n      <td>0.1642</td>\n    </tr>\n  </tbody>\n</table>\n</div>"
     },
     "execution_count": 3,
     "metadata": {},
     "output_type": "execute_result"
    }
   ],
   "source": [
    "df_test.head()"
   ],
   "metadata": {
    "collapsed": false,
    "pycharm": {
     "name": "#%%\n"
    }
   }
  },
  {
   "cell_type": "code",
   "execution_count": 116,
   "outputs": [
    {
     "data": {
      "text/plain": "   instant    dteday  season  yr  mnth  hr  holiday  weekday  workingday  \\\n0        1  1/1/2011       1   0     1   0        0        6           0   \n1        2  1/1/2011       1   0     1   1        0        6           0   \n2        3  1/1/2011       1   0     1   2        0        6           0   \n3        4  1/1/2011       1   0     1   3        0        6           0   \n4        5  1/1/2011       1   0     1   4        0        6           0   \n\n   weathersit  temp   atemp   hum  windspeed  casual  registered  cnt  \n0           1  0.24  0.2879  0.81        0.0       3          13   16  \n1           1  0.22  0.2727  0.80        0.0       8          32   40  \n2           1  0.22  0.2727  0.80        0.0       5          27   32  \n3           1  0.24  0.2879  0.75        0.0       3          10   13  \n4           1  0.24  0.2879  0.75        0.0       0           1    1  ",
      "text/html": "<div>\n<style scoped>\n    .dataframe tbody tr th:only-of-type {\n        vertical-align: middle;\n    }\n\n    .dataframe tbody tr th {\n        vertical-align: top;\n    }\n\n    .dataframe thead th {\n        text-align: right;\n    }\n</style>\n<table border=\"1\" class=\"dataframe\">\n  <thead>\n    <tr style=\"text-align: right;\">\n      <th></th>\n      <th>instant</th>\n      <th>dteday</th>\n      <th>season</th>\n      <th>yr</th>\n      <th>mnth</th>\n      <th>hr</th>\n      <th>holiday</th>\n      <th>weekday</th>\n      <th>workingday</th>\n      <th>weathersit</th>\n      <th>temp</th>\n      <th>atemp</th>\n      <th>hum</th>\n      <th>windspeed</th>\n      <th>casual</th>\n      <th>registered</th>\n      <th>cnt</th>\n    </tr>\n  </thead>\n  <tbody>\n    <tr>\n      <th>0</th>\n      <td>1</td>\n      <td>1/1/2011</td>\n      <td>1</td>\n      <td>0</td>\n      <td>1</td>\n      <td>0</td>\n      <td>0</td>\n      <td>6</td>\n      <td>0</td>\n      <td>1</td>\n      <td>0.24</td>\n      <td>0.2879</td>\n      <td>0.81</td>\n      <td>0.0</td>\n      <td>3</td>\n      <td>13</td>\n      <td>16</td>\n    </tr>\n    <tr>\n      <th>1</th>\n      <td>2</td>\n      <td>1/1/2011</td>\n      <td>1</td>\n      <td>0</td>\n      <td>1</td>\n      <td>1</td>\n      <td>0</td>\n      <td>6</td>\n      <td>0</td>\n      <td>1</td>\n      <td>0.22</td>\n      <td>0.2727</td>\n      <td>0.80</td>\n      <td>0.0</td>\n      <td>8</td>\n      <td>32</td>\n      <td>40</td>\n    </tr>\n    <tr>\n      <th>2</th>\n      <td>3</td>\n      <td>1/1/2011</td>\n      <td>1</td>\n      <td>0</td>\n      <td>1</td>\n      <td>2</td>\n      <td>0</td>\n      <td>6</td>\n      <td>0</td>\n      <td>1</td>\n      <td>0.22</td>\n      <td>0.2727</td>\n      <td>0.80</td>\n      <td>0.0</td>\n      <td>5</td>\n      <td>27</td>\n      <td>32</td>\n    </tr>\n    <tr>\n      <th>3</th>\n      <td>4</td>\n      <td>1/1/2011</td>\n      <td>1</td>\n      <td>0</td>\n      <td>1</td>\n      <td>3</td>\n      <td>0</td>\n      <td>6</td>\n      <td>0</td>\n      <td>1</td>\n      <td>0.24</td>\n      <td>0.2879</td>\n      <td>0.75</td>\n      <td>0.0</td>\n      <td>3</td>\n      <td>10</td>\n      <td>13</td>\n    </tr>\n    <tr>\n      <th>4</th>\n      <td>5</td>\n      <td>1/1/2011</td>\n      <td>1</td>\n      <td>0</td>\n      <td>1</td>\n      <td>4</td>\n      <td>0</td>\n      <td>6</td>\n      <td>0</td>\n      <td>1</td>\n      <td>0.24</td>\n      <td>0.2879</td>\n      <td>0.75</td>\n      <td>0.0</td>\n      <td>0</td>\n      <td>1</td>\n      <td>1</td>\n    </tr>\n  </tbody>\n</table>\n</div>"
     },
     "execution_count": 116,
     "metadata": {},
     "output_type": "execute_result"
    }
   ],
   "source": [
    "df_train.head()"
   ],
   "metadata": {
    "collapsed": false,
    "pycharm": {
     "name": "#%%\n"
    }
   }
  },
  {
   "cell_type": "markdown",
   "source": [
    "El dataset de test no posee la columna casual, registered ni cnt"
   ],
   "metadata": {
    "collapsed": false,
    "pycharm": {
     "name": "#%% md\n"
    }
   }
  },
  {
   "cell_type": "markdown",
   "source": [
    "Se transforma la columna fecha en un formato ordinal para ser utilizada posteriormente en los modelos elegidos"
   ],
   "metadata": {
    "collapsed": false,
    "pycharm": {
     "name": "#%% md\n"
    }
   }
  },
  {
   "cell_type": "code",
   "execution_count": 14,
   "outputs": [],
   "source": [
    "train = df_train.copy()\n",
    "test = df_test.copy()\n",
    "train.dteday = pd.to_datetime(train.dteday)\n",
    "train.dteday = train.dteday.map(dt.datetime.toordinal)\n",
    "test.dteday = pd.to_datetime(test.dteday)\n",
    "test.dteday = test.dteday.map(dt.datetime.toordinal)"
   ],
   "metadata": {
    "collapsed": false,
    "pycharm": {
     "name": "#%%\n"
    }
   }
  },
  {
   "cell_type": "markdown",
   "source": [
    "#### Analisis de outliers sobre variable objetivo"
   ],
   "metadata": {
    "collapsed": false,
    "pycharm": {
     "name": "#%% md\n"
    }
   }
  },
  {
   "cell_type": "code",
   "execution_count": 135,
   "outputs": [
    {
     "data": {
      "text/plain": "<AxesSubplot:xlabel='cnt', ylabel='Count'>"
     },
     "execution_count": 135,
     "metadata": {},
     "output_type": "execute_result"
    },
    {
     "data": {
      "text/plain": "<Figure size 432x288 with 1 Axes>",
      "image/png": "[encoded data removed]"
     },
     "metadata": {},
     "output_type": "display_data"
    }
   ],
   "source": [
    "sns.histplot(train.cnt)"
   ],
   "metadata": {
    "collapsed": false,
    "pycharm": {
     "name": "#%%\n"
    }
   }
  },
  {
   "cell_type": "code",
   "execution_count": 136,
   "outputs": [],
   "source": [
    "#No aplicar por el momento\n",
    "'''Q1 = train['cnt'].quantile(0.25)\n",
    "Q3 = train['cnt'].quantile(0.75)\n",
    "IQR = Q3 - Q1\n",
    "BI = Q1 - 1.5*IQR\n",
    "BS = Q3 + 1.5*IQR\n",
    "out = ((train['cnt']>BI) & (train['cnt']<BS))'''"
   ],
   "metadata": {
    "collapsed": false,
    "pycharm": {
     "name": "#%%\n"
    }
   }
  },
  {
   "cell_type": "code",
   "execution_count": 137,
   "outputs": [
    {
     "data": {
      "text/plain": "   instant  dteday  season  yr  mnth  hr  holiday  weekday  workingday  \\\n0        1  734138       1   0     1   0        0        6           0   \n1        2  734138       1   0     1   1        0        6           0   \n2        3  734138       1   0     1   2        0        6           0   \n3        4  734138       1   0     1   3        0        6           0   \n4        5  734138       1   0     1   4        0        6           0   \n\n   weathersit  temp   atemp   hum  windspeed  casual  registered  cnt  \n0           1  0.24  0.2879  0.81        0.0       3          13   16  \n1           1  0.22  0.2727  0.80        0.0       8          32   40  \n2           1  0.22  0.2727  0.80        0.0       5          27   32  \n3           1  0.24  0.2879  0.75        0.0       3          10   13  \n4           1  0.24  0.2879  0.75        0.0       0           1    1  ",
      "text/html": "<div>\n<style scoped>\n    .dataframe tbody tr th:only-of-type {\n        vertical-align: middle;\n    }\n\n    .dataframe tbody tr th {\n        vertical-align: top;\n    }\n\n    .dataframe thead th {\n        text-align: right;\n    }\n</style>\n<table border=\"1\" class=\"dataframe\">\n  <thead>\n    <tr style=\"text-align: right;\">\n      <th></th>\n      <th>instant</th>\n      <th>dteday</th>\n      <th>season</th>\n      <th>yr</th>\n      <th>mnth</th>\n      <th>hr</th>\n      <th>holiday</th>\n      <th>weekday</th>\n      <th>workingday</th>\n      <th>weathersit</th>\n      <th>temp</th>\n      <th>atemp</th>\n      <th>hum</th>\n      <th>windspeed</th>\n      <th>casual</th>\n      <th>registered</th>\n      <th>cnt</th>\n    </tr>\n  </thead>\n  <tbody>\n    <tr>\n      <th>0</th>\n      <td>1</td>\n      <td>734138</td>\n      <td>1</td>\n      <td>0</td>\n      <td>1</td>\n      <td>0</td>\n      <td>0</td>\n      <td>6</td>\n      <td>0</td>\n      <td>1</td>\n      <td>0.24</td>\n      <td>0.2879</td>\n      <td>0.81</td>\n      <td>0.0</td>\n      <td>3</td>\n      <td>13</td>\n      <td>16</td>\n    </tr>\n    <tr>\n      <th>1</th>\n      <td>2</td>\n      <td>734138</td>\n      <td>1</td>\n      <td>0</td>\n      <td>1</td>\n      <td>1</td>\n      <td>0</td>\n      <td>6</td>\n      <td>0</td>\n      <td>1</td>\n      <td>0.22</td>\n      <td>0.2727</td>\n      <td>0.80</td>\n      <td>0.0</td>\n      <td>8</td>\n      <td>32</td>\n      <td>40</td>\n    </tr>\n    <tr>\n      <th>2</th>\n      <td>3</td>\n      <td>734138</td>\n      <td>1</td>\n      <td>0</td>\n      <td>1</td>\n      <td>2</td>\n      <td>0</td>\n      <td>6</td>\n      <td>0</td>\n      <td>1</td>\n      <td>0.22</td>\n      <td>0.2727</td>\n      <td>0.80</td>\n      <td>0.0</td>\n      <td>5</td>\n      <td>27</td>\n      <td>32</td>\n    </tr>\n    <tr>\n      <th>3</th>\n      <td>4</td>\n      <td>734138</td>\n      <td>1</td>\n      <td>0</td>\n      <td>1</td>\n      <td>3</td>\n      <td>0</td>\n      <td>6</td>\n      <td>0</td>\n      <td>1</td>\n      <td>0.24</td>\n      <td>0.2879</td>\n      <td>0.75</td>\n      <td>0.0</td>\n      <td>3</td>\n      <td>10</td>\n      <td>13</td>\n    </tr>\n    <tr>\n      <th>4</th>\n      <td>5</td>\n      <td>734138</td>\n      <td>1</td>\n      <td>0</td>\n      <td>1</td>\n      <td>4</td>\n      <td>0</td>\n      <td>6</td>\n      <td>0</td>\n      <td>1</td>\n      <td>0.24</td>\n      <td>0.2879</td>\n      <td>0.75</td>\n      <td>0.0</td>\n      <td>0</td>\n      <td>1</td>\n      <td>1</td>\n    </tr>\n  </tbody>\n</table>\n</div>"
     },
     "execution_count": 137,
     "metadata": {},
     "output_type": "execute_result"
    }
   ],
   "source": [
    "'''train['out'] = out\n",
    "train = train[train.out == True]\n",
    "train = train.drop(columns=['out'])\n",
    "train.head()'''"
   ],
   "metadata": {
    "collapsed": false,
    "pycharm": {
     "name": "#%%\n"
    }
   }
  },
  {
   "cell_type": "code",
   "execution_count": 138,
   "outputs": [
    {
     "data": {
      "text/plain": "<AxesSubplot:xlabel='cnt', ylabel='Count'>"
     },
     "execution_count": 138,
     "metadata": {},
     "output_type": "execute_result"
    },
    {
     "data": {
      "text/plain": "<Figure size 432x288 with 1 Axes>",
      "image/png": "[encoded data removed]"
     },
     "metadata": {},
     "output_type": "display_data"
    }
   ],
   "source": [
    "sns.histplot(train.cnt)"
   ],
   "metadata": {
    "collapsed": false,
    "pycharm": {
     "name": "#%%\n"
    }
   }
  },
  {
   "cell_type": "markdown",
   "source": [
    "Después de quitar outliers se observa un peor resultado en hoja de calculo final"
   ],
   "metadata": {
    "collapsed": false,
    "pycharm": {
     "name": "#%% md\n"
    }
   }
  },
  {
   "cell_type": "markdown",
   "source": [
    "Se plantea la matriz de correlación correspondiente para observar la relación entre las distintas features"
   ],
   "metadata": {
    "collapsed": false,
    "pycharm": {
     "name": "#%% md\n"
    }
   }
  },
  {
   "cell_type": "code",
   "execution_count": 139,
   "outputs": [
    {
     "data": {
      "text/plain": "<pandas.io.formats.style.Styler at 0x7fa62d4a7490>",
      "text/html": "<style type=\"text/css\">\n#T_4f732_row0_col0, #T_4f732_row0_col1, #T_4f732_row1_col0, #T_4f732_row1_col1, #T_4f732_row2_col2, #T_4f732_row3_col3, #T_4f732_row4_col4, #T_4f732_row5_col5, #T_4f732_row6_col6, #T_4f732_row7_col7, #T_4f732_row8_col8, #T_4f732_row9_col9, #T_4f732_row10_col10, #T_4f732_row11_col11, #T_4f732_row12_col12, #T_4f732_row13_col13, #T_4f732_row14_col14, #T_4f732_row15_col15, #T_4f732_row16_col16 {\n  background-color: #00441b;\n  color: #f1f1f1;\n}\n#T_4f732_row0_col2, #T_4f732_row1_col2, #T_4f732_row14_col4, #T_4f732_row15_col3, #T_4f732_row16_col4 {\n  background-color: #98d594;\n  color: #000000;\n}\n#T_4f732_row0_col3, #T_4f732_row1_col3 {\n  background-color: #097532;\n  color: #f1f1f1;\n}\n#T_4f732_row0_col4 {\n  background-color: #86cc85;\n  color: #000000;\n}\n#T_4f732_row0_col5, #T_4f732_row1_col5, #T_4f732_row12_col10, #T_4f732_row16_col6 {\n  background-color: #d8f0d2;\n  color: #000000;\n}\n#T_4f732_row0_col6, #T_4f732_row1_col6, #T_4f732_row4_col6, #T_4f732_row7_col12, #T_4f732_row10_col13, #T_4f732_row13_col2 {\n  background-color: #d1edcb;\n  color: #000000;\n}\n#T_4f732_row0_col7, #T_4f732_row1_col7, #T_4f732_row2_col7, #T_4f732_row14_col7 {\n  background-color: #eaf7e6;\n  color: #000000;\n}\n#T_4f732_row0_col8, #T_4f732_row1_col8, #T_4f732_row2_col8, #T_4f732_row3_col8, #T_4f732_row11_col12, #T_4f732_row12_col3 {\n  background-color: #caeac3;\n  color: #000000;\n}\n#T_4f732_row0_col9, #T_4f732_row1_col9, #T_4f732_row9_col14 {\n  background-color: #e5f5e1;\n  color: #000000;\n}\n#T_4f732_row0_col10, #T_4f732_row1_col10, #T_4f732_row2_col6, #T_4f732_row4_col5, #T_4f732_row6_col12, #T_4f732_row7_col5 {\n  background-color: #d5efcf;\n  color: #000000;\n}\n#T_4f732_row0_col11, #T_4f732_row0_col13, #T_4f732_row1_col13, #T_4f732_row8_col5, #T_4f732_row16_col0, #T_4f732_row16_col1 {\n  background-color: #d4eece;\n  color: #000000;\n}\n#T_4f732_row0_col12, #T_4f732_row1_col12, #T_4f732_row5_col8, #T_4f732_row7_col13 {\n  background-color: #cbebc5;\n  color: #000000;\n}\n#T_4f732_row0_col14, #T_4f732_row1_col14, #T_4f732_row4_col15, #T_4f732_row5_col11, #T_4f732_row9_col8 {\n  background-color: #c1e6ba;\n  color: #000000;\n}\n#T_4f732_row0_col15, #T_4f732_row1_col15, #T_4f732_row2_col14 {\n  background-color: #a9dca3;\n  color: #000000;\n}\n#T_4f732_row0_col16, #T_4f732_row1_col16 {\n  background-color: #a8dca2;\n  color: #000000;\n}\n#T_4f732_row1_col4, #T_4f732_row5_col14 {\n  background-color: #84cc83;\n  color: #000000;\n}\n#T_4f732_row1_col11, #T_4f732_row3_col6, #T_4f732_row5_col6, #T_4f732_row6_col5 {\n  background-color: #d3eecd;\n  color: #000000;\n}\n#T_4f732_row2_col0, #T_4f732_row13_col10 {\n  background-color: #dcf2d7;\n  color: #000000;\n}\n#T_4f732_row2_col1, #T_4f732_row6_col15, #T_4f732_row7_col11, #T_4f732_row12_col6, #T_4f732_row15_col6 {\n  background-color: #dbf1d6;\n  color: #000000;\n}\n#T_4f732_row2_col3, #T_4f732_row15_col9 {\n  background-color: #f4fbf1;\n  color: #000000;\n}\n#T_4f732_row2_col4, #T_4f732_row4_col2 {\n  background-color: #006227;\n  color: #f1f1f1;\n}\n#T_4f732_row2_col5, #T_4f732_row12_col11 {\n  background-color: #d6efd0;\n  color: #000000;\n}\n#T_4f732_row2_col9, #T_4f732_row7_col6, #T_4f732_row9_col10, #T_4f732_row13_col11 {\n  background-color: #e6f5e1;\n  color: #000000;\n}\n#T_4f732_row2_col10, #T_4f732_row2_col11, #T_4f732_row5_col15 {\n  background-color: #6bc072;\n  color: #000000;\n}\n#T_4f732_row2_col12, #T_4f732_row4_col12 {\n  background-color: #9ed798;\n  color: #000000;\n}\n#T_4f732_row2_col13, #T_4f732_row4_col9, #T_4f732_row9_col11, #T_4f732_row9_col16 {\n  background-color: #e7f6e2;\n  color: #000000;\n}\n#T_4f732_row2_col15, #T_4f732_row10_col5, #T_4f732_row13_col16, #T_4f732_row15_col13, #T_4f732_row16_col13 {\n  background-color: #bae3b3;\n  color: #000000;\n}\n#T_4f732_row2_col16, #T_4f732_row6_col4 {\n  background-color: #aedea7;\n  color: #000000;\n}\n#T_4f732_row3_col0, #T_4f732_row3_col1, #T_4f732_row16_col14 {\n  background-color: #1c8540;\n  color: #f1f1f1;\n}\n#T_4f732_row3_col2, #T_4f732_row3_col4, #T_4f732_row3_col10, #T_4f732_row3_col11, #T_4f732_row4_col3, #T_4f732_row6_col7, #T_4f732_row8_col6, #T_4f732_row8_col14, #T_4f732_row12_col5, #T_4f732_row12_col13, #T_4f732_row12_col15, #T_4f732_row12_col16, #T_4f732_row13_col0, #T_4f732_row13_col1, #T_4f732_row13_col12, #T_4f732_row14_col8, #T_4f732_row14_col9 {\n  background-color: #f7fcf5;\n  color: #000000;\n}\n#T_4f732_row3_col5, #T_4f732_row9_col5, #T_4f732_row9_col6, #T_4f732_row11_col3 {\n  background-color: #d7efd1;\n  color: #000000;\n}\n#T_4f732_row3_col7, #T_4f732_row5_col7, #T_4f732_row10_col7, #T_4f732_row11_col7, #T_4f732_row14_col0, #T_4f732_row14_col1 {\n  background-color: #ebf7e7;\n  color: #000000;\n}\n#T_4f732_row3_col9 {\n  background-color: #e4f5df;\n  color: #000000;\n}\n#T_4f732_row3_col12, #T_4f732_row8_col7 {\n  background-color: #e5f5e0;\n  color: #000000;\n}\n#T_4f732_row3_col13, #T_4f732_row14_col13 {\n  background-color: #c0e6b9;\n  color: #000000;\n}\n#T_4f732_row3_col14 {\n  background-color: #d0edca;\n  color: #000000;\n}\n#T_4f732_row3_col15, #T_4f732_row11_col8, #T_4f732_row13_col14 {\n  background-color: #bde5b6;\n  color: #000000;\n}\n#T_4f732_row3_col16 {\n  background-color: #bce4b5;\n  color: #000000;\n}\n#T_4f732_row4_col0, #T_4f732_row4_col1, #T_4f732_row7_col15, #T_4f732_row13_col6, #T_4f732_row15_col0, #T_4f732_row15_col1 {\n  background-color: #cfecc9;\n  color: #000000;\n}\n#T_4f732_row4_col7, #T_4f732_row9_col7, #T_4f732_row9_col15, #T_4f732_row16_col7 {\n  background-color: #e8f6e3;\n  color: #000000;\n}\n#T_4f732_row4_col8, #T_4f732_row7_col14, #T_4f732_row7_col16, #T_4f732_row9_col13, #T_4f732_row16_col8 {\n  background-color: #cbeac4;\n  color: #000000;\n}\n#T_4f732_row4_col10, #T_4f732_row4_col11 {\n  background-color: #7dc87e;\n  color: #000000;\n}\n#T_4f732_row4_col13, #T_4f732_row5_col9, #T_4f732_row6_col9, #T_4f732_row15_col7 {\n  background-color: #e7f6e3;\n  color: #000000;\n}\n#T_4f732_row4_col14, #T_4f732_row5_col3, #T_4f732_row7_col3, #T_4f732_row9_col4 {\n  background-color: #b2e0ac;\n  color: #000000;\n}\n#T_4f732_row4_col16, #T_4f732_row7_col2 {\n  background-color: #b6e2af;\n  color: #000000;\n}\n#T_4f732_row5_col0, #T_4f732_row5_col1 {\n  background-color: #f5fbf3;\n  color: #000000;\n}\n#T_4f732_row5_col2, #T_4f732_row6_col2, #T_4f732_row9_col2 {\n  background-color: #b7e2b1;\n  color: #000000;\n}\n#T_4f732_row5_col4, #T_4f732_row15_col8 {\n  background-color: #b1e0ab;\n  color: #000000;\n}\n#T_4f732_row5_col10, #T_4f732_row10_col8 {\n  background-color: #bee5b8;\n  color: #000000;\n}\n#T_4f732_row5_col12 {\n  background-color: #f2faef;\n  color: #000000;\n}\n#T_4f732_row5_col13 {\n  background-color: #b0dfaa;\n  color: #000000;\n}\n#T_4f732_row5_col16 {\n  background-color: #62bb6d;\n  color: #f1f1f1;\n}\n#T_4f732_row6_col0, #T_4f732_row6_col1, #T_4f732_row6_col8, #T_4f732_row8_col0, #T_4f732_row8_col1, #T_4f732_row12_col0, #T_4f732_row12_col1 {\n  background-color: #f1faee;\n  color: #000000;\n}\n#T_4f732_row6_col3, #T_4f732_row8_col3, #T_4f732_row8_col4, #T_4f732_row9_col3 {\n  background-color: #afdfa8;\n  color: #000000;\n}\n#T_4f732_row6_col10 {\n  background-color: #ddf2d8;\n  color: #000000;\n}\n#T_4f732_row6_col11, #T_4f732_row7_col9 {\n  background-color: #e1f3dc;\n  color: #000000;\n}\n#T_4f732_row6_col13 {\n  background-color: #c9eac2;\n  color: #000000;\n}\n#T_4f732_row6_col14 {\n  background-color: #c4e8bd;\n  color: #000000;\n}\n#T_4f732_row6_col16 {\n  background-color: #d2edcc;\n  color: #000000;\n}\n#T_4f732_row7_col0, #T_4f732_row7_col1, #T_4f732_row15_col12 {\n  background-color: #f2faf0;\n  color: #000000;\n}\n#T_4f732_row7_col4 {\n  background-color: #acdea6;\n  color: #000000;\n}\n#T_4f732_row7_col8 {\n  background-color: #c3e7bc;\n  color: #000000;\n}\n#T_4f732_row7_col10, #T_4f732_row8_col9, #T_4f732_row11_col6 {\n  background-color: #dbf1d5;\n  color: #000000;\n}\n#T_4f732_row8_col2 {\n  background-color: #b4e1ad;\n  color: #000000;\n}\n#T_4f732_row8_col10, #T_4f732_row10_col12, #T_4f732_row13_col4, #T_4f732_row13_col8, #T_4f732_row14_col6 {\n  background-color: #ccebc6;\n  color: #000000;\n}\n#T_4f732_row8_col11, #T_4f732_row8_col16 {\n  background-color: #cdecc7;\n  color: #000000;\n}\n#T_4f732_row8_col12 {\n  background-color: #c8e9c1;\n  color: #000000;\n}\n#T_4f732_row8_col13 {\n  background-color: #ceecc8;\n  color: #000000;\n}\n#T_4f732_row8_col15, #T_4f732_row11_col5 {\n  background-color: #bbe4b4;\n  color: #000000;\n}\n#T_4f732_row9_col0, #T_4f732_row9_col1 {\n  background-color: #f3faf0;\n  color: #000000;\n}\n#T_4f732_row9_col12, #T_4f732_row14_col10 {\n  background-color: #5bb86a;\n  color: #f1f1f1;\n}\n#T_4f732_row10_col0 {\n  background-color: #f0f9ed;\n  color: #000000;\n}\n#T_4f732_row10_col1 {\n  background-color: #f0f9ec;\n  color: #000000;\n}\n#T_4f732_row10_col2, #T_4f732_row14_col15 {\n  background-color: #4db163;\n  color: #f1f1f1;\n}\n#T_4f732_row10_col3, #T_4f732_row10_col6 {\n  background-color: #d9f0d3;\n  color: #000000;\n}\n#T_4f732_row10_col4 {\n  background-color: #58b668;\n  color: #f1f1f1;\n}\n#T_4f732_row10_col9, #T_4f732_row11_col0, #T_4f732_row11_col1, #T_4f732_row11_col9 {\n  background-color: #eef8ea;\n  color: #000000;\n}\n#T_4f732_row10_col11, #T_4f732_row11_col10 {\n  background-color: #00451c;\n  color: #f1f1f1;\n}\n#T_4f732_row10_col14, #T_4f732_row11_col14 {\n  background-color: #50b264;\n  color: #f1f1f1;\n}\n#T_4f732_row10_col15, #T_4f732_row11_col15 {\n  background-color: #88ce87;\n  color: #000000;\n}\n#T_4f732_row10_col16, #T_4f732_row11_col16 {\n  background-color: #6abf71;\n  color: #000000;\n}\n#T_4f732_row11_col2 {\n  background-color: #4bb062;\n  color: #f1f1f1;\n}\n#T_4f732_row11_col4 {\n  background-color: #56b567;\n  color: #f1f1f1;\n}\n#T_4f732_row11_col13 {\n  background-color: #daf0d4;\n  color: #000000;\n}\n#T_4f732_row12_col2 {\n  background-color: #87cd86;\n  color: #000000;\n}\n#T_4f732_row12_col4 {\n  background-color: #81ca81;\n  color: #000000;\n}\n#T_4f732_row12_col7 {\n  background-color: #edf8e9;\n  color: #000000;\n}\n#T_4f732_row12_col8 {\n  background-color: #c6e8bf;\n  color: #000000;\n}\n#T_4f732_row12_col9 {\n  background-color: #73c476;\n  color: #000000;\n}\n#T_4f732_row12_col14 {\n  background-color: #f5fbf2;\n  color: #000000;\n}\n#T_4f732_row13_col3 {\n  background-color: #a3da9d;\n  color: #000000;\n}\n#T_4f732_row13_col5 {\n  background-color: #b8e3b2;\n  color: #000000;\n}\n#T_4f732_row13_col7 {\n  background-color: #e9f7e5;\n  color: #000000;\n}\n#T_4f732_row13_col9 {\n  background-color: #e2f4dd;\n  color: #000000;\n}\n#T_4f732_row13_col15 {\n  background-color: #c2e7bb;\n  color: #000000;\n}\n#T_4f732_row14_col2 {\n  background-color: #94d390;\n  color: #000000;\n}\n#T_4f732_row14_col3 {\n  background-color: #b5e1ae;\n  color: #000000;\n}\n#T_4f732_row14_col5, #T_4f732_row15_col11 {\n  background-color: #8ed08b;\n  color: #000000;\n}\n#T_4f732_row14_col11 {\n  background-color: #5eb96b;\n  color: #f1f1f1;\n}\n#T_4f732_row14_col12, #T_4f732_row16_col9, #T_4f732_row16_col12 {\n  background-color: #f6fcf4;\n  color: #000000;\n}\n#T_4f732_row14_col16 {\n  background-color: #1d8640;\n  color: #f1f1f1;\n}\n#T_4f732_row15_col2 {\n  background-color: #9bd696;\n  color: #000000;\n}\n#T_4f732_row15_col4 {\n  background-color: #9cd797;\n  color: #000000;\n}\n#T_4f732_row15_col5 {\n  background-color: #6dc072;\n  color: #000000;\n}\n#T_4f732_row15_col10 {\n  background-color: #8dd08a;\n  color: #000000;\n}\n#T_4f732_row15_col14 {\n  background-color: #45ad5f;\n  color: #f1f1f1;\n}\n#T_4f732_row15_col16 {\n  background-color: #004c1e;\n  color: #f1f1f1;\n}\n#T_4f732_row16_col2 {\n  background-color: #95d391;\n  color: #000000;\n}\n#T_4f732_row16_col3 {\n  background-color: #9fd899;\n  color: #000000;\n}\n#T_4f732_row16_col5 {\n  background-color: #68be70;\n  color: #000000;\n}\n#T_4f732_row16_col10 {\n  background-color: #75c477;\n  color: #000000;\n}\n#T_4f732_row16_col11 {\n  background-color: #76c578;\n  color: #000000;\n}\n#T_4f732_row16_col15 {\n  background-color: #004d1f;\n  color: #f1f1f1;\n}\n</style>\n<table id=\"T_4f732\">\n  <thead>\n    <tr>\n      <th class=\"blank level0\" >&nbsp;</th>\n      <th id=\"T_4f732_level0_col0\" class=\"col_heading level0 col0\" >instant</th>\n      <th id=\"T_4f732_level0_col1\" class=\"col_heading level0 col1\" >dteday</th>\n      <th id=\"T_4f732_level0_col2\" class=\"col_heading level0 col2\" >season</th>\n      <th id=\"T_4f732_level0_col3\" class=\"col_heading level0 col3\" >yr</th>\n      <th id=\"T_4f732_level0_col4\" class=\"col_heading level0 col4\" >mnth</th>\n      <th id=\"T_4f732_level0_col5\" class=\"col_heading level0 col5\" >hr</th>\n      <th id=\"T_4f732_level0_col6\" class=\"col_heading level0 col6\" >holiday</th>\n      <th id=\"T_4f732_level0_col7\" class=\"col_heading level0 col7\" >weekday</th>\n      <th id=\"T_4f732_level0_col8\" class=\"col_heading level0 col8\" >workingday</th>\n      <th id=\"T_4f732_level0_col9\" class=\"col_heading level0 col9\" >weathersit</th>\n      <th id=\"T_4f732_level0_col10\" class=\"col_heading level0 col10\" >temp</th>\n      <th id=\"T_4f732_level0_col11\" class=\"col_heading level0 col11\" >atemp</th>\n      <th id=\"T_4f732_level0_col12\" class=\"col_heading level0 col12\" >hum</th>\n      <th id=\"T_4f732_level0_col13\" class=\"col_heading level0 col13\" >windspeed</th>\n      <th id=\"T_4f732_level0_col14\" class=\"col_heading level0 col14\" >casual</th>\n      <th id=\"T_4f732_level0_col15\" class=\"col_heading level0 col15\" >registered</th>\n      <th id=\"T_4f732_level0_col16\" class=\"col_heading level0 col16\" >cnt</th>\n    </tr>\n  </thead>\n  <tbody>\n    <tr>\n      <th id=\"T_4f732_level0_row0\" class=\"row_heading level0 row0\" >instant</th>\n      <td id=\"T_4f732_row0_col0\" class=\"data row0 col0\" >1.000000</td>\n      <td id=\"T_4f732_row0_col1\" class=\"data row0 col1\" >0.999990</td>\n      <td id=\"T_4f732_row0_col2\" class=\"data row0 col2\" >0.133540</td>\n      <td id=\"T_4f732_row0_col3\" class=\"data row0 col3\" >0.766310</td>\n      <td id=\"T_4f732_row0_col4\" class=\"data row0 col4\" >0.187138</td>\n      <td id=\"T_4f732_row0_col5\" class=\"data row0 col5\" >-0.019501</td>\n      <td id=\"T_4f732_row0_col6\" class=\"data row0 col6\" >0.011120</td>\n      <td id=\"T_4f732_row0_col7\" class=\"data row0 col7\" >0.000339</td>\n      <td id=\"T_4f732_row0_col8\" class=\"data row0 col8\" >0.009109</td>\n      <td id=\"T_4f732_row0_col9\" class=\"data row0 col9\" >-0.006480</td>\n      <td id=\"T_4f732_row0_col10\" class=\"data row0 col10\" >0.016888</td>\n      <td id=\"T_4f732_row0_col11\" class=\"data row0 col11\" >0.029590</td>\n      <td id=\"T_4f732_row0_col12\" class=\"data row0 col12\" >0.006937</td>\n      <td id=\"T_4f732_row0_col13\" class=\"data row0 col13\" >-0.035348</td>\n      <td id=\"T_4f732_row0_col14\" class=\"data row0 col14\" >0.050472</td>\n      <td id=\"T_4f732_row0_col15\" class=\"data row0 col15\" >0.188989</td>\n      <td id=\"T_4f732_row0_col16\" class=\"data row0 col16\" >0.169354</td>\n    </tr>\n    <tr>\n      <th id=\"T_4f732_level0_row1\" class=\"row_heading level0 row1\" >dteday</th>\n      <td id=\"T_4f732_row1_col0\" class=\"data row1 col0\" >0.999990</td>\n      <td id=\"T_4f732_row1_col1\" class=\"data row1 col1\" >1.000000</td>\n      <td id=\"T_4f732_row1_col2\" class=\"data row1 col2\" >0.134788</td>\n      <td id=\"T_4f732_row1_col3\" class=\"data row1 col3\" >0.765476</td>\n      <td id=\"T_4f732_row1_col4\" class=\"data row1 col4\" >0.188414</td>\n      <td id=\"T_4f732_row1_col5\" class=\"data row1 col5\" >-0.021538</td>\n      <td id=\"T_4f732_row1_col6\" class=\"data row1 col6\" >0.011043</td>\n      <td id=\"T_4f732_row1_col7\" class=\"data row1 col7\" >0.000369</td>\n      <td id=\"T_4f732_row1_col8\" class=\"data row1 col8\" >0.009224</td>\n      <td id=\"T_4f732_row1_col9\" class=\"data row1 col9\" >-0.006356</td>\n      <td id=\"T_4f732_row1_col10\" class=\"data row1 col10\" >0.018124</td>\n      <td id=\"T_4f732_row1_col11\" class=\"data row1 col11\" >0.030837</td>\n      <td id=\"T_4f732_row1_col12\" class=\"data row1 col12\" >0.008005</td>\n      <td id=\"T_4f732_row1_col13\" class=\"data row1 col13\" >-0.035655</td>\n      <td id=\"T_4f732_row1_col14\" class=\"data row1 col14\" >0.050501</td>\n      <td id=\"T_4f732_row1_col15\" class=\"data row1 col15\" >0.188562</td>\n      <td id=\"T_4f732_row1_col16\" class=\"data row1 col16\" >0.169015</td>\n    </tr>\n    <tr>\n      <th id=\"T_4f732_level0_row2\" class=\"row_heading level0 row2\" >season</th>\n      <td id=\"T_4f732_row2_col0\" class=\"data row2 col0\" >0.133540</td>\n      <td id=\"T_4f732_row2_col1\" class=\"data row2 col1\" >0.134788</td>\n      <td id=\"T_4f732_row2_col2\" class=\"data row2 col2\" >1.000000</td>\n      <td id=\"T_4f732_row2_col3\" class=\"data row2 col3\" >-0.445753</td>\n      <td id=\"T_4f732_row2_col4\" class=\"data row2 col4\" >0.865038</td>\n      <td id=\"T_4f732_row2_col5\" class=\"data row2 col5\" >-0.009986</td>\n      <td id=\"T_4f732_row2_col6\" class=\"data row2 col6\" >-0.008955</td>\n      <td id=\"T_4f732_row2_col7\" class=\"data row2 col7\" >-0.001654</td>\n      <td id=\"T_4f732_row2_col8\" class=\"data row2 col8\" >0.008844</td>\n      <td id=\"T_4f732_row2_col9\" class=\"data row2 col9\" >-0.009781</td>\n      <td id=\"T_4f732_row2_col10\" class=\"data row2 col10\" >0.416090</td>\n      <td id=\"T_4f732_row2_col11\" class=\"data row2 col11\" >0.418673</td>\n      <td id=\"T_4f732_row2_col12\" class=\"data row2 col12\" >0.203253</td>\n      <td id=\"T_4f732_row2_col13\" class=\"data row2 col13\" >-0.145492</td>\n      <td id=\"T_4f732_row2_col14\" class=\"data row2 col14\" >0.149519</td>\n      <td id=\"T_4f732_row2_col15\" class=\"data row2 col15\" >0.120091</td>\n      <td id=\"T_4f732_row2_col16\" class=\"data row2 col16\" >0.142938</td>\n    </tr>\n    <tr>\n      <th id=\"T_4f732_level0_row3\" class=\"row_heading level0 row3\" >yr</th>\n      <td id=\"T_4f732_row3_col0\" class=\"data row3 col0\" >0.766310</td>\n      <td id=\"T_4f732_row3_col1\" class=\"data row3 col1\" >0.765476</td>\n      <td id=\"T_4f732_row3_col2\" class=\"data row3 col2\" >-0.445753</td>\n      <td id=\"T_4f732_row3_col3\" class=\"data row3 col3\" >1.000000</td>\n      <td id=\"T_4f732_row3_col4\" class=\"data row3 col4\" >-0.485470</td>\n      <td id=\"T_4f732_row3_col5\" class=\"data row3 col5\" >-0.014252</td>\n      <td id=\"T_4f732_row3_col6\" class=\"data row3 col6\" >0.003385</td>\n      <td id=\"T_4f732_row3_col7\" class=\"data row3 col7\" >-0.010972</td>\n      <td id=\"T_4f732_row3_col8\" class=\"data row3 col8\" >0.006386</td>\n      <td id=\"T_4f732_row3_col9\" class=\"data row3 col9\" >0.002918</td>\n      <td id=\"T_4f732_row3_col10\" class=\"data row3 col10\" >-0.219028</td>\n      <td id=\"T_4f732_row3_col11\" class=\"data row3 col11\" >-0.211143</td>\n      <td id=\"T_4f732_row3_col12\" class=\"data row3 col12\" >-0.127525</td>\n      <td id=\"T_4f732_row3_col13\" class=\"data row3 col13\" >0.064525</td>\n      <td id=\"T_4f732_row3_col14\" class=\"data row3 col14\" >-0.025580</td>\n      <td id=\"T_4f732_row3_col15\" class=\"data row3 col15\" >0.107920</td>\n      <td id=\"T_4f732_row3_col16\" class=\"data row3 col16\" >0.080346</td>\n    </tr>\n    <tr>\n      <th id=\"T_4f732_level0_row4\" class=\"row_heading level0 row4\" >mnth</th>\n      <td id=\"T_4f732_row4_col0\" class=\"data row4 col0\" >0.187138</td>\n      <td id=\"T_4f732_row4_col1\" class=\"data row4 col1\" >0.188414</td>\n      <td id=\"T_4f732_row4_col2\" class=\"data row4 col2\" >0.865038</td>\n      <td id=\"T_4f732_row4_col3\" class=\"data row4 col3\" >-0.485470</td>\n      <td id=\"T_4f732_row4_col4\" class=\"data row4 col4\" >1.000000</td>\n      <td id=\"T_4f732_row4_col5\" class=\"data row4 col5\" >-0.007621</td>\n      <td id=\"T_4f732_row4_col6\" class=\"data row4 col6\" >0.009399</td>\n      <td id=\"T_4f732_row4_col7\" class=\"data row4 col7\" >0.017690</td>\n      <td id=\"T_4f732_row4_col8\" class=\"data row4 col8\" >0.003408</td>\n      <td id=\"T_4f732_row4_col9\" class=\"data row4 col9\" >-0.014233</td>\n      <td id=\"T_4f732_row4_col10\" class=\"data row4 col10\" >0.358892</td>\n      <td id=\"T_4f732_row4_col11\" class=\"data row4 col11\" >0.364459</td>\n      <td id=\"T_4f732_row4_col12\" class=\"data row4 col12\" >0.202994</td>\n      <td id=\"T_4f732_row4_col13\" class=\"data row4 col13\" >-0.148268</td>\n      <td id=\"T_4f732_row4_col14\" class=\"data row4 col14\" >0.110119</td>\n      <td id=\"T_4f732_row4_col15\" class=\"data row4 col15\" >0.092796</td>\n      <td id=\"T_4f732_row4_col16\" class=\"data row4 col16\" >0.108821</td>\n    </tr>\n    <tr>\n      <th id=\"T_4f732_level0_row5\" class=\"row_heading level0 row5\" >hr</th>\n      <td id=\"T_4f732_row5_col0\" class=\"data row5 col0\" >-0.019501</td>\n      <td id=\"T_4f732_row5_col1\" class=\"data row5 col1\" >-0.021538</td>\n      <td id=\"T_4f732_row5_col2\" class=\"data row5 col2\" >-0.009986</td>\n      <td id=\"T_4f732_row5_col3\" class=\"data row5 col3\" >-0.014252</td>\n      <td id=\"T_4f732_row5_col4\" class=\"data row5 col4\" >-0.007621</td>\n      <td id=\"T_4f732_row5_col5\" class=\"data row5 col5\" >1.000000</td>\n      <td id=\"T_4f732_row5_col6\" class=\"data row5 col6\" >0.002896</td>\n      <td id=\"T_4f732_row5_col7\" class=\"data row5 col7\" >-0.003900</td>\n      <td id=\"T_4f732_row5_col8\" class=\"data row5 col8\" >-0.002728</td>\n      <td id=\"T_4f732_row5_col9\" class=\"data row5 col9\" >-0.016519</td>\n      <td id=\"T_4f732_row5_col10\" class=\"data row5 col10\" >0.121991</td>\n      <td id=\"T_4f732_row5_col11\" class=\"data row5 col11\" >0.117624</td>\n      <td id=\"T_4f732_row5_col12\" class=\"data row5 col12\" >-0.246387</td>\n      <td id=\"T_4f732_row5_col13\" class=\"data row5 col13\" >0.126903</td>\n      <td id=\"T_4f732_row5_col14\" class=\"data row5 col14\" >0.288766</td>\n      <td id=\"T_4f732_row5_col15\" class=\"data row5 col15\" >0.401109</td>\n      <td id=\"T_4f732_row5_col16\" class=\"data row5 col16\" >0.414068</td>\n    </tr>\n    <tr>\n      <th id=\"T_4f732_level0_row6\" class=\"row_heading level0 row6\" >holiday</th>\n      <td id=\"T_4f732_row6_col0\" class=\"data row6 col0\" >0.011120</td>\n      <td id=\"T_4f732_row6_col1\" class=\"data row6 col1\" >0.011043</td>\n      <td id=\"T_4f732_row6_col2\" class=\"data row6 col2\" >-0.008955</td>\n      <td id=\"T_4f732_row6_col3\" class=\"data row6 col3\" >0.003385</td>\n      <td id=\"T_4f732_row6_col4\" class=\"data row6 col4\" >0.009399</td>\n      <td id=\"T_4f732_row6_col5\" class=\"data row6 col5\" >0.002896</td>\n      <td id=\"T_4f732_row6_col6\" class=\"data row6 col6\" >1.000000</td>\n      <td id=\"T_4f732_row6_col7\" class=\"data row6 col7\" >-0.102413</td>\n      <td id=\"T_4f732_row6_col8\" class=\"data row6 col8\" >-0.249678</td>\n      <td id=\"T_4f732_row6_col9\" class=\"data row6 col9\" >-0.016681</td>\n      <td id=\"T_4f732_row6_col10\" class=\"data row6 col10\" >-0.026849</td>\n      <td id=\"T_4f732_row6_col11\" class=\"data row6 col11\" >-0.036218</td>\n      <td id=\"T_4f732_row6_col12\" class=\"data row6 col12\" >-0.040431</td>\n      <td id=\"T_4f732_row6_col13\" class=\"data row6 col13\" >0.022879</td>\n      <td id=\"T_4f732_row6_col14\" class=\"data row6 col14\" >0.035576</td>\n      <td id=\"T_4f732_row6_col15\" class=\"data row6 col15\" >-0.040860</td>\n      <td id=\"T_4f732_row6_col16\" class=\"data row6 col16\" >-0.022633</td>\n    </tr>\n    <tr>\n      <th id=\"T_4f732_level0_row7\" class=\"row_heading level0 row7\" >weekday</th>\n      <td id=\"T_4f732_row7_col0\" class=\"data row7 col0\" >0.000339</td>\n      <td id=\"T_4f732_row7_col1\" class=\"data row7 col1\" >0.000369</td>\n      <td id=\"T_4f732_row7_col2\" class=\"data row7 col2\" >-0.001654</td>\n      <td id=\"T_4f732_row7_col3\" class=\"data row7 col3\" >-0.010972</td>\n      <td id=\"T_4f732_row7_col4\" class=\"data row7 col4\" >0.017690</td>\n      <td id=\"T_4f732_row7_col5\" class=\"data row7 col5\" >-0.003900</td>\n      <td id=\"T_4f732_row7_col6\" class=\"data row7 col6\" >-0.102413</td>\n      <td id=\"T_4f732_row7_col7\" class=\"data row7 col7\" >1.000000</td>\n      <td id=\"T_4f732_row7_col8\" class=\"data row7 col8\" >0.037110</td>\n      <td id=\"T_4f732_row7_col9\" class=\"data row7 col9\" >0.017978</td>\n      <td id=\"T_4f732_row7_col10\" class=\"data row7 col10\" >-0.011323</td>\n      <td id=\"T_4f732_row7_col11\" class=\"data row7 col11\" >-0.011204</td>\n      <td id=\"T_4f732_row7_col12\" class=\"data row7 col12\" >-0.022309</td>\n      <td id=\"T_4f732_row7_col13\" class=\"data row7 col13\" >0.007094</td>\n      <td id=\"T_4f732_row7_col14\" class=\"data row7 col14\" >0.000526</td>\n      <td id=\"T_4f732_row7_col15\" class=\"data row7 col15\" >0.020741</td>\n      <td id=\"T_4f732_row7_col16\" class=\"data row7 col16\" >0.017078</td>\n    </tr>\n    <tr>\n      <th id=\"T_4f732_level0_row8\" class=\"row_heading level0 row8\" >workingday</th>\n      <td id=\"T_4f732_row8_col0\" class=\"data row8 col0\" >0.009109</td>\n      <td id=\"T_4f732_row8_col1\" class=\"data row8 col1\" >0.009224</td>\n      <td id=\"T_4f732_row8_col2\" class=\"data row8 col2\" >0.008844</td>\n      <td id=\"T_4f732_row8_col3\" class=\"data row8 col3\" >0.006386</td>\n      <td id=\"T_4f732_row8_col4\" class=\"data row8 col4\" >0.003408</td>\n      <td id=\"T_4f732_row8_col5\" class=\"data row8 col5\" >-0.002728</td>\n      <td id=\"T_4f732_row8_col6\" class=\"data row8 col6\" >-0.249678</td>\n      <td id=\"T_4f732_row8_col7\" class=\"data row8 col7\" >0.037110</td>\n      <td id=\"T_4f732_row8_col8\" class=\"data row8 col8\" >1.000000</td>\n      <td id=\"T_4f732_row8_col9\" class=\"data row8 col9\" >0.047333</td>\n      <td id=\"T_4f732_row8_col10\" class=\"data row8 col10\" >0.058859</td>\n      <td id=\"T_4f732_row8_col11\" class=\"data row8 col11\" >0.063085</td>\n      <td id=\"T_4f732_row8_col12\" class=\"data row8 col12\" >0.026247</td>\n      <td id=\"T_4f732_row8_col13\" class=\"data row8 col13\" >-0.005702</td>\n      <td id=\"T_4f732_row8_col14\" class=\"data row8 col14\" >-0.306209</td>\n      <td id=\"T_4f732_row8_col15\" class=\"data row8 col15\" >0.116744</td>\n      <td id=\"T_4f732_row8_col16\" class=\"data row8 col16\" >0.003142</td>\n    </tr>\n    <tr>\n      <th id=\"T_4f732_level0_row9\" class=\"row_heading level0 row9\" >weathersit</th>\n      <td id=\"T_4f732_row9_col0\" class=\"data row9 col0\" >-0.006480</td>\n      <td id=\"T_4f732_row9_col1\" class=\"data row9 col1\" >-0.006356</td>\n      <td id=\"T_4f732_row9_col2\" class=\"data row9 col2\" >-0.009781</td>\n      <td id=\"T_4f732_row9_col3\" class=\"data row9 col3\" >0.002918</td>\n      <td id=\"T_4f732_row9_col4\" class=\"data row9 col4\" >-0.014233</td>\n      <td id=\"T_4f732_row9_col5\" class=\"data row9 col5\" >-0.016519</td>\n      <td id=\"T_4f732_row9_col6\" class=\"data row9 col6\" >-0.016681</td>\n      <td id=\"T_4f732_row9_col7\" class=\"data row9 col7\" >0.017978</td>\n      <td id=\"T_4f732_row9_col8\" class=\"data row9 col8\" >0.047333</td>\n      <td id=\"T_4f732_row9_col9\" class=\"data row9 col9\" >1.000000</td>\n      <td id=\"T_4f732_row9_col10\" class=\"data row9 col10\" >-0.072074</td>\n      <td id=\"T_4f732_row9_col11\" class=\"data row9 col11\" >-0.073708</td>\n      <td id=\"T_4f732_row9_col12\" class=\"data row9 col12\" >0.429449</td>\n      <td id=\"T_4f732_row9_col13\" class=\"data row9 col13\" >0.012429</td>\n      <td id=\"T_4f732_row9_col14\" class=\"data row9 col14\" >-0.145627</td>\n      <td id=\"T_4f732_row9_col15\" class=\"data row9 col15\" >-0.114583</td>\n      <td id=\"T_4f732_row9_col16\" class=\"data row9 col16\" >-0.137274</td>\n    </tr>\n    <tr>\n      <th id=\"T_4f732_level0_row10\" class=\"row_heading level0 row10\" >temp</th>\n      <td id=\"T_4f732_row10_col0\" class=\"data row10 col0\" >0.016888</td>\n      <td id=\"T_4f732_row10_col1\" class=\"data row10 col1\" >0.018124</td>\n      <td id=\"T_4f732_row10_col2\" class=\"data row10 col2\" >0.416090</td>\n      <td id=\"T_4f732_row10_col3\" class=\"data row10 col3\" >-0.219028</td>\n      <td id=\"T_4f732_row10_col4\" class=\"data row10 col4\" >0.358892</td>\n      <td id=\"T_4f732_row10_col5\" class=\"data row10 col5\" >0.121991</td>\n      <td id=\"T_4f732_row10_col6\" class=\"data row10 col6\" >-0.026849</td>\n      <td id=\"T_4f732_row10_col7\" class=\"data row10 col7\" >-0.011323</td>\n      <td id=\"T_4f732_row10_col8\" class=\"data row10 col8\" >0.058859</td>\n      <td id=\"T_4f732_row10_col9\" class=\"data row10 col9\" >-0.072074</td>\n      <td id=\"T_4f732_row10_col10\" class=\"data row10 col10\" >1.000000</td>\n      <td id=\"T_4f732_row10_col11\" class=\"data row10 col11\" >0.991800</td>\n      <td id=\"T_4f732_row10_col12\" class=\"data row10 col12\" >0.002758</td>\n      <td id=\"T_4f732_row10_col13\" class=\"data row10 col13\" >-0.021316</td>\n      <td id=\"T_4f732_row10_col14\" class=\"data row10 col14\" >0.463085</td>\n      <td id=\"T_4f732_row10_col15\" class=\"data row10 col15\" >0.306567</td>\n      <td id=\"T_4f732_row10_col16\" class=\"data row10 col16\" >0.389372</td>\n    </tr>\n    <tr>\n      <th id=\"T_4f732_level0_row11\" class=\"row_heading level0 row11\" >atemp</th>\n      <td id=\"T_4f732_row11_col0\" class=\"data row11 col0\" >0.029590</td>\n      <td id=\"T_4f732_row11_col1\" class=\"data row11 col1\" >0.030837</td>\n      <td id=\"T_4f732_row11_col2\" class=\"data row11 col2\" >0.418673</td>\n      <td id=\"T_4f732_row11_col3\" class=\"data row11 col3\" >-0.211143</td>\n      <td id=\"T_4f732_row11_col4\" class=\"data row11 col4\" >0.364459</td>\n      <td id=\"T_4f732_row11_col5\" class=\"data row11 col5\" >0.117624</td>\n      <td id=\"T_4f732_row11_col6\" class=\"data row11 col6\" >-0.036218</td>\n      <td id=\"T_4f732_row11_col7\" class=\"data row11 col7\" >-0.011204</td>\n      <td id=\"T_4f732_row11_col8\" class=\"data row11 col8\" >0.063085</td>\n      <td id=\"T_4f732_row11_col9\" class=\"data row11 col9\" >-0.073708</td>\n      <td id=\"T_4f732_row11_col10\" class=\"data row11 col10\" >0.991800</td>\n      <td id=\"T_4f732_row11_col11\" class=\"data row11 col11\" >1.000000</td>\n      <td id=\"T_4f732_row11_col12\" class=\"data row11 col12\" >0.017815</td>\n      <td id=\"T_4f732_row11_col13\" class=\"data row11 col13\" >-0.065954</td>\n      <td id=\"T_4f732_row11_col14\" class=\"data row11 col14\" >0.459804</td>\n      <td id=\"T_4f732_row11_col15\" class=\"data row11 col15\" >0.307264</td>\n      <td id=\"T_4f732_row11_col16\" class=\"data row11 col16\" >0.388953</td>\n    </tr>\n    <tr>\n      <th id=\"T_4f732_level0_row12\" class=\"row_heading level0 row12\" >hum</th>\n      <td id=\"T_4f732_row12_col0\" class=\"data row12 col0\" >0.006937</td>\n      <td id=\"T_4f732_row12_col1\" class=\"data row12 col1\" >0.008005</td>\n      <td id=\"T_4f732_row12_col2\" class=\"data row12 col2\" >0.203253</td>\n      <td id=\"T_4f732_row12_col3\" class=\"data row12 col3\" >-0.127525</td>\n      <td id=\"T_4f732_row12_col4\" class=\"data row12 col4\" >0.202994</td>\n      <td id=\"T_4f732_row12_col5\" class=\"data row12 col5\" >-0.246387</td>\n      <td id=\"T_4f732_row12_col6\" class=\"data row12 col6\" >-0.040431</td>\n      <td id=\"T_4f732_row12_col7\" class=\"data row12 col7\" >-0.022309</td>\n      <td id=\"T_4f732_row12_col8\" class=\"data row12 col8\" >0.026247</td>\n      <td id=\"T_4f732_row12_col9\" class=\"data row12 col9\" >0.429449</td>\n      <td id=\"T_4f732_row12_col10\" class=\"data row12 col10\" >0.002758</td>\n      <td id=\"T_4f732_row12_col11\" class=\"data row12 col11\" >0.017815</td>\n      <td id=\"T_4f732_row12_col12\" class=\"data row12 col12\" >1.000000</td>\n      <td id=\"T_4f732_row12_col13\" class=\"data row12 col13\" >-0.292646</td>\n      <td id=\"T_4f732_row12_col14\" class=\"data row12 col14\" >-0.283980</td>\n      <td id=\"T_4f732_row12_col15\" class=\"data row12 col15\" >-0.247572</td>\n      <td id=\"T_4f732_row12_col16\" class=\"data row12 col16\" >-0.287376</td>\n    </tr>\n    <tr>\n      <th id=\"T_4f732_level0_row13\" class=\"row_heading level0 row13\" >windspeed</th>\n      <td id=\"T_4f732_row13_col0\" class=\"data row13 col0\" >-0.035348</td>\n      <td id=\"T_4f732_row13_col1\" class=\"data row13 col1\" >-0.035655</td>\n      <td id=\"T_4f732_row13_col2\" class=\"data row13 col2\" >-0.145492</td>\n      <td id=\"T_4f732_row13_col3\" class=\"data row13 col3\" >0.064525</td>\n      <td id=\"T_4f732_row13_col4\" class=\"data row13 col4\" >-0.148268</td>\n      <td id=\"T_4f732_row13_col5\" class=\"data row13 col5\" >0.126903</td>\n      <td id=\"T_4f732_row13_col6\" class=\"data row13 col6\" >0.022879</td>\n      <td id=\"T_4f732_row13_col7\" class=\"data row13 col7\" >0.007094</td>\n      <td id=\"T_4f732_row13_col8\" class=\"data row13 col8\" >-0.005702</td>\n      <td id=\"T_4f732_row13_col9\" class=\"data row13 col9\" >0.012429</td>\n      <td id=\"T_4f732_row13_col10\" class=\"data row13 col10\" >-0.021316</td>\n      <td id=\"T_4f732_row13_col11\" class=\"data row13 col11\" >-0.065954</td>\n      <td id=\"T_4f732_row13_col12\" class=\"data row13 col12\" >-0.292646</td>\n      <td id=\"T_4f732_row13_col13\" class=\"data row13 col13\" >1.000000</td>\n      <td id=\"T_4f732_row13_col14\" class=\"data row13 col14\" >0.065815</td>\n      <td id=\"T_4f732_row13_col15\" class=\"data row13 col15\" >0.087218</td>\n      <td id=\"T_4f732_row13_col16\" class=\"data row13 col16\" >0.090946</td>\n    </tr>\n    <tr>\n      <th id=\"T_4f732_level0_row14\" class=\"row_heading level0 row14\" >casual</th>\n      <td id=\"T_4f732_row14_col0\" class=\"data row14 col0\" >0.050472</td>\n      <td id=\"T_4f732_row14_col1\" class=\"data row14 col1\" >0.050501</td>\n      <td id=\"T_4f732_row14_col2\" class=\"data row14 col2\" >0.149519</td>\n      <td id=\"T_4f732_row14_col3\" class=\"data row14 col3\" >-0.025580</td>\n      <td id=\"T_4f732_row14_col4\" class=\"data row14 col4\" >0.110119</td>\n      <td id=\"T_4f732_row14_col5\" class=\"data row14 col5\" >0.288766</td>\n      <td id=\"T_4f732_row14_col6\" class=\"data row14 col6\" >0.035576</td>\n      <td id=\"T_4f732_row14_col7\" class=\"data row14 col7\" >0.000526</td>\n      <td id=\"T_4f732_row14_col8\" class=\"data row14 col8\" >-0.306209</td>\n      <td id=\"T_4f732_row14_col9\" class=\"data row14 col9\" >-0.145627</td>\n      <td id=\"T_4f732_row14_col10\" class=\"data row14 col10\" >0.463085</td>\n      <td id=\"T_4f732_row14_col11\" class=\"data row14 col11\" >0.459804</td>\n      <td id=\"T_4f732_row14_col12\" class=\"data row14 col12\" >-0.283980</td>\n      <td id=\"T_4f732_row14_col13\" class=\"data row14 col13\" >0.065815</td>\n      <td id=\"T_4f732_row14_col14\" class=\"data row14 col14\" >1.000000</td>\n      <td id=\"T_4f732_row14_col15\" class=\"data row14 col15\" >0.497309</td>\n      <td id=\"T_4f732_row14_col16\" class=\"data row14 col16\" >0.706460</td>\n    </tr>\n    <tr>\n      <th id=\"T_4f732_level0_row15\" class=\"row_heading level0 row15\" >registered</th>\n      <td id=\"T_4f732_row15_col0\" class=\"data row15 col0\" >0.188989</td>\n      <td id=\"T_4f732_row15_col1\" class=\"data row15 col1\" >0.188562</td>\n      <td id=\"T_4f732_row15_col2\" class=\"data row15 col2\" >0.120091</td>\n      <td id=\"T_4f732_row15_col3\" class=\"data row15 col3\" >0.107920</td>\n      <td id=\"T_4f732_row15_col4\" class=\"data row15 col4\" >0.092796</td>\n      <td id=\"T_4f732_row15_col5\" class=\"data row15 col5\" >0.401109</td>\n      <td id=\"T_4f732_row15_col6\" class=\"data row15 col6\" >-0.040860</td>\n      <td id=\"T_4f732_row15_col7\" class=\"data row15 col7\" >0.020741</td>\n      <td id=\"T_4f732_row15_col8\" class=\"data row15 col8\" >0.116744</td>\n      <td id=\"T_4f732_row15_col9\" class=\"data row15 col9\" >-0.114583</td>\n      <td id=\"T_4f732_row15_col10\" class=\"data row15 col10\" >0.306567</td>\n      <td id=\"T_4f732_row15_col11\" class=\"data row15 col11\" >0.307264</td>\n      <td id=\"T_4f732_row15_col12\" class=\"data row15 col12\" >-0.247572</td>\n      <td id=\"T_4f732_row15_col13\" class=\"data row15 col13\" >0.087218</td>\n      <td id=\"T_4f732_row15_col14\" class=\"data row15 col14\" >0.497309</td>\n      <td id=\"T_4f732_row15_col15\" class=\"data row15 col15\" >1.000000</td>\n      <td id=\"T_4f732_row15_col16\" class=\"data row15 col16\" >0.965356</td>\n    </tr>\n    <tr>\n      <th id=\"T_4f732_level0_row16\" class=\"row_heading level0 row16\" >cnt</th>\n      <td id=\"T_4f732_row16_col0\" class=\"data row16 col0\" >0.169354</td>\n      <td id=\"T_4f732_row16_col1\" class=\"data row16 col1\" >0.169015</td>\n      <td id=\"T_4f732_row16_col2\" class=\"data row16 col2\" >0.142938</td>\n      <td id=\"T_4f732_row16_col3\" class=\"data row16 col3\" >0.080346</td>\n      <td id=\"T_4f732_row16_col4\" class=\"data row16 col4\" >0.108821</td>\n      <td id=\"T_4f732_row16_col5\" class=\"data row16 col5\" >0.414068</td>\n      <td id=\"T_4f732_row16_col6\" class=\"data row16 col6\" >-0.022633</td>\n      <td id=\"T_4f732_row16_col7\" class=\"data row16 col7\" >0.017078</td>\n      <td id=\"T_4f732_row16_col8\" class=\"data row16 col8\" >0.003142</td>\n      <td id=\"T_4f732_row16_col9\" class=\"data row16 col9\" >-0.137274</td>\n      <td id=\"T_4f732_row16_col10\" class=\"data row16 col10\" >0.389372</td>\n      <td id=\"T_4f732_row16_col11\" class=\"data row16 col11\" >0.388953</td>\n      <td id=\"T_4f732_row16_col12\" class=\"data row16 col12\" >-0.287376</td>\n      <td id=\"T_4f732_row16_col13\" class=\"data row16 col13\" >0.090946</td>\n      <td id=\"T_4f732_row16_col14\" class=\"data row16 col14\" >0.706460</td>\n      <td id=\"T_4f732_row16_col15\" class=\"data row16 col15\" >0.965356</td>\n      <td id=\"T_4f732_row16_col16\" class=\"data row16 col16\" >1.000000</td>\n    </tr>\n  </tbody>\n</table>\n"
     },
     "execution_count": 139,
     "metadata": {},
     "output_type": "execute_result"
    }
   ],
   "source": [
    "train.corr().style.background_gradient(cmap='Greens')"
   ],
   "metadata": {
    "collapsed": false,
    "pycharm": {
     "name": "#%%\n"
    }
   }
  },
  {
   "cell_type": "markdown",
   "source": [
    "A partir de lo observado se decide utilizar las features que aparecen a continuación y definir como variable objetivo la cantidad de bicicletas rentadas"
   ],
   "metadata": {
    "collapsed": false,
    "pycharm": {
     "name": "#%% md\n"
    }
   }
  },
  {
   "cell_type": "code",
   "execution_count": 15,
   "outputs": [],
   "source": [
    "x = train.drop(columns=['cnt', 'registered', 'casual', 'temp', 'mnth', 'yr', 'dteday'])\n",
    "y = train.cnt\n",
    "x_predecir = test.drop(columns=['temp', 'mnth', 'yr', 'dteday'])"
   ],
   "metadata": {
    "collapsed": false,
    "pycharm": {
     "name": "#%%\n"
    }
   }
  },
  {
   "cell_type": "markdown",
   "source": [
    "Se dividen estos datos para poder realizar pruebas en cada uno de los modelos"
   ],
   "metadata": {
    "collapsed": false,
    "pycharm": {
     "name": "#%% md\n"
    }
   }
  },
  {
   "cell_type": "code",
   "execution_count": 16,
   "outputs": [],
   "source": [
    "x_train, x_test, y_train, y_test = train_test_split(x, y, test_size=0.2)"
   ],
   "metadata": {
    "collapsed": false,
    "pycharm": {
     "name": "#%%\n"
    }
   }
  },
  {
   "cell_type": "markdown",
   "source": [
    "### Se presentan análisis sobre disitintas soluciones o modelos para definir cuál es el que presenta un menor RMSE"
   ],
   "metadata": {
    "collapsed": false,
    "pycharm": {
     "name": "#%% md\n"
    }
   }
  },
  {
   "cell_type": "markdown",
   "source": [
    "#### Regresión Lineal Polinomial"
   ],
   "metadata": {
    "collapsed": false,
    "pycharm": {
     "name": "#%% md\n"
    }
   }
  },
  {
   "cell_type": "code",
   "execution_count": 41,
   "outputs": [
    {
     "data": {
      "text/plain": "LinearRegression()",
      "text/html": "<style>#sk-container-id-5 {color: black;background-color: white;}#sk-container-id-5 pre{padding: 0;}#sk-container-id-5 div.sk-toggleable {background-color: white;}#sk-container-id-5 label.sk-toggleable__label {cursor: pointer;display: block;width: 100%;margin-bottom: 0;padding: 0.3em;box-sizing: border-box;text-align: center;}#sk-container-id-5 label.sk-toggleable__label-arrow:before {content: \"▸\";float: left;margin-right: 0.25em;color: #696969;}#sk-container-id-5 label.sk-toggleable__label-arrow:hover:before {color: black;}#sk-container-id-5 div.sk-estimator:hover label.sk-toggleable__label-arrow:before {color: black;}#sk-container-id-5 div.sk-toggleable__content {max-height: 0;max-width: 0;overflow: hidden;text-align: left;background-color: #f0f8ff;}#sk-container-id-5 div.sk-toggleable__content pre {margin: 0.2em;color: black;border-radius: 0.25em;background-color: #f0f8ff;}#sk-container-id-5 input.sk-toggleable__control:checked~div.sk-toggleable__content {max-height: 200px;max-width: 100%;overflow: auto;}#sk-container-id-5 input.sk-toggleable__control:checked~label.sk-toggleable__label-arrow:before {content: \"▾\";}#sk-container-id-5 div.sk-estimator input.sk-toggleable__control:checked~label.sk-toggleable__label {background-color: #d4ebff;}#sk-container-id-5 div.sk-label input.sk-toggleable__control:checked~label.sk-toggleable__label {background-color: #d4ebff;}#sk-container-id-5 input.sk-hidden--visually {border: 0;clip: rect(1px 1px 1px 1px);clip: rect(1px, 1px, 1px, 1px);height: 1px;margin: -1px;overflow: hidden;padding: 0;position: absolute;width: 1px;}#sk-container-id-5 div.sk-estimator {font-family: monospace;background-color: #f0f8ff;border: 1px dotted black;border-radius: 0.25em;box-sizing: border-box;margin-bottom: 0.5em;}#sk-container-id-5 div.sk-estimator:hover {background-color: #d4ebff;}#sk-container-id-5 div.sk-parallel-item::after {content: \"\";width: 100%;border-bottom: 1px solid gray;flex-grow: 1;}#sk-container-id-5 div.sk-label:hover label.sk-toggleable__label {background-color: #d4ebff;}#sk-container-id-5 div.sk-serial::before {content: \"\";position: absolute;border-left: 1px solid gray;box-sizing: border-box;top: 0;bottom: 0;left: 50%;z-index: 0;}#sk-container-id-5 div.sk-serial {display: flex;flex-direction: column;align-items: center;background-color: white;padding-right: 0.2em;padding-left: 0.2em;position: relative;}#sk-container-id-5 div.sk-item {position: relative;z-index: 1;}#sk-container-id-5 div.sk-parallel {display: flex;align-items: stretch;justify-content: center;background-color: white;position: relative;}#sk-container-id-5 div.sk-item::before, #sk-container-id-5 div.sk-parallel-item::before {content: \"\";position: absolute;border-left: 1px solid gray;box-sizing: border-box;top: 0;bottom: 0;left: 50%;z-index: -1;}#sk-container-id-5 div.sk-parallel-item {display: flex;flex-direction: column;z-index: 1;position: relative;background-color: white;}#sk-container-id-5 div.sk-parallel-item:first-child::after {align-self: flex-end;width: 50%;}#sk-container-id-5 div.sk-parallel-item:last-child::after {align-self: flex-start;width: 50%;}#sk-container-id-5 div.sk-parallel-item:only-child::after {width: 0;}#sk-container-id-5 div.sk-dashed-wrapped {border: 1px dashed gray;margin: 0 0.4em 0.5em 0.4em;box-sizing: border-box;padding-bottom: 0.4em;background-color: white;}#sk-container-id-5 div.sk-label label {font-family: monospace;font-weight: bold;display: inline-block;line-height: 1.2em;}#sk-container-id-5 div.sk-label-container {text-align: center;}#sk-container-id-5 div.sk-container {/* jupyter's `normalize.less` sets `[hidden] { display: none; }` but bootstrap.min.css set `[hidden] { display: none !important; }` so we also need the `!important` here to be able to override the default hidden behavior on the sphinx rendered scikit-learn.org. See: https://github.com/scikit-learn/scikit-learn/issues/21755 */display: inline-block !important;position: relative;}#sk-container-id-5 div.sk-text-repr-fallback {display: none;}</style><div id=\"sk-container-id-5\" class=\"sk-top-container\"><div class=\"sk-text-repr-fallback\"><pre>LinearRegression()</pre><b>In a Jupyter environment, please rerun this cell to show the HTML representation or trust the notebook. <br />On GitHub, the HTML representation is unable to render, please try loading this page with nbviewer.org.</b></div><div class=\"sk-container\" hidden><div class=\"sk-item\"><div class=\"sk-estimator sk-toggleable\"><input class=\"sk-toggleable__control sk-hidden--visually\" id=\"sk-estimator-id-11\" type=\"checkbox\" checked><label for=\"sk-estimator-id-11\" class=\"sk-toggleable__label sk-toggleable__label-arrow\">LinearRegression</label><div class=\"sk-toggleable__content\"><pre>LinearRegression()</pre></div></div></div></div></div>"
     },
     "execution_count": 41,
     "metadata": {},
     "output_type": "execute_result"
    }
   ],
   "source": [
    "poly_reg=PolynomialFeatures(degree=4)\n",
    "X_poly=poly_reg.fit_transform(x_train)\n",
    "poly_reg.fit(X_poly,y_train)\n",
    "model_rlp=LinearRegression()\n",
    "model_rlp.fit(X_poly,y_train)"
   ],
   "metadata": {
    "collapsed": false,
    "pycharm": {
     "name": "#%%\n"
    }
   }
  },
  {
   "cell_type": "code",
   "execution_count": 46,
   "outputs": [
    {
     "data": {
      "text/plain": "(9599, 10)"
     },
     "execution_count": 46,
     "metadata": {},
     "output_type": "execute_result"
    }
   ],
   "source": [
    "x_train.shape"
   ],
   "metadata": {
    "collapsed": false,
    "pycharm": {
     "name": "#%%\n"
    }
   }
  },
  {
   "cell_type": "code",
   "execution_count": 47,
   "outputs": [],
   "source": [
    "y_pred = model_rlp.predict(poly_reg.fit_transform(x_test))"
   ],
   "metadata": {
    "collapsed": false,
    "pycharm": {
     "name": "#%%\n"
    }
   }
  },
  {
   "cell_type": "code",
   "execution_count": 48,
   "outputs": [
    {
     "data": {
      "text/plain": "101.54667410334622"
     },
     "execution_count": 48,
     "metadata": {},
     "output_type": "execute_result"
    }
   ],
   "source": [
    "RMSE_rlp = math.sqrt(mean_squared_error(y_test, y_pred))\n",
    "RMSE_rlp"
   ],
   "metadata": {
    "collapsed": false,
    "pycharm": {
     "name": "#%%\n"
    }
   }
  },
  {
   "cell_type": "markdown",
   "source": [
    "#### Decision Tree Regresor"
   ],
   "metadata": {
    "collapsed": false,
    "pycharm": {
     "name": "#%% md\n"
    }
   }
  },
  {
   "cell_type": "code",
   "execution_count": 93,
   "outputs": [],
   "source": [
    "tree_para = {'criterion':['squared_error']}\n",
    "model_dtr = GridSearchCV(DecisionTreeRegressor(), tree_para, cv=5)"
   ],
   "metadata": {
    "collapsed": false,
    "pycharm": {
     "name": "#%%\n"
    }
   }
  },
  {
   "cell_type": "code",
   "execution_count": 94,
   "outputs": [
    {
     "data": {
      "text/plain": "GridSearchCV(cv=5, estimator=DecisionTreeRegressor(),\n             param_grid={'criterion': ['squared_error']})",
      "text/html": "<style>#sk-container-id-16 {color: black;background-color: white;}#sk-container-id-16 pre{padding: 0;}#sk-container-id-16 div.sk-toggleable {background-color: white;}#sk-container-id-16 label.sk-toggleable__label {cursor: pointer;display: block;width: 100%;margin-bottom: 0;padding: 0.3em;box-sizing: border-box;text-align: center;}#sk-container-id-16 label.sk-toggleable__label-arrow:before {content: \"▸\";float: left;margin-right: 0.25em;color: #696969;}#sk-container-id-16 label.sk-toggleable__label-arrow:hover:before {color: black;}#sk-container-id-16 div.sk-estimator:hover label.sk-toggleable__label-arrow:before {color: black;}#sk-container-id-16 div.sk-toggleable__content {max-height: 0;max-width: 0;overflow: hidden;text-align: left;background-color: #f0f8ff;}#sk-container-id-16 div.sk-toggleable__content pre {margin: 0.2em;color: black;border-radius: 0.25em;background-color: #f0f8ff;}#sk-container-id-16 input.sk-toggleable__control:checked~div.sk-toggleable__content {max-height: 200px;max-width: 100%;overflow: auto;}#sk-container-id-16 input.sk-toggleable__control:checked~label.sk-toggleable__label-arrow:before {content: \"▾\";}#sk-container-id-16 div.sk-estimator input.sk-toggleable__control:checked~label.sk-toggleable__label {background-color: #d4ebff;}#sk-container-id-16 div.sk-label input.sk-toggleable__control:checked~label.sk-toggleable__label {background-color: #d4ebff;}#sk-container-id-16 input.sk-hidden--visually {border: 0;clip: rect(1px 1px 1px 1px);clip: rect(1px, 1px, 1px, 1px);height: 1px;margin: -1px;overflow: hidden;padding: 0;position: absolute;width: 1px;}#sk-container-id-16 div.sk-estimator {font-family: monospace;background-color: #f0f8ff;border: 1px dotted black;border-radius: 0.25em;box-sizing: border-box;margin-bottom: 0.5em;}#sk-container-id-16 div.sk-estimator:hover {background-color: #d4ebff;}#sk-container-id-16 div.sk-parallel-item::after {content: \"\";width: 100%;border-bottom: 1px solid gray;flex-grow: 1;}#sk-container-id-16 div.sk-label:hover label.sk-toggleable__label {background-color: #d4ebff;}#sk-container-id-16 div.sk-serial::before {content: \"\";position: absolute;border-left: 1px solid gray;box-sizing: border-box;top: 0;bottom: 0;left: 50%;z-index: 0;}#sk-container-id-16 div.sk-serial {display: flex;flex-direction: column;align-items: center;background-color: white;padding-right: 0.2em;padding-left: 0.2em;position: relative;}#sk-container-id-16 div.sk-item {position: relative;z-index: 1;}#sk-container-id-16 div.sk-parallel {display: flex;align-items: stretch;justify-content: center;background-color: white;position: relative;}#sk-container-id-16 div.sk-item::before, #sk-container-id-16 div.sk-parallel-item::before {content: \"\";position: absolute;border-left: 1px solid gray;box-sizing: border-box;top: 0;bottom: 0;left: 50%;z-index: -1;}#sk-container-id-16 div.sk-parallel-item {display: flex;flex-direction: column;z-index: 1;position: relative;background-color: white;}#sk-container-id-16 div.sk-parallel-item:first-child::after {align-self: flex-end;width: 50%;}#sk-container-id-16 div.sk-parallel-item:last-child::after {align-self: flex-start;width: 50%;}#sk-container-id-16 div.sk-parallel-item:only-child::after {width: 0;}#sk-container-id-16 div.sk-dashed-wrapped {border: 1px dashed gray;margin: 0 0.4em 0.5em 0.4em;box-sizing: border-box;padding-bottom: 0.4em;background-color: white;}#sk-container-id-16 div.sk-label label {font-family: monospace;font-weight: bold;display: inline-block;line-height: 1.2em;}#sk-container-id-16 div.sk-label-container {text-align: center;}#sk-container-id-16 div.sk-container {/* jupyter's `normalize.less` sets `[hidden] { display: none; }` but bootstrap.min.css set `[hidden] { display: none !important; }` so we also need the `!important` here to be able to override the default hidden behavior on the sphinx rendered scikit-learn.org. See: https://github.com/scikit-learn/scikit-learn/issues/21755 */display: inline-block !important;position: relative;}#sk-container-id-16 div.sk-text-repr-fallback {display: none;}</style><div id=\"sk-container-id-16\" class=\"sk-top-container\"><div class=\"sk-text-repr-fallback\"><pre>GridSearchCV(cv=5, estimator=DecisionTreeRegressor(),\n             param_grid={&#x27;criterion&#x27;: [&#x27;squared_error&#x27;]})</pre><b>In a Jupyter environment, please rerun this cell to show the HTML representation or trust the notebook. <br />On GitHub, the HTML representation is unable to render, please try loading this page with nbviewer.org.</b></div><div class=\"sk-container\" hidden><div class=\"sk-item sk-dashed-wrapped\"><div class=\"sk-label-container\"><div class=\"sk-label sk-toggleable\"><input class=\"sk-toggleable__control sk-hidden--visually\" id=\"sk-estimator-id-46\" type=\"checkbox\" ><label for=\"sk-estimator-id-46\" class=\"sk-toggleable__label sk-toggleable__label-arrow\">GridSearchCV</label><div class=\"sk-toggleable__content\"><pre>GridSearchCV(cv=5, estimator=DecisionTreeRegressor(),\n             param_grid={&#x27;criterion&#x27;: [&#x27;squared_error&#x27;]})</pre></div></div></div><div class=\"sk-parallel\"><div class=\"sk-parallel-item\"><div class=\"sk-item\"><div class=\"sk-label-container\"><div class=\"sk-label sk-toggleable\"><input class=\"sk-toggleable__control sk-hidden--visually\" id=\"sk-estimator-id-47\" type=\"checkbox\" ><label for=\"sk-estimator-id-47\" class=\"sk-toggleable__label sk-toggleable__label-arrow\">estimator: DecisionTreeRegressor</label><div class=\"sk-toggleable__content\"><pre>DecisionTreeRegressor()</pre></div></div></div><div class=\"sk-serial\"><div class=\"sk-item\"><div class=\"sk-estimator sk-toggleable\"><input class=\"sk-toggleable__control sk-hidden--visually\" id=\"sk-estimator-id-48\" type=\"checkbox\" ><label for=\"sk-estimator-id-48\" class=\"sk-toggleable__label sk-toggleable__label-arrow\">DecisionTreeRegressor</label><div class=\"sk-toggleable__content\"><pre>DecisionTreeRegressor()</pre></div></div></div></div></div></div></div></div></div></div>"
     },
     "execution_count": 94,
     "metadata": {},
     "output_type": "execute_result"
    }
   ],
   "source": [
    "model_dtr.fit(x_train, y_train)"
   ],
   "metadata": {
    "collapsed": false,
    "pycharm": {
     "name": "#%%\n"
    }
   }
  },
  {
   "cell_type": "code",
   "execution_count": 95,
   "outputs": [
    {
     "data": {
      "text/plain": "{'mean_fit_time': array([0.03177729]),\n 'std_fit_time': array([0.00891469]),\n 'mean_score_time': array([0.00153542]),\n 'std_score_time': array([2.20343144e-05]),\n 'param_criterion': masked_array(data=['squared_error'],\n              mask=[False],\n        fill_value='?',\n             dtype=object),\n 'params': [{'criterion': 'squared_error'}],\n 'split0_test_score': array([0.86275722]),\n 'split1_test_score': array([0.88690157]),\n 'split2_test_score': array([0.88518543]),\n 'split3_test_score': array([0.88076273]),\n 'split4_test_score': array([0.88393372]),\n 'mean_test_score': array([0.87990813]),\n 'std_test_score': array([0.00880735]),\n 'rank_test_score': array([1], dtype=int32)}"
     },
     "execution_count": 95,
     "metadata": {},
     "output_type": "execute_result"
    }
   ],
   "source": [
    "model_dtr.cv_results_"
   ],
   "metadata": {
    "collapsed": false,
    "pycharm": {
     "name": "#%%\n"
    }
   }
  },
  {
   "cell_type": "code",
   "execution_count": 96,
   "outputs": [
    {
     "data": {
      "text/plain": "49.651590273290005"
     },
     "execution_count": 96,
     "metadata": {},
     "output_type": "execute_result"
    }
   ],
   "source": [
    "y_pred = model_dtr.predict(x_test)\n",
    "RMSE_dtr = math.sqrt(mean_squared_error(y_test, y_pred))\n",
    "RMSE_dtr"
   ],
   "metadata": {
    "collapsed": false,
    "pycharm": {
     "name": "#%%\n"
    }
   }
  },
  {
   "cell_type": "markdown",
   "source": [
    "#### Random Forest Regresor"
   ],
   "metadata": {
    "collapsed": false,
    "pycharm": {
     "name": "#%% md\n"
    }
   }
  },
  {
   "cell_type": "code",
   "execution_count": 63,
   "outputs": [],
   "source": [
    "randomf_para = {'criterion':['squared_error'],}\n",
    "model_rfr = GridSearchCV(RandomForestRegressor(), randomf_para, cv=5)"
   ],
   "metadata": {
    "collapsed": false,
    "pycharm": {
     "name": "#%%\n"
    }
   }
  },
  {
   "cell_type": "code",
   "execution_count": 64,
   "outputs": [
    {
     "data": {
      "text/plain": "GridSearchCV(cv=5, estimator=RandomForestRegressor(),\n             param_grid={'bootstrap': [True, False],\n                         'criterion': ['squared_error']})",
      "text/html": "<style>#sk-container-id-9 {color: black;background-color: white;}#sk-container-id-9 pre{padding: 0;}#sk-container-id-9 div.sk-toggleable {background-color: white;}#sk-container-id-9 label.sk-toggleable__label {cursor: pointer;display: block;width: 100%;margin-bottom: 0;padding: 0.3em;box-sizing: border-box;text-align: center;}#sk-container-id-9 label.sk-toggleable__label-arrow:before {content: \"▸\";float: left;margin-right: 0.25em;color: #696969;}#sk-container-id-9 label.sk-toggleable__label-arrow:hover:before {color: black;}#sk-container-id-9 div.sk-estimator:hover label.sk-toggleable__label-arrow:before {color: black;}#sk-container-id-9 div.sk-toggleable__content {max-height: 0;max-width: 0;overflow: hidden;text-align: left;background-color: #f0f8ff;}#sk-container-id-9 div.sk-toggleable__content pre {margin: 0.2em;color: black;border-radius: 0.25em;background-color: #f0f8ff;}#sk-container-id-9 input.sk-toggleable__control:checked~div.sk-toggleable__content {max-height: 200px;max-width: 100%;overflow: auto;}#sk-container-id-9 input.sk-toggleable__control:checked~label.sk-toggleable__label-arrow:before {content: \"▾\";}#sk-container-id-9 div.sk-estimator input.sk-toggleable__control:checked~label.sk-toggleable__label {background-color: #d4ebff;}#sk-container-id-9 div.sk-label input.sk-toggleable__control:checked~label.sk-toggleable__label {background-color: #d4ebff;}#sk-container-id-9 input.sk-hidden--visually {border: 0;clip: rect(1px 1px 1px 1px);clip: rect(1px, 1px, 1px, 1px);height: 1px;margin: -1px;overflow: hidden;padding: 0;position: absolute;width: 1px;}#sk-container-id-9 div.sk-estimator {font-family: monospace;background-color: #f0f8ff;border: 1px dotted black;border-radius: 0.25em;box-sizing: border-box;margin-bottom: 0.5em;}#sk-container-id-9 div.sk-estimator:hover {background-color: #d4ebff;}#sk-container-id-9 div.sk-parallel-item::after {content: \"\";width: 100%;border-bottom: 1px solid gray;flex-grow: 1;}#sk-container-id-9 div.sk-label:hover label.sk-toggleable__label {background-color: #d4ebff;}#sk-container-id-9 div.sk-serial::before {content: \"\";position: absolute;border-left: 1px solid gray;box-sizing: border-box;top: 0;bottom: 0;left: 50%;z-index: 0;}#sk-container-id-9 div.sk-serial {display: flex;flex-direction: column;align-items: center;background-color: white;padding-right: 0.2em;padding-left: 0.2em;position: relative;}#sk-container-id-9 div.sk-item {position: relative;z-index: 1;}#sk-container-id-9 div.sk-parallel {display: flex;align-items: stretch;justify-content: center;background-color: white;position: relative;}#sk-container-id-9 div.sk-item::before, #sk-container-id-9 div.sk-parallel-item::before {content: \"\";position: absolute;border-left: 1px solid gray;box-sizing: border-box;top: 0;bottom: 0;left: 50%;z-index: -1;}#sk-container-id-9 div.sk-parallel-item {display: flex;flex-direction: column;z-index: 1;position: relative;background-color: white;}#sk-container-id-9 div.sk-parallel-item:first-child::after {align-self: flex-end;width: 50%;}#sk-container-id-9 div.sk-parallel-item:last-child::after {align-self: flex-start;width: 50%;}#sk-container-id-9 div.sk-parallel-item:only-child::after {width: 0;}#sk-container-id-9 div.sk-dashed-wrapped {border: 1px dashed gray;margin: 0 0.4em 0.5em 0.4em;box-sizing: border-box;padding-bottom: 0.4em;background-color: white;}#sk-container-id-9 div.sk-label label {font-family: monospace;font-weight: bold;display: inline-block;line-height: 1.2em;}#sk-container-id-9 div.sk-label-container {text-align: center;}#sk-container-id-9 div.sk-container {/* jupyter's `normalize.less` sets `[hidden] { display: none; }` but bootstrap.min.css set `[hidden] { display: none !important; }` so we also need the `!important` here to be able to override the default hidden behavior on the sphinx rendered scikit-learn.org. See: https://github.com/scikit-learn/scikit-learn/issues/21755 */display: inline-block !important;position: relative;}#sk-container-id-9 div.sk-text-repr-fallback {display: none;}</style><div id=\"sk-container-id-9\" class=\"sk-top-container\"><div class=\"sk-text-repr-fallback\"><pre>GridSearchCV(cv=5, estimator=RandomForestRegressor(),\n             param_grid={&#x27;bootstrap&#x27;: [True, False],\n                         &#x27;criterion&#x27;: [&#x27;squared_error&#x27;]})</pre><b>In a Jupyter environment, please rerun this cell to show the HTML representation or trust the notebook. <br />On GitHub, the HTML representation is unable to render, please try loading this page with nbviewer.org.</b></div><div class=\"sk-container\" hidden><div class=\"sk-item sk-dashed-wrapped\"><div class=\"sk-label-container\"><div class=\"sk-label sk-toggleable\"><input class=\"sk-toggleable__control sk-hidden--visually\" id=\"sk-estimator-id-21\" type=\"checkbox\" ><label for=\"sk-estimator-id-21\" class=\"sk-toggleable__label sk-toggleable__label-arrow\">GridSearchCV</label><div class=\"sk-toggleable__content\"><pre>GridSearchCV(cv=5, estimator=RandomForestRegressor(),\n             param_grid={&#x27;bootstrap&#x27;: [True, False],\n                         &#x27;criterion&#x27;: [&#x27;squared_error&#x27;]})</pre></div></div></div><div class=\"sk-parallel\"><div class=\"sk-parallel-item\"><div class=\"sk-item\"><div class=\"sk-label-container\"><div class=\"sk-label sk-toggleable\"><input class=\"sk-toggleable__control sk-hidden--visually\" id=\"sk-estimator-id-22\" type=\"checkbox\" ><label for=\"sk-estimator-id-22\" class=\"sk-toggleable__label sk-toggleable__label-arrow\">estimator: RandomForestRegressor</label><div class=\"sk-toggleable__content\"><pre>RandomForestRegressor()</pre></div></div></div><div class=\"sk-serial\"><div class=\"sk-item\"><div class=\"sk-estimator sk-toggleable\"><input class=\"sk-toggleable__control sk-hidden--visually\" id=\"sk-estimator-id-23\" type=\"checkbox\" ><label for=\"sk-estimator-id-23\" class=\"sk-toggleable__label sk-toggleable__label-arrow\">RandomForestRegressor</label><div class=\"sk-toggleable__content\"><pre>RandomForestRegressor()</pre></div></div></div></div></div></div></div></div></div></div>"
     },
     "execution_count": 64,
     "metadata": {},
     "output_type": "execute_result"
    }
   ],
   "source": [
    "model_rfr.fit(x_train, y_train)"
   ],
   "metadata": {
    "collapsed": false,
    "pycharm": {
     "name": "#%%\n"
    }
   }
  },
  {
   "cell_type": "code",
   "execution_count": 65,
   "outputs": [
    {
     "data": {
      "text/plain": "{'mean_fit_time': array([1.79936218, 2.74402251]),\n 'std_fit_time': array([0.04229409, 0.01856241]),\n 'mean_score_time': array([0.04043417, 0.04566956]),\n 'std_score_time': array([0.00049366, 0.00170583]),\n 'param_bootstrap': masked_array(data=[True, False],\n              mask=[False, False],\n        fill_value='?',\n             dtype=object),\n 'param_criterion': masked_array(data=['squared_error', 'squared_error'],\n              mask=[False, False],\n        fill_value='?',\n             dtype=object),\n 'params': [{'bootstrap': True, 'criterion': 'squared_error'},\n  {'bootstrap': False, 'criterion': 'squared_error'}],\n 'split0_test_score': array([0.93721771, 0.89582473]),\n 'split1_test_score': array([0.94434408, 0.89611149]),\n 'split2_test_score': array([0.93855895, 0.88965121]),\n 'split3_test_score': array([0.94161341, 0.8908916 ]),\n 'split4_test_score': array([0.93818079, 0.8993592 ]),\n 'mean_test_score': array([0.93998299, 0.89436765]),\n 'std_test_score': array([0.00263059, 0.00358907]),\n 'rank_test_score': array([1, 2], dtype=int32)}"
     },
     "execution_count": 65,
     "metadata": {},
     "output_type": "execute_result"
    }
   ],
   "source": [
    "model_rfr.cv_results_"
   ],
   "metadata": {
    "collapsed": false,
    "pycharm": {
     "name": "#%%\n"
    }
   }
  },
  {
   "cell_type": "code",
   "execution_count": 66,
   "outputs": [
    {
     "data": {
      "text/plain": "37.49494874757576"
     },
     "execution_count": 66,
     "metadata": {},
     "output_type": "execute_result"
    }
   ],
   "source": [
    "y_pred = model_rfr.predict(x_test)\n",
    "RMSE = math.sqrt(mean_squared_error(y_test, y_pred))\n",
    "RMSE"
   ],
   "metadata": {
    "collapsed": false,
    "pycharm": {
     "name": "#%%\n"
    }
   }
  },
  {
   "cell_type": "markdown",
   "source": [
    "#### XGBRegressor"
   ],
   "metadata": {
    "collapsed": false,
    "pycharm": {
     "name": "#%% md\n"
    }
   }
  },
  {
   "cell_type": "code",
   "execution_count": 17,
   "outputs": [],
   "source": [
    "xgbr_para = {}\n",
    "model_xgbr = GridSearchCV(XGBRegressor(), xgbr_para, cv=5)"
   ],
   "metadata": {
    "collapsed": false,
    "pycharm": {
     "name": "#%%\n"
    }
   }
  },
  {
   "cell_type": "code",
   "execution_count": 18,
   "outputs": [
    {
     "name": "stderr",
     "output_type": "stream",
     "text": [
      "/home/jeo/anaconda3/envs/data/lib/python3.9/site-packages/xgboost/data.py:250: FutureWarning: pandas.Int64Index is deprecated and will be removed from pandas in a future version. Use pandas.Index with the appropriate dtype instead.\n",
      "  elif isinstance(data.columns, (pd.Int64Index, pd.RangeIndex)):\n",
      "/home/jeo/anaconda3/envs/data/lib/python3.9/site-packages/xgboost/data.py:250: FutureWarning: pandas.Int64Index is deprecated and will be removed from pandas in a future version. Use pandas.Index with the appropriate dtype instead.\n",
      "  elif isinstance(data.columns, (pd.Int64Index, pd.RangeIndex)):\n",
      "/home/jeo/anaconda3/envs/data/lib/python3.9/site-packages/xgboost/data.py:250: FutureWarning: pandas.Int64Index is deprecated and will be removed from pandas in a future version. Use pandas.Index with the appropriate dtype instead.\n",
      "  elif isinstance(data.columns, (pd.Int64Index, pd.RangeIndex)):\n",
      "/home/jeo/anaconda3/envs/data/lib/python3.9/site-packages/xgboost/data.py:250: FutureWarning: pandas.Int64Index is deprecated and will be removed from pandas in a future version. Use pandas.Index with the appropriate dtype instead.\n",
      "  elif isinstance(data.columns, (pd.Int64Index, pd.RangeIndex)):\n",
      "/home/jeo/anaconda3/envs/data/lib/python3.9/site-packages/xgboost/data.py:250: FutureWarning: pandas.Int64Index is deprecated and will be removed from pandas in a future version. Use pandas.Index with the appropriate dtype instead.\n",
      "  elif isinstance(data.columns, (pd.Int64Index, pd.RangeIndex)):\n",
      "/home/jeo/anaconda3/envs/data/lib/python3.9/site-packages/xgboost/data.py:250: FutureWarning: pandas.Int64Index is deprecated and will be removed from pandas in a future version. Use pandas.Index with the appropriate dtype instead.\n",
      "  elif isinstance(data.columns, (pd.Int64Index, pd.RangeIndex)):\n"
     ]
    },
    {
     "data": {
      "text/plain": "GridSearchCV(cv=5,\n             estimator=XGBRegressor(base_score=None, booster=None,\n                                    colsample_bylevel=None,\n                                    colsample_bynode=None,\n                                    colsample_bytree=None,\n                                    enable_categorical=False, gamma=None,\n                                    gpu_id=None, importance_type=None,\n                                    interaction_constraints=None,\n                                    learning_rate=None, max_delta_step=None,\n                                    max_depth=None, min_child_weight=None,\n                                    missing=nan, monotone_constraints=None,\n                                    n_estimators=100, n_jobs=None,\n                                    num_parallel_tree=None, predictor=None,\n                                    random_state=None, reg_alpha=None,\n                                    reg_lambda=None, scale_pos_weight=None,\n                                    subsample=None, tree_method=None,\n                                    validate_parameters=None, verbosity=None),\n             param_grid={})",
      "text/html": "<style>#sk-container-id-3 {color: black;background-color: white;}#sk-container-id-3 pre{padding: 0;}#sk-container-id-3 div.sk-toggleable {background-color: white;}#sk-container-id-3 label.sk-toggleable__label {cursor: pointer;display: block;width: 100%;margin-bottom: 0;padding: 0.3em;box-sizing: border-box;text-align: center;}#sk-container-id-3 label.sk-toggleable__label-arrow:before {content: \"▸\";float: left;margin-right: 0.25em;color: #696969;}#sk-container-id-3 label.sk-toggleable__label-arrow:hover:before {color: black;}#sk-container-id-3 div.sk-estimator:hover label.sk-toggleable__label-arrow:before {color: black;}#sk-container-id-3 div.sk-toggleable__content {max-height: 0;max-width: 0;overflow: hidden;text-align: left;background-color: #f0f8ff;}#sk-container-id-3 div.sk-toggleable__content pre {margin: 0.2em;color: black;border-radius: 0.25em;background-color: #f0f8ff;}#sk-container-id-3 input.sk-toggleable__control:checked~div.sk-toggleable__content {max-height: 200px;max-width: 100%;overflow: auto;}#sk-container-id-3 input.sk-toggleable__control:checked~label.sk-toggleable__label-arrow:before {content: \"▾\";}#sk-container-id-3 div.sk-estimator input.sk-toggleable__control:checked~label.sk-toggleable__label {background-color: #d4ebff;}#sk-container-id-3 div.sk-label input.sk-toggleable__control:checked~label.sk-toggleable__label {background-color: #d4ebff;}#sk-container-id-3 input.sk-hidden--visually {border: 0;clip: rect(1px 1px 1px 1px);clip: rect(1px, 1px, 1px, 1px);height: 1px;margin: -1px;overflow: hidden;padding: 0;position: absolute;width: 1px;}#sk-container-id-3 div.sk-estimator {font-family: monospace;background-color: #f0f8ff;border: 1px dotted black;border-radius: 0.25em;box-sizing: border-box;margin-bottom: 0.5em;}#sk-container-id-3 div.sk-estimator:hover {background-color: #d4ebff;}#sk-container-id-3 div.sk-parallel-item::after {content: \"\";width: 100%;border-bottom: 1px solid gray;flex-grow: 1;}#sk-container-id-3 div.sk-label:hover label.sk-toggleable__label {background-color: #d4ebff;}#sk-container-id-3 div.sk-serial::before {content: \"\";position: absolute;border-left: 1px solid gray;box-sizing: border-box;top: 0;bottom: 0;left: 50%;z-index: 0;}#sk-container-id-3 div.sk-serial {display: flex;flex-direction: column;align-items: center;background-color: white;padding-right: 0.2em;padding-left: 0.2em;position: relative;}#sk-container-id-3 div.sk-item {position: relative;z-index: 1;}#sk-container-id-3 div.sk-parallel {display: flex;align-items: stretch;justify-content: center;background-color: white;position: relative;}#sk-container-id-3 div.sk-item::before, #sk-container-id-3 div.sk-parallel-item::before {content: \"\";position: absolute;border-left: 1px solid gray;box-sizing: border-box;top: 0;bottom: 0;left: 50%;z-index: -1;}#sk-container-id-3 div.sk-parallel-item {display: flex;flex-direction: column;z-index: 1;position: relative;background-color: white;}#sk-container-id-3 div.sk-parallel-item:first-child::after {align-self: flex-end;width: 50%;}#sk-container-id-3 div.sk-parallel-item:last-child::after {align-self: flex-start;width: 50%;}#sk-container-id-3 div.sk-parallel-item:only-child::after {width: 0;}#sk-container-id-3 div.sk-dashed-wrapped {border: 1px dashed gray;margin: 0 0.4em 0.5em 0.4em;box-sizing: border-box;padding-bottom: 0.4em;background-color: white;}#sk-container-id-3 div.sk-label label {font-family: monospace;font-weight: bold;display: inline-block;line-height: 1.2em;}#sk-container-id-3 div.sk-label-container {text-align: center;}#sk-container-id-3 div.sk-container {/* jupyter's `normalize.less` sets `[hidden] { display: none; }` but bootstrap.min.css set `[hidden] { display: none !important; }` so we also need the `!important` here to be able to override the default hidden behavior on the sphinx rendered scikit-learn.org. See: https://github.com/scikit-learn/scikit-learn/issues/21755 */display: inline-block !important;position: relative;}#sk-container-id-3 div.sk-text-repr-fallback {display: none;}</style><div id=\"sk-container-id-3\" class=\"sk-top-container\"><div class=\"sk-text-repr-fallback\"><pre>GridSearchCV(cv=5,\n             estimator=XGBRegressor(base_score=None, booster=None,\n                                    colsample_bylevel=None,\n                                    colsample_bynode=None,\n                                    colsample_bytree=None,\n                                    enable_categorical=False, gamma=None,\n                                    gpu_id=None, importance_type=None,\n                                    interaction_constraints=None,\n                                    learning_rate=None, max_delta_step=None,\n                                    max_depth=None, min_child_weight=None,\n                                    missing=nan, monotone_constraints=None,\n                                    n_estimators=100, n_jobs=None,\n                                    num_parallel_tree=None, predictor=None,\n                                    random_state=None, reg_alpha=None,\n                                    reg_lambda=None, scale_pos_weight=None,\n                                    subsample=None, tree_method=None,\n                                    validate_parameters=None, verbosity=None),\n             param_grid={})</pre><b>In a Jupyter environment, please rerun this cell to show the HTML representation or trust the notebook. <br />On GitHub, the HTML representation is unable to render, please try loading this page with nbviewer.org.</b></div><div class=\"sk-container\" hidden><div class=\"sk-item sk-dashed-wrapped\"><div class=\"sk-label-container\"><div class=\"sk-label sk-toggleable\"><input class=\"sk-toggleable__control sk-hidden--visually\" id=\"sk-estimator-id-7\" type=\"checkbox\" ><label for=\"sk-estimator-id-7\" class=\"sk-toggleable__label sk-toggleable__label-arrow\">GridSearchCV</label><div class=\"sk-toggleable__content\"><pre>GridSearchCV(cv=5,\n             estimator=XGBRegressor(base_score=None, booster=None,\n                                    colsample_bylevel=None,\n                                    colsample_bynode=None,\n                                    colsample_bytree=None,\n                                    enable_categorical=False, gamma=None,\n                                    gpu_id=None, importance_type=None,\n                                    interaction_constraints=None,\n                                    learning_rate=None, max_delta_step=None,\n                                    max_depth=None, min_child_weight=None,\n                                    missing=nan, monotone_constraints=None,\n                                    n_estimators=100, n_jobs=None,\n                                    num_parallel_tree=None, predictor=None,\n                                    random_state=None, reg_alpha=None,\n                                    reg_lambda=None, scale_pos_weight=None,\n                                    subsample=None, tree_method=None,\n                                    validate_parameters=None, verbosity=None),\n             param_grid={})</pre></div></div></div><div class=\"sk-parallel\"><div class=\"sk-parallel-item\"><div class=\"sk-item\"><div class=\"sk-label-container\"><div class=\"sk-label sk-toggleable\"><input class=\"sk-toggleable__control sk-hidden--visually\" id=\"sk-estimator-id-8\" type=\"checkbox\" ><label for=\"sk-estimator-id-8\" class=\"sk-toggleable__label sk-toggleable__label-arrow\">estimator: XGBRegressor</label><div class=\"sk-toggleable__content\"><pre>XGBRegressor(base_score=None, booster=None, colsample_bylevel=None,\n             colsample_bynode=None, colsample_bytree=None,\n             enable_categorical=False, gamma=None, gpu_id=None,\n             importance_type=None, interaction_constraints=None,\n             learning_rate=None, max_delta_step=None, max_depth=None,\n             min_child_weight=None, missing=nan, monotone_constraints=None,\n             n_estimators=100, n_jobs=None, num_parallel_tree=None,\n             predictor=None, random_state=None, reg_alpha=None, reg_lambda=None,\n             scale_pos_weight=None, subsample=None, tree_method=None,\n             validate_parameters=None, verbosity=None)</pre></div></div></div><div class=\"sk-serial\"><div class=\"sk-item\"><div class=\"sk-estimator sk-toggleable\"><input class=\"sk-toggleable__control sk-hidden--visually\" id=\"sk-estimator-id-9\" type=\"checkbox\" ><label for=\"sk-estimator-id-9\" class=\"sk-toggleable__label sk-toggleable__label-arrow\">XGBRegressor</label><div class=\"sk-toggleable__content\"><pre>XGBRegressor(base_score=None, booster=None, colsample_bylevel=None,\n             colsample_bynode=None, colsample_bytree=None,\n             enable_categorical=False, gamma=None, gpu_id=None,\n             importance_type=None, interaction_constraints=None,\n             learning_rate=None, max_delta_step=None, max_depth=None,\n             min_child_weight=None, missing=nan, monotone_constraints=None,\n             n_estimators=100, n_jobs=None, num_parallel_tree=None,\n             predictor=None, random_state=None, reg_alpha=None, reg_lambda=None,\n             scale_pos_weight=None, subsample=None, tree_method=None,\n             validate_parameters=None, verbosity=None)</pre></div></div></div></div></div></div></div></div></div></div>"
     },
     "execution_count": 18,
     "metadata": {},
     "output_type": "execute_result"
    }
   ],
   "source": [
    "model_xgbr.fit(x_train, y_train)"
   ],
   "metadata": {
    "collapsed": false,
    "pycharm": {
     "name": "#%%\n"
    }
   }
  },
  {
   "cell_type": "code",
   "execution_count": 12,
   "outputs": [
    {
     "data": {
      "text/plain": "{'mean_fit_time': array([0.58687043]),\n 'std_fit_time': array([0.162152]),\n 'mean_score_time': array([0.00437922]),\n 'std_score_time': array([0.00423131]),\n 'params': [{}],\n 'split0_test_score': array([0.94695877]),\n 'split1_test_score': array([0.94945908]),\n 'split2_test_score': array([0.9515885]),\n 'split3_test_score': array([0.94750595]),\n 'split4_test_score': array([0.94714237]),\n 'mean_test_score': array([0.94853093]),\n 'std_test_score': array([0.00176978]),\n 'rank_test_score': array([1], dtype=int32)}"
     },
     "execution_count": 12,
     "metadata": {},
     "output_type": "execute_result"
    }
   ],
   "source": [
    "model_xgbr.cv_results_"
   ],
   "metadata": {
    "collapsed": false,
    "pycharm": {
     "name": "#%%\n"
    }
   }
  },
  {
   "cell_type": "code",
   "execution_count": 19,
   "outputs": [
    {
     "data": {
      "text/plain": "32.476110493880576"
     },
     "execution_count": 19,
     "metadata": {},
     "output_type": "execute_result"
    }
   ],
   "source": [
    "y_pred = model_xgbr.predict(x_test)\n",
    "RMSE_tree = math.sqrt(mean_squared_error(y_test, y_pred))\n",
    "RMSE_tree"
   ],
   "metadata": {
    "collapsed": false,
    "pycharm": {
     "name": "#%%\n"
    }
   }
  },
  {
   "cell_type": "markdown",
   "source": [
    "#### ALTERNATIVA DOBLE PREDICCION"
   ],
   "metadata": {
    "collapsed": false,
    "pycharm": {
     "name": "#%% md\n"
    }
   }
  },
  {
   "cell_type": "markdown",
   "source": [
    "Esta alternativa consiste en la elaboración de dos modelos para la predicción que se solicita. El primer modelo se encargara de predecir la feature casual que como se observa en la matriz de correlación presenta una relación bastante evidente con la variable objetivo cnt, pero el dataset de test no cuenta con ésta. Por este motivo en esta primera instancia se realiza esta acción. El segundo modelo se encarga de predecir la variable objetivo a partir del dataset de test mas la columna casual que se predijo con el primer modelo. Esta alternativa solo se realizó con el objetivo de ver el comportamiento de lo que se plantea y no asegura un resultado acorde"
   ],
   "metadata": {
    "collapsed": false,
    "pycharm": {
     "name": "#%% md\n"
    }
   }
  },
  {
   "cell_type": "markdown",
   "source": [
    "Dividir el dataset para realizar el entramiento correspondiente y realizar pruebas"
   ],
   "metadata": {
    "collapsed": false,
    "pycharm": {
     "name": "#%% md\n"
    }
   }
  },
  {
   "cell_type": "code",
   "execution_count": 20,
   "outputs": [],
   "source": [
    "x1 = train.drop(columns=['cnt', 'registered', 'casual', 'temp', 'mnth', 'yr', 'dteday'])\n",
    "x2 = train.drop(columns=['cnt', 'registered', 'temp', 'mnth', 'yr', 'dteday'])\n",
    "y2 = train.cnt\n",
    "y1 = train.casual"
   ],
   "metadata": {
    "collapsed": false,
    "pycharm": {
     "name": "#%%\n"
    }
   }
  },
  {
   "cell_type": "code",
   "execution_count": 21,
   "outputs": [],
   "source": [
    "x_train1, x_test1, y_train1, y_test1 = train_test_split(x1, y1, test_size=0.2)"
   ],
   "metadata": {
    "collapsed": false,
    "pycharm": {
     "name": "#%%\n"
    }
   }
  },
  {
   "cell_type": "markdown",
   "source": [
    "Se utilizará para ambos modelos XGBRegressor() porque es el que presento mejor desempeño anteriormente"
   ],
   "metadata": {
    "collapsed": false,
    "pycharm": {
     "name": "#%% md\n"
    }
   }
  },
  {
   "cell_type": "markdown",
   "source": [
    "Entrenamiento de primer modelo"
   ],
   "metadata": {
    "collapsed": false,
    "pycharm": {
     "name": "#%% md\n"
    }
   }
  },
  {
   "cell_type": "code",
   "execution_count": 22,
   "outputs": [
    {
     "name": "stderr",
     "output_type": "stream",
     "text": [
      "/home/jeo/anaconda3/envs/data/lib/python3.9/site-packages/xgboost/data.py:250: FutureWarning: pandas.Int64Index is deprecated and will be removed from pandas in a future version. Use pandas.Index with the appropriate dtype instead.\n",
      "  elif isinstance(data.columns, (pd.Int64Index, pd.RangeIndex)):\n"
     ]
    },
    {
     "data": {
      "text/plain": "10.863903673998902"
     },
     "execution_count": 22,
     "metadata": {},
     "output_type": "execute_result"
    }
   ],
   "source": [
    "model1 = XGBRegressor()\n",
    "model1.fit(x_train1, y_train1)\n",
    "pred1 = model1.predict(x_test1)\n",
    "e = mean_squared_error(y_test1, pred1)\n",
    "math.sqrt(e)"
   ],
   "metadata": {
    "collapsed": false,
    "pycharm": {
     "name": "#%%\n"
    }
   }
  },
  {
   "cell_type": "markdown",
   "source": [
    "Entrenamiento de segundo modelo"
   ],
   "metadata": {
    "collapsed": false,
    "pycharm": {
     "name": "#%% md\n"
    }
   }
  },
  {
   "cell_type": "code",
   "execution_count": 23,
   "outputs": [],
   "source": [
    "x_train2, x_test2, y_train2, y_test2 = train_test_split(x2, y2, test_size=0.2)"
   ],
   "metadata": {
    "collapsed": false,
    "pycharm": {
     "name": "#%%\n"
    }
   }
  },
  {
   "cell_type": "code",
   "execution_count": 24,
   "outputs": [
    {
     "name": "stderr",
     "output_type": "stream",
     "text": [
      "/home/jeo/anaconda3/envs/data/lib/python3.9/site-packages/xgboost/data.py:250: FutureWarning: pandas.Int64Index is deprecated and will be removed from pandas in a future version. Use pandas.Index with the appropriate dtype instead.\n",
      "  elif isinstance(data.columns, (pd.Int64Index, pd.RangeIndex)):\n"
     ]
    },
    {
     "data": {
      "text/plain": "26.749869949097704"
     },
     "execution_count": 24,
     "metadata": {},
     "output_type": "execute_result"
    }
   ],
   "source": [
    "model2 = XGBRegressor()\n",
    "model2.fit(x_train2, y_train2)\n",
    "pred2 = model2.predict(x_test2)\n",
    "e = mean_squared_error(y_test2, pred2)\n",
    "math.sqrt(e)"
   ],
   "metadata": {
    "collapsed": false,
    "pycharm": {
     "name": "#%%\n"
    }
   }
  },
  {
   "cell_type": "markdown",
   "source": [
    "#### Probar Modelo"
   ],
   "metadata": {
    "collapsed": false,
    "pycharm": {
     "name": "#%% md\n"
    }
   }
  },
  {
   "cell_type": "markdown",
   "source": [
    "Con el modelo entrenado se procede a realizar pruebas para comprobar su rendimiento"
   ],
   "metadata": {
    "collapsed": false,
    "pycharm": {
     "name": "#%% md\n"
    }
   }
  },
  {
   "cell_type": "code",
   "execution_count": 25,
   "outputs": [],
   "source": [
    "x_test1['casual'] = pred1"
   ],
   "metadata": {
    "collapsed": false,
    "pycharm": {
     "name": "#%%\n"
    }
   }
  },
  {
   "cell_type": "code",
   "execution_count": 26,
   "outputs": [],
   "source": [
    "pred_final = model2.predict(x_test1.sort_values(by=['instant']))"
   ],
   "metadata": {
    "collapsed": false,
    "pycharm": {
     "name": "#%%\n"
    }
   }
  },
  {
   "cell_type": "code",
   "execution_count": 29,
   "outputs": [
    {
     "data": {
      "text/plain": "       instant  dteday  season  yr  mnth  hr  holiday  weekday  workingday  \\\n0            1  734138       1   0     1   0        0        6           0   \n11          12  734138       1   0     1  11        0        6           0   \n16          17  734138       1   0     1  16        0        6           0   \n19          20  734138       1   0     1  19        0        6           0   \n20          21  734138       1   0     1  20        0        6           0   \n...        ...     ...     ...  ..   ...  ..      ...      ...         ...   \n11960    11961  734641       2   1     5  13        0        5           1   \n11963    11964  734641       2   1     5  16        0        5           1   \n11966    11967  734641       2   1     5  19        0        5           1   \n11969    11970  734641       2   1     5  22        0        5           1   \n11983    11984  734642       2   1     5  12        0        6           0   \n\n       weathersit  temp   atemp   hum  windspeed  casual  registered  cnt  \n0               1  0.24  0.2879  0.81     0.0000       3          13   16  \n11              1  0.36  0.3333  0.81     0.2836      26          30   56  \n16              2  0.42  0.4242  0.82     0.2985      41          52   93  \n19              3  0.42  0.4242  0.88     0.2537       6          31   37  \n20              2  0.40  0.4091  0.87     0.2537      11          25   36  \n...           ...   ...     ...   ...        ...     ...         ...  ...  \n11960           1  0.64  0.6212  0.36     0.1642      98         297  395  \n11963           1  0.66  0.6212  0.34     0.2537     151         417  568  \n11966           1  0.62  0.6212  0.41     0.1940      91         392  483  \n11969           1  0.56  0.5303  0.52     0.3284      57         194  251  \n11983           1  0.66  0.6212  0.36     0.0000     276         366  642  \n\n[2400 rows x 17 columns]",
      "text/html": "<div>\n<style scoped>\n    .dataframe tbody tr th:only-of-type {\n        vertical-align: middle;\n    }\n\n    .dataframe tbody tr th {\n        vertical-align: top;\n    }\n\n    .dataframe thead th {\n        text-align: right;\n    }\n</style>\n<table border=\"1\" class=\"dataframe\">\n  <thead>\n    <tr style=\"text-align: right;\">\n      <th></th>\n      <th>instant</th>\n      <th>dteday</th>\n      <th>season</th>\n      <th>yr</th>\n      <th>mnth</th>\n      <th>hr</th>\n      <th>holiday</th>\n      <th>weekday</th>\n      <th>workingday</th>\n      <th>weathersit</th>\n      <th>temp</th>\n      <th>atemp</th>\n      <th>hum</th>\n      <th>windspeed</th>\n      <th>casual</th>\n      <th>registered</th>\n      <th>cnt</th>\n    </tr>\n  </thead>\n  <tbody>\n    <tr>\n      <th>0</th>\n      <td>1</td>\n      <td>734138</td>\n      <td>1</td>\n      <td>0</td>\n      <td>1</td>\n      <td>0</td>\n      <td>0</td>\n      <td>6</td>\n      <td>0</td>\n      <td>1</td>\n      <td>0.24</td>\n      <td>0.2879</td>\n      <td>0.81</td>\n      <td>0.0000</td>\n      <td>3</td>\n      <td>13</td>\n      <td>16</td>\n    </tr>\n    <tr>\n      <th>11</th>\n      <td>12</td>\n      <td>734138</td>\n      <td>1</td>\n      <td>0</td>\n      <td>1</td>\n      <td>11</td>\n      <td>0</td>\n      <td>6</td>\n      <td>0</td>\n      <td>1</td>\n      <td>0.36</td>\n      <td>0.3333</td>\n      <td>0.81</td>\n      <td>0.2836</td>\n      <td>26</td>\n      <td>30</td>\n      <td>56</td>\n    </tr>\n    <tr>\n      <th>16</th>\n      <td>17</td>\n      <td>734138</td>\n      <td>1</td>\n      <td>0</td>\n      <td>1</td>\n      <td>16</td>\n      <td>0</td>\n      <td>6</td>\n      <td>0</td>\n      <td>2</td>\n      <td>0.42</td>\n      <td>0.4242</td>\n      <td>0.82</td>\n      <td>0.2985</td>\n      <td>41</td>\n      <td>52</td>\n      <td>93</td>\n    </tr>\n    <tr>\n      <th>19</th>\n      <td>20</td>\n      <td>734138</td>\n      <td>1</td>\n      <td>0</td>\n      <td>1</td>\n      <td>19</td>\n      <td>0</td>\n      <td>6</td>\n      <td>0</td>\n      <td>3</td>\n      <td>0.42</td>\n      <td>0.4242</td>\n      <td>0.88</td>\n      <td>0.2537</td>\n      <td>6</td>\n      <td>31</td>\n      <td>37</td>\n    </tr>\n    <tr>\n      <th>20</th>\n      <td>21</td>\n      <td>734138</td>\n      <td>1</td>\n      <td>0</td>\n      <td>1</td>\n      <td>20</td>\n      <td>0</td>\n      <td>6</td>\n      <td>0</td>\n      <td>2</td>\n      <td>0.40</td>\n      <td>0.4091</td>\n      <td>0.87</td>\n      <td>0.2537</td>\n      <td>11</td>\n      <td>25</td>\n      <td>36</td>\n    </tr>\n    <tr>\n      <th>...</th>\n      <td>...</td>\n      <td>...</td>\n      <td>...</td>\n      <td>...</td>\n      <td>...</td>\n      <td>...</td>\n      <td>...</td>\n      <td>...</td>\n      <td>...</td>\n      <td>...</td>\n      <td>...</td>\n      <td>...</td>\n      <td>...</td>\n      <td>...</td>\n      <td>...</td>\n      <td>...</td>\n      <td>...</td>\n    </tr>\n    <tr>\n      <th>11960</th>\n      <td>11961</td>\n      <td>734641</td>\n      <td>2</td>\n      <td>1</td>\n      <td>5</td>\n      <td>13</td>\n      <td>0</td>\n      <td>5</td>\n      <td>1</td>\n      <td>1</td>\n      <td>0.64</td>\n      <td>0.6212</td>\n      <td>0.36</td>\n      <td>0.1642</td>\n      <td>98</td>\n      <td>297</td>\n      <td>395</td>\n    </tr>\n    <tr>\n      <th>11963</th>\n      <td>11964</td>\n      <td>734641</td>\n      <td>2</td>\n      <td>1</td>\n      <td>5</td>\n      <td>16</td>\n      <td>0</td>\n      <td>5</td>\n      <td>1</td>\n      <td>1</td>\n      <td>0.66</td>\n      <td>0.6212</td>\n      <td>0.34</td>\n      <td>0.2537</td>\n      <td>151</td>\n      <td>417</td>\n      <td>568</td>\n    </tr>\n    <tr>\n      <th>11966</th>\n      <td>11967</td>\n      <td>734641</td>\n      <td>2</td>\n      <td>1</td>\n      <td>5</td>\n      <td>19</td>\n      <td>0</td>\n      <td>5</td>\n      <td>1</td>\n      <td>1</td>\n      <td>0.62</td>\n      <td>0.6212</td>\n      <td>0.41</td>\n      <td>0.1940</td>\n      <td>91</td>\n      <td>392</td>\n      <td>483</td>\n    </tr>\n    <tr>\n      <th>11969</th>\n      <td>11970</td>\n      <td>734641</td>\n      <td>2</td>\n      <td>1</td>\n      <td>5</td>\n      <td>22</td>\n      <td>0</td>\n      <td>5</td>\n      <td>1</td>\n      <td>1</td>\n      <td>0.56</td>\n      <td>0.5303</td>\n      <td>0.52</td>\n      <td>0.3284</td>\n      <td>57</td>\n      <td>194</td>\n      <td>251</td>\n    </tr>\n    <tr>\n      <th>11983</th>\n      <td>11984</td>\n      <td>734642</td>\n      <td>2</td>\n      <td>1</td>\n      <td>5</td>\n      <td>12</td>\n      <td>0</td>\n      <td>6</td>\n      <td>0</td>\n      <td>1</td>\n      <td>0.66</td>\n      <td>0.6212</td>\n      <td>0.36</td>\n      <td>0.0000</td>\n      <td>276</td>\n      <td>366</td>\n      <td>642</td>\n    </tr>\n  </tbody>\n</table>\n<p>2400 rows × 17 columns</p>\n</div>"
     },
     "execution_count": 29,
     "metadata": {},
     "output_type": "execute_result"
    }
   ],
   "source": [
    "valores_finales = train[train.instant.isin(x_test1.instant)]\n",
    "valores_finales"
   ],
   "metadata": {
    "collapsed": false,
    "pycharm": {
     "name": "#%%\n"
    }
   }
  },
  {
   "cell_type": "code",
   "execution_count": 27,
   "outputs": [
    {
     "data": {
      "text/plain": "array([ 21.381287,  52.71146 ,  67.28136 , ..., 526.2756  , 253.67523 ,\n       681.31415 ], dtype=float32)"
     },
     "execution_count": 27,
     "metadata": {},
     "output_type": "execute_result"
    }
   ],
   "source": [
    "pred_final"
   ],
   "metadata": {
    "collapsed": false,
    "pycharm": {
     "name": "#%%\n"
    }
   }
  },
  {
   "cell_type": "code",
   "execution_count": 30,
   "outputs": [
    {
     "data": {
      "text/plain": "30.824260234278064"
     },
     "execution_count": 30,
     "metadata": {},
     "output_type": "execute_result"
    }
   ],
   "source": [
    "e = mean_squared_error(valores_finales.cnt, pred_final)\n",
    "math.sqrt(e)"
   ],
   "metadata": {
    "collapsed": false,
    "pycharm": {
     "name": "#%%\n"
    }
   }
  },
  {
   "cell_type": "markdown",
   "source": [
    "Se observa una leve disminución del modelo de XGBRegressor por si solo, pero no es significativo dicho cambio"
   ],
   "metadata": {
    "collapsed": false,
    "pycharm": {
     "name": "#%% md\n"
    }
   }
  },
  {
   "cell_type": "code",
   "execution_count": 31,
   "outputs": [],
   "source": [
    "prueba_pred_final = x_predecir.copy()"
   ],
   "metadata": {
    "collapsed": false,
    "pycharm": {
     "name": "#%%\n"
    }
   }
  },
  {
   "cell_type": "code",
   "execution_count": 32,
   "outputs": [],
   "source": [
    "pred_final1 = model1.predict(prueba_pred_final)"
   ],
   "metadata": {
    "collapsed": false,
    "pycharm": {
     "name": "#%%\n"
    }
   }
  },
  {
   "cell_type": "code",
   "execution_count": 33,
   "outputs": [],
   "source": [
    "prueba_pred_final['casual'] = pred_final1"
   ],
   "metadata": {
    "collapsed": false,
    "pycharm": {
     "name": "#%%\n"
    }
   }
  },
  {
   "cell_type": "code",
   "execution_count": 34,
   "outputs": [
    {
     "data": {
      "text/plain": "array([ 48.045937,  59.244724,  89.21494 , ..., 186.07112 , 119.6959  ,\n        95.36211 ], dtype=float32)"
     },
     "execution_count": 34,
     "metadata": {},
     "output_type": "execute_result"
    }
   ],
   "source": [
    "pred_final2 = model2.predict(prueba_pred_final)\n",
    "pred_final2"
   ],
   "metadata": {
    "collapsed": false,
    "pycharm": {
     "name": "#%%\n"
    }
   }
  },
  {
   "cell_type": "markdown",
   "source": [
    "Se decide utilizar XGBRegressor para predecir el resultado debido a su menor medida de RMSE"
   ],
   "metadata": {
    "collapsed": false,
    "pycharm": {
     "name": "#%% md\n"
    }
   }
  },
  {
   "cell_type": "code",
   "execution_count": 146,
   "outputs": [],
   "source": [
    "y_final = model_rfr.predict(x_predecir)"
   ],
   "metadata": {
    "collapsed": false,
    "pycharm": {
     "name": "#%%\n"
    }
   }
  },
  {
   "cell_type": "markdown",
   "source": [
    "Se aplica valor absoluto a la predicción final para asegurar que no existan valores negativos"
   ],
   "metadata": {
    "collapsed": false,
    "pycharm": {
     "name": "#%% md\n"
    }
   }
  },
  {
   "cell_type": "code",
   "execution_count": 35,
   "outputs": [],
   "source": [
    "final = np.abs(pred_final2)"
   ],
   "metadata": {
    "collapsed": false,
    "pycharm": {
     "name": "#%%\n"
    }
   }
  },
  {
   "cell_type": "code",
   "execution_count": 36,
   "outputs": [
    {
     "data": {
      "text/plain": "            pred\n0      48.045937\n1      59.244724\n2      89.214943\n3     125.452354\n4     239.138580\n...          ...\n5375  344.157166\n5376  227.641541\n5377  186.071121\n5378  119.695900\n5379   95.362106\n\n[5380 rows x 1 columns]",
      "text/html": "<div>\n<style scoped>\n    .dataframe tbody tr th:only-of-type {\n        vertical-align: middle;\n    }\n\n    .dataframe tbody tr th {\n        vertical-align: top;\n    }\n\n    .dataframe thead th {\n        text-align: right;\n    }\n</style>\n<table border=\"1\" class=\"dataframe\">\n  <thead>\n    <tr style=\"text-align: right;\">\n      <th></th>\n      <th>pred</th>\n    </tr>\n  </thead>\n  <tbody>\n    <tr>\n      <th>0</th>\n      <td>48.045937</td>\n    </tr>\n    <tr>\n      <th>1</th>\n      <td>59.244724</td>\n    </tr>\n    <tr>\n      <th>2</th>\n      <td>89.214943</td>\n    </tr>\n    <tr>\n      <th>3</th>\n      <td>125.452354</td>\n    </tr>\n    <tr>\n      <th>4</th>\n      <td>239.138580</td>\n    </tr>\n    <tr>\n      <th>...</th>\n      <td>...</td>\n    </tr>\n    <tr>\n      <th>5375</th>\n      <td>344.157166</td>\n    </tr>\n    <tr>\n      <th>5376</th>\n      <td>227.641541</td>\n    </tr>\n    <tr>\n      <th>5377</th>\n      <td>186.071121</td>\n    </tr>\n    <tr>\n      <th>5378</th>\n      <td>119.695900</td>\n    </tr>\n    <tr>\n      <th>5379</th>\n      <td>95.362106</td>\n    </tr>\n  </tbody>\n</table>\n<p>5380 rows × 1 columns</p>\n</div>"
     },
     "execution_count": 36,
     "metadata": {},
     "output_type": "execute_result"
    }
   ],
   "source": [
    "resultado = pd.DataFrame(final)\n",
    "resultado = resultado.rename(columns={0: 'pred'})\n",
    "resultado"
   ],
   "metadata": {
    "collapsed": false,
    "pycharm": {
     "name": "#%%\n"
    }
   }
  },
  {
   "cell_type": "markdown",
   "source": [
    "Exportar Resultado a csv"
   ],
   "metadata": {
    "collapsed": false,
    "pycharm": {
     "name": "#%% md\n"
    }
   }
  },
  {
   "cell_type": "code",
   "execution_count": 37,
   "outputs": [],
   "source": [
    "resultado.to_csv('jeo10.csv', index=False)"
   ],
   "metadata": {
    "collapsed": false,
    "pycharm": {
     "name": "#%%\n"
    }
   }
  }
 ],
 "metadata": {
  "kernelspec": {
   "display_name": "Python 3",
   "language": "python",
   "name": "python3"
  },
  "language_info": {
   "codemirror_mode": {
    "name": "ipython",
    "version": 2
   },
   "file_extension": ".py",
   "mimetype": "text/x-python",
   "name": "python",
   "nbconvert_exporter": "python",
   "pygments_lexer": "ipython2",
   "version": "2.7.6"
  }
 },
 "nbformat": 4,
 "nbformat_minor": 0
}