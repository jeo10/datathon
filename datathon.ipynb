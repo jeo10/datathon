{
 "cells": [
  {
   "cell_type": "code",
   "execution_count": 38,
   "metadata": {
    "collapsed": true,
    "pycharm": {
     "name": "#%%\n"
    }
   },
   "outputs": [
    {
     "name": "stderr",
     "output_type": "stream",
     "text": [
      "/home/jeo/anaconda3/envs/data/lib/python3.9/site-packages/xgboost/compat.py:36: FutureWarning: pandas.Int64Index is deprecated and will be removed from pandas in a future version. Use pandas.Index with the appropriate dtype instead.\n",
      "  from pandas import MultiIndex, Int64Index\n"
     ]
    }
   ],
   "source": [
    "import numpy as np\n",
    "import pandas as pd\n",
    "import seaborn as sns\n",
    "import matplotlib.pyplot as plt\n",
    "from sklearn.tree import DecisionTreeRegressor\n",
    "from sklearn.neighbors import KNeighborsRegressor\n",
    "from xgboost import XGBRegressor\n",
    "from sklearn.model_selection import GridSearchCV\n",
    "from sklearn.model_selection import train_test_split\n",
    "from sklearn.ensemble import RandomForestRegressor\n",
    "from sklearn.metrics import mean_squared_error\n",
    "import datetime as dt\n",
    "import math"
   ]
  },
  {
   "cell_type": "markdown",
   "source": [
    "Se obtienen los datasets de entrenamiento y test y se los transforma en dataframes para su análisis."
   ],
   "metadata": {
    "collapsed": false,
    "pycharm": {
     "name": "#%% md\n"
    }
   }
  },
  {
   "cell_type": "code",
   "execution_count": 2,
   "outputs": [],
   "source": [
    "df_train = pd.read_csv('bike_train.csv')\n",
    "df_test = pd.read_csv('bike_test.csv')"
   ],
   "metadata": {
    "collapsed": false,
    "pycharm": {
     "name": "#%%\n"
    }
   }
  },
  {
   "cell_type": "code",
   "execution_count": 3,
   "outputs": [
    {
     "data": {
      "text/plain": "   instant     dteday  season  yr  mnth  hr  holiday  weekday  workingday  \\\n0    12000  5/20/2012       2   1     5   4        0        0           0   \n1    12001  5/20/2012       2   1     5   5        0        0           0   \n2    12002  5/20/2012       2   1     5   6        0        0           0   \n3    12003  5/20/2012       2   1     5   7        0        0           0   \n4    12004  5/20/2012       2   1     5   8        0        0           0   \n\n   weathersit  temp   atemp   hum  windspeed  \n0           1  0.52  0.5000  0.68     0.0896  \n1           1  0.50  0.4848  0.72     0.1045  \n2           1  0.50  0.4848  0.63     0.1343  \n3           1  0.52  0.5000  0.68     0.1940  \n4           1  0.56  0.5303  0.56     0.1642  ",
      "text/html": "<div>\n<style scoped>\n    .dataframe tbody tr th:only-of-type {\n        vertical-align: middle;\n    }\n\n    .dataframe tbody tr th {\n        vertical-align: top;\n    }\n\n    .dataframe thead th {\n        text-align: right;\n    }\n</style>\n<table border=\"1\" class=\"dataframe\">\n  <thead>\n    <tr style=\"text-align: right;\">\n      <th></th>\n      <th>instant</th>\n      <th>dteday</th>\n      <th>season</th>\n      <th>yr</th>\n      <th>mnth</th>\n      <th>hr</th>\n      <th>holiday</th>\n      <th>weekday</th>\n      <th>workingday</th>\n      <th>weathersit</th>\n      <th>temp</th>\n      <th>atemp</th>\n      <th>hum</th>\n      <th>windspeed</th>\n    </tr>\n  </thead>\n  <tbody>\n    <tr>\n      <th>0</th>\n      <td>12000</td>\n      <td>5/20/2012</td>\n      <td>2</td>\n      <td>1</td>\n      <td>5</td>\n      <td>4</td>\n      <td>0</td>\n      <td>0</td>\n      <td>0</td>\n      <td>1</td>\n      <td>0.52</td>\n      <td>0.5000</td>\n      <td>0.68</td>\n      <td>0.0896</td>\n    </tr>\n    <tr>\n      <th>1</th>\n      <td>12001</td>\n      <td>5/20/2012</td>\n      <td>2</td>\n      <td>1</td>\n      <td>5</td>\n      <td>5</td>\n      <td>0</td>\n      <td>0</td>\n      <td>0</td>\n      <td>1</td>\n      <td>0.50</td>\n      <td>0.4848</td>\n      <td>0.72</td>\n      <td>0.1045</td>\n    </tr>\n    <tr>\n      <th>2</th>\n      <td>12002</td>\n      <td>5/20/2012</td>\n      <td>2</td>\n      <td>1</td>\n      <td>5</td>\n      <td>6</td>\n      <td>0</td>\n      <td>0</td>\n      <td>0</td>\n      <td>1</td>\n      <td>0.50</td>\n      <td>0.4848</td>\n      <td>0.63</td>\n      <td>0.1343</td>\n    </tr>\n    <tr>\n      <th>3</th>\n      <td>12003</td>\n      <td>5/20/2012</td>\n      <td>2</td>\n      <td>1</td>\n      <td>5</td>\n      <td>7</td>\n      <td>0</td>\n      <td>0</td>\n      <td>0</td>\n      <td>1</td>\n      <td>0.52</td>\n      <td>0.5000</td>\n      <td>0.68</td>\n      <td>0.1940</td>\n    </tr>\n    <tr>\n      <th>4</th>\n      <td>12004</td>\n      <td>5/20/2012</td>\n      <td>2</td>\n      <td>1</td>\n      <td>5</td>\n      <td>8</td>\n      <td>0</td>\n      <td>0</td>\n      <td>0</td>\n      <td>1</td>\n      <td>0.56</td>\n      <td>0.5303</td>\n      <td>0.56</td>\n      <td>0.1642</td>\n    </tr>\n  </tbody>\n</table>\n</div>"
     },
     "execution_count": 3,
     "metadata": {},
     "output_type": "execute_result"
    }
   ],
   "source": [
    "df_test.head()"
   ],
   "metadata": {
    "collapsed": false,
    "pycharm": {
     "name": "#%%\n"
    }
   }
  },
  {
   "cell_type": "code",
   "execution_count": 116,
   "outputs": [
    {
     "data": {
      "text/plain": "   instant    dteday  season  yr  mnth  hr  holiday  weekday  workingday  \\\n0        1  1/1/2011       1   0     1   0        0        6           0   \n1        2  1/1/2011       1   0     1   1        0        6           0   \n2        3  1/1/2011       1   0     1   2        0        6           0   \n3        4  1/1/2011       1   0     1   3        0        6           0   \n4        5  1/1/2011       1   0     1   4        0        6           0   \n\n   weathersit  temp   atemp   hum  windspeed  casual  registered  cnt  \n0           1  0.24  0.2879  0.81        0.0       3          13   16  \n1           1  0.22  0.2727  0.80        0.0       8          32   40  \n2           1  0.22  0.2727  0.80        0.0       5          27   32  \n3           1  0.24  0.2879  0.75        0.0       3          10   13  \n4           1  0.24  0.2879  0.75        0.0       0           1    1  ",
      "text/html": "<div>\n<style scoped>\n    .dataframe tbody tr th:only-of-type {\n        vertical-align: middle;\n    }\n\n    .dataframe tbody tr th {\n        vertical-align: top;\n    }\n\n    .dataframe thead th {\n        text-align: right;\n    }\n</style>\n<table border=\"1\" class=\"dataframe\">\n  <thead>\n    <tr style=\"text-align: right;\">\n      <th></th>\n      <th>instant</th>\n      <th>dteday</th>\n      <th>season</th>\n      <th>yr</th>\n      <th>mnth</th>\n      <th>hr</th>\n      <th>holiday</th>\n      <th>weekday</th>\n      <th>workingday</th>\n      <th>weathersit</th>\n      <th>temp</th>\n      <th>atemp</th>\n      <th>hum</th>\n      <th>windspeed</th>\n      <th>casual</th>\n      <th>registered</th>\n      <th>cnt</th>\n    </tr>\n  </thead>\n  <tbody>\n    <tr>\n      <th>0</th>\n      <td>1</td>\n      <td>1/1/2011</td>\n      <td>1</td>\n      <td>0</td>\n      <td>1</td>\n      <td>0</td>\n      <td>0</td>\n      <td>6</td>\n      <td>0</td>\n      <td>1</td>\n      <td>0.24</td>\n      <td>0.2879</td>\n      <td>0.81</td>\n      <td>0.0</td>\n      <td>3</td>\n      <td>13</td>\n      <td>16</td>\n    </tr>\n    <tr>\n      <th>1</th>\n      <td>2</td>\n      <td>1/1/2011</td>\n      <td>1</td>\n      <td>0</td>\n      <td>1</td>\n      <td>1</td>\n      <td>0</td>\n      <td>6</td>\n      <td>0</td>\n      <td>1</td>\n      <td>0.22</td>\n      <td>0.2727</td>\n      <td>0.80</td>\n      <td>0.0</td>\n      <td>8</td>\n      <td>32</td>\n      <td>40</td>\n    </tr>\n    <tr>\n      <th>2</th>\n      <td>3</td>\n      <td>1/1/2011</td>\n      <td>1</td>\n      <td>0</td>\n      <td>1</td>\n      <td>2</td>\n      <td>0</td>\n      <td>6</td>\n      <td>0</td>\n      <td>1</td>\n      <td>0.22</td>\n      <td>0.2727</td>\n      <td>0.80</td>\n      <td>0.0</td>\n      <td>5</td>\n      <td>27</td>\n      <td>32</td>\n    </tr>\n    <tr>\n      <th>3</th>\n      <td>4</td>\n      <td>1/1/2011</td>\n      <td>1</td>\n      <td>0</td>\n      <td>1</td>\n      <td>3</td>\n      <td>0</td>\n      <td>6</td>\n      <td>0</td>\n      <td>1</td>\n      <td>0.24</td>\n      <td>0.2879</td>\n      <td>0.75</td>\n      <td>0.0</td>\n      <td>3</td>\n      <td>10</td>\n      <td>13</td>\n    </tr>\n    <tr>\n      <th>4</th>\n      <td>5</td>\n      <td>1/1/2011</td>\n      <td>1</td>\n      <td>0</td>\n      <td>1</td>\n      <td>4</td>\n      <td>0</td>\n      <td>6</td>\n      <td>0</td>\n      <td>1</td>\n      <td>0.24</td>\n      <td>0.2879</td>\n      <td>0.75</td>\n      <td>0.0</td>\n      <td>0</td>\n      <td>1</td>\n      <td>1</td>\n    </tr>\n  </tbody>\n</table>\n</div>"
     },
     "execution_count": 116,
     "metadata": {},
     "output_type": "execute_result"
    }
   ],
   "source": [
    "df_train.head()"
   ],
   "metadata": {
    "collapsed": false,
    "pycharm": {
     "name": "#%%\n"
    }
   }
  },
  {
   "cell_type": "markdown",
   "source": [
    "El dataset de test no posee la columna casual, registered ni cnt"
   ],
   "metadata": {
    "collapsed": false,
    "pycharm": {
     "name": "#%% md\n"
    }
   }
  },
  {
   "cell_type": "markdown",
   "source": [
    "Se transforma la columna fecha en un formato ordinal para ser utilizada posteriormente en los modelos elegidos"
   ],
   "metadata": {
    "collapsed": false,
    "pycharm": {
     "name": "#%% md\n"
    }
   }
  },
  {
   "cell_type": "code",
   "execution_count": 4,
   "outputs": [],
   "source": [
    "train = df_train.copy()\n",
    "test = df_test.copy()\n",
    "train.dteday = pd.to_datetime(train.dteday)\n",
    "train.dteday = train.dteday.map(dt.datetime.toordinal)\n",
    "test.dteday = pd.to_datetime(test.dteday)\n",
    "test.dteday = test.dteday.map(dt.datetime.toordinal)"
   ],
   "metadata": {
    "collapsed": false,
    "pycharm": {
     "name": "#%%\n"
    }
   }
  },
  {
   "cell_type": "markdown",
   "source": [
    "Se plantea la matriz de correlación correspondiente para observar la relación entre las distintas features"
   ],
   "metadata": {
    "collapsed": false,
    "pycharm": {
     "name": "#%% md\n"
    }
   }
  },
  {
   "cell_type": "code",
   "execution_count": 11,
   "outputs": [
    {
     "data": {
      "text/plain": "<pandas.io.formats.style.Styler at 0x7f26ec3bd0a0>",
      "text/html": "<style type=\"text/css\">\n#T_0f137_row0_col0, #T_0f137_row0_col1, #T_0f137_row1_col0, #T_0f137_row1_col1, #T_0f137_row2_col2, #T_0f137_row3_col3, #T_0f137_row4_col4, #T_0f137_row5_col5, #T_0f137_row6_col6, #T_0f137_row7_col7, #T_0f137_row8_col8, #T_0f137_row9_col9, #T_0f137_row10_col10, #T_0f137_row11_col11, #T_0f137_row12_col12, #T_0f137_row13_col13, #T_0f137_row14_col14, #T_0f137_row15_col15, #T_0f137_row16_col16 {\n  background-color: #00441b;\n  color: #f1f1f1;\n}\n#T_0f137_row0_col2, #T_0f137_row4_col12 {\n  background-color: #9cd797;\n  color: #000000;\n}\n#T_0f137_row0_col3, #T_0f137_row1_col3 {\n  background-color: #077331;\n  color: #f1f1f1;\n}\n#T_0f137_row0_col4, #T_0f137_row1_col4 {\n  background-color: #8ace88;\n  color: #000000;\n}\n#T_0f137_row0_col5, #T_0f137_row0_col11, #T_0f137_row1_col5, #T_0f137_row1_col11, #T_0f137_row2_col5, #T_0f137_row4_col5 {\n  background-color: #d4eece;\n  color: #000000;\n}\n#T_0f137_row0_col6, #T_0f137_row0_col13, #T_0f137_row1_col6, #T_0f137_row1_col13, #T_0f137_row4_col6, #T_0f137_row6_col5, #T_0f137_row6_col12 {\n  background-color: #d2edcc;\n  color: #000000;\n}\n#T_0f137_row0_col7, #T_0f137_row1_col7, #T_0f137_row9_col10, #T_0f137_row13_col7 {\n  background-color: #e9f7e5;\n  color: #000000;\n}\n#T_0f137_row0_col8, #T_0f137_row1_col8, #T_0f137_row3_col8, #T_0f137_row5_col8, #T_0f137_row12_col3 {\n  background-color: #cbebc5;\n  color: #000000;\n}\n#T_0f137_row0_col9, #T_0f137_row1_col9, #T_0f137_row4_col13, #T_0f137_row7_col6, #T_0f137_row9_col14, #T_0f137_row14_col7, #T_0f137_row16_col7 {\n  background-color: #e7f6e2;\n  color: #000000;\n}\n#T_0f137_row0_col10, #T_0f137_row1_col10, #T_0f137_row4_col0 {\n  background-color: #d6efd0;\n  color: #000000;\n}\n#T_0f137_row0_col12, #T_0f137_row1_col12, #T_0f137_row7_col15, #T_0f137_row8_col13 {\n  background-color: #cdecc7;\n  color: #000000;\n}\n#T_0f137_row0_col14, #T_0f137_row1_col14, #T_0f137_row2_col16, #T_0f137_row8_col2, #T_0f137_row9_col4 {\n  background-color: #b2e0ac;\n  color: #000000;\n}\n#T_0f137_row0_col15, #T_0f137_row1_col15 {\n  background-color: #99d595;\n  color: #000000;\n}\n#T_0f137_row0_col16, #T_0f137_row1_col16 {\n  background-color: #95d391;\n  color: #000000;\n}\n#T_0f137_row1_col2, #T_0f137_row14_col2 {\n  background-color: #9bd696;\n  color: #000000;\n}\n#T_0f137_row2_col0, #T_0f137_row2_col1, #T_0f137_row6_col10, #T_0f137_row14_col0, #T_0f137_row14_col1 {\n  background-color: #e1f3dc;\n  color: #000000;\n}\n#T_0f137_row2_col3, #T_0f137_row15_col12 {\n  background-color: #f3faf0;\n  color: #000000;\n}\n#T_0f137_row2_col4, #T_0f137_row4_col2 {\n  background-color: #006227;\n  color: #f1f1f1;\n}\n#T_0f137_row2_col6, #T_0f137_row4_col1, #T_0f137_row10_col3 {\n  background-color: #d5efcf;\n  color: #000000;\n}\n#T_0f137_row2_col7, #T_0f137_row5_col7, #T_0f137_row10_col7, #T_0f137_row11_col7 {\n  background-color: #ebf7e7;\n  color: #000000;\n}\n#T_0f137_row2_col8 {\n  background-color: #caeac3;\n  color: #000000;\n}\n#T_0f137_row2_col9, #T_0f137_row3_col9, #T_0f137_row3_col12, #T_0f137_row8_col7 {\n  background-color: #e5f5e1;\n  color: #000000;\n}\n#T_0f137_row2_col10, #T_0f137_row5_col15, #T_0f137_row15_col5 {\n  background-color: #70c274;\n  color: #000000;\n}\n#T_0f137_row2_col11, #T_0f137_row12_col9 {\n  background-color: #72c375;\n  color: #000000;\n}\n#T_0f137_row2_col12, #T_0f137_row16_col2 {\n  background-color: #9ed798;\n  color: #000000;\n}\n#T_0f137_row2_col13, #T_0f137_row4_col9, #T_0f137_row6_col9, #T_0f137_row9_col16 {\n  background-color: #e6f5e1;\n  color: #000000;\n}\n#T_0f137_row2_col14, #T_0f137_row5_col4, #T_0f137_row9_col3 {\n  background-color: #b1e0ab;\n  color: #000000;\n}\n#T_0f137_row2_col15, #T_0f137_row5_col10, #T_0f137_row13_col14, #T_0f137_row13_col15 {\n  background-color: #bde5b6;\n  color: #000000;\n}\n#T_0f137_row3_col0, #T_0f137_row3_col1 {\n  background-color: #19833e;\n  color: #f1f1f1;\n}\n#T_0f137_row3_col2, #T_0f137_row3_col4, #T_0f137_row3_col10, #T_0f137_row3_col11, #T_0f137_row4_col3, #T_0f137_row6_col7, #T_0f137_row8_col6, #T_0f137_row8_col14, #T_0f137_row12_col5, #T_0f137_row12_col13, #T_0f137_row12_col14, #T_0f137_row12_col15, #T_0f137_row12_col16, #T_0f137_row13_col0, #T_0f137_row13_col1, #T_0f137_row14_col8, #T_0f137_row14_col9, #T_0f137_row16_col9, #T_0f137_row16_col12 {\n  background-color: #f7fcf5;\n  color: #000000;\n}\n#T_0f137_row3_col5, #T_0f137_row3_col6, #T_0f137_row5_col6, #T_0f137_row7_col5, #T_0f137_row11_col3 {\n  background-color: #d3eecd;\n  color: #000000;\n}\n#T_0f137_row3_col7, #T_0f137_row9_col11 {\n  background-color: #eaf7e6;\n  color: #000000;\n}\n#T_0f137_row3_col13, #T_0f137_row10_col8, #T_0f137_row11_col8, #T_0f137_row14_col13 {\n  background-color: #bee5b8;\n  color: #000000;\n}\n#T_0f137_row3_col14, #T_0f137_row5_col11 {\n  background-color: #c1e6ba;\n  color: #000000;\n}\n#T_0f137_row3_col15 {\n  background-color: #aadda4;\n  color: #000000;\n}\n#T_0f137_row3_col16 {\n  background-color: #a8dca2;\n  color: #000000;\n}\n#T_0f137_row4_col7, #T_0f137_row9_col7, #T_0f137_row9_col15 {\n  background-color: #e8f6e3;\n  color: #000000;\n}\n#T_0f137_row4_col8, #T_0f137_row7_col13, #T_0f137_row9_col13 {\n  background-color: #cbeac4;\n  color: #000000;\n}\n#T_0f137_row4_col10 {\n  background-color: #83cb82;\n  color: #000000;\n}\n#T_0f137_row4_col11, #T_0f137_row10_col15, #T_0f137_row11_col15, #T_0f137_row12_col4 {\n  background-color: #81ca81;\n  color: #000000;\n}\n#T_0f137_row4_col14, #T_0f137_row4_col16 {\n  background-color: #bbe4b4;\n  color: #000000;\n}\n#T_0f137_row4_col15, #T_0f137_row15_col0, #T_0f137_row15_col1 {\n  background-color: #c4e8bd;\n  color: #000000;\n}\n#T_0f137_row5_col0 {\n  background-color: #f4fbf2;\n  color: #000000;\n}\n#T_0f137_row5_col1, #T_0f137_row12_col1, #T_0f137_row15_col9 {\n  background-color: #f5fbf2;\n  color: #000000;\n}\n#T_0f137_row5_col2, #T_0f137_row6_col2, #T_0f137_row9_col2, #T_0f137_row16_col13 {\n  background-color: #b7e2b1;\n  color: #000000;\n}\n#T_0f137_row5_col3, #T_0f137_row7_col3 {\n  background-color: #b0dfaa;\n  color: #000000;\n}\n#T_0f137_row5_col9, #T_0f137_row13_col11, #T_0f137_row15_col7 {\n  background-color: #e7f6e3;\n  color: #000000;\n}\n#T_0f137_row5_col12, #T_0f137_row6_col0, #T_0f137_row6_col1, #T_0f137_row6_col8, #T_0f137_row7_col1 {\n  background-color: #f2faef;\n  color: #000000;\n}\n#T_0f137_row5_col13, #T_0f137_row6_col3, #T_0f137_row8_col3 {\n  background-color: #afdfa8;\n  color: #000000;\n}\n#T_0f137_row5_col14 {\n  background-color: #86cc85;\n  color: #000000;\n}\n#T_0f137_row5_col16, #T_0f137_row10_col16, #T_0f137_row11_col16, #T_0f137_row14_col11 {\n  background-color: #65bd6f;\n  color: #f1f1f1;\n}\n#T_0f137_row6_col4, #T_0f137_row8_col4, #T_0f137_row15_col8 {\n  background-color: #aedea7;\n  color: #000000;\n}\n#T_0f137_row6_col11 {\n  background-color: #e5f5e0;\n  color: #000000;\n}\n#T_0f137_row6_col13 {\n  background-color: #c9eac2;\n  color: #000000;\n}\n#T_0f137_row6_col14, #T_0f137_row7_col14, #T_0f137_row12_col8, #T_0f137_row16_col8 {\n  background-color: #c8e9c1;\n  color: #000000;\n}\n#T_0f137_row6_col15, #T_0f137_row16_col6 {\n  background-color: #daf0d4;\n  color: #000000;\n}\n#T_0f137_row6_col16, #T_0f137_row8_col5, #T_0f137_row13_col2 {\n  background-color: #d1edcb;\n  color: #000000;\n}\n#T_0f137_row7_col0, #T_0f137_row8_col0, #T_0f137_row8_col1 {\n  background-color: #f2faf0;\n  color: #000000;\n}\n#T_0f137_row7_col2, #T_0f137_row13_col5, #T_0f137_row13_col16 {\n  background-color: #b6e2af;\n  color: #000000;\n}\n#T_0f137_row7_col4 {\n  background-color: #acdea6;\n  color: #000000;\n}\n#T_0f137_row7_col8, #T_0f137_row7_col16, #T_0f137_row8_col12, #T_0f137_row8_col16, #T_0f137_row16_col0, #T_0f137_row16_col1 {\n  background-color: #c7e9c0;\n  color: #000000;\n}\n#T_0f137_row7_col9 {\n  background-color: #e0f3db;\n  color: #000000;\n}\n#T_0f137_row7_col10, #T_0f137_row12_col11 {\n  background-color: #ddf2d8;\n  color: #000000;\n}\n#T_0f137_row7_col11, #T_0f137_row12_col10 {\n  background-color: #dff3da;\n  color: #000000;\n}\n#T_0f137_row7_col12 {\n  background-color: #d0edca;\n  color: #000000;\n}\n#T_0f137_row8_col9 {\n  background-color: #dbf1d6;\n  color: #000000;\n}\n#T_0f137_row8_col10, #T_0f137_row8_col11, #T_0f137_row10_col12, #T_0f137_row10_col13, #T_0f137_row13_col6, #T_0f137_row14_col6 {\n  background-color: #cfecc9;\n  color: #000000;\n}\n#T_0f137_row8_col15, #T_0f137_row10_col5 {\n  background-color: #b4e1ad;\n  color: #000000;\n}\n#T_0f137_row9_col0, #T_0f137_row9_col1, #T_0f137_row12_col0 {\n  background-color: #f5fbf3;\n  color: #000000;\n}\n#T_0f137_row9_col5, #T_0f137_row9_col6, #T_0f137_row11_col13 {\n  background-color: #d7efd1;\n  color: #000000;\n}\n#T_0f137_row9_col8 {\n  background-color: #c3e7bc;\n  color: #000000;\n}\n#T_0f137_row9_col12, #T_0f137_row10_col4 {\n  background-color: #5ab769;\n  color: #f1f1f1;\n}\n#T_0f137_row10_col0, #T_0f137_row10_col1 {\n  background-color: #eff9ec;\n  color: #000000;\n}\n#T_0f137_row10_col2 {\n  background-color: #4eb264;\n  color: #f1f1f1;\n}\n#T_0f137_row10_col6 {\n  background-color: #d9f0d3;\n  color: #000000;\n}\n#T_0f137_row10_col9, #T_0f137_row11_col9 {\n  background-color: #eff9eb;\n  color: #000000;\n}\n#T_0f137_row10_col11, #T_0f137_row11_col10 {\n  background-color: #00451c;\n  color: #f1f1f1;\n}\n#T_0f137_row10_col14, #T_0f137_row11_col14 {\n  background-color: #55b567;\n  color: #f1f1f1;\n}\n#T_0f137_row11_col0, #T_0f137_row12_col7 {\n  background-color: #edf8ea;\n  color: #000000;\n}\n#T_0f137_row11_col1 {\n  background-color: #edf8e9;\n  color: #000000;\n}\n#T_0f137_row11_col2 {\n  background-color: #4db163;\n  color: #f1f1f1;\n}\n#T_0f137_row11_col4 {\n  background-color: #58b668;\n  color: #f1f1f1;\n}\n#T_0f137_row11_col5 {\n  background-color: #b5e1ae;\n  color: #000000;\n}\n#T_0f137_row11_col6, #T_0f137_row12_col6 {\n  background-color: #dbf1d5;\n  color: #000000;\n}\n#T_0f137_row11_col12, #T_0f137_row13_col4, #T_0f137_row13_col8 {\n  background-color: #ccebc6;\n  color: #000000;\n}\n#T_0f137_row12_col2 {\n  background-color: #87cd86;\n  color: #000000;\n}\n#T_0f137_row13_col3, #T_0f137_row15_col2 {\n  background-color: #a2d99c;\n  color: #000000;\n}\n#T_0f137_row13_col9 {\n  background-color: #e2f4dd;\n  color: #000000;\n}\n#T_0f137_row13_col10 {\n  background-color: #def2d9;\n  color: #000000;\n}\n#T_0f137_row13_col12, #T_0f137_row14_col12 {\n  background-color: #f6fcf4;\n  color: #000000;\n}\n#T_0f137_row14_col3 {\n  background-color: #a4da9e;\n  color: #000000;\n}\n#T_0f137_row14_col4 {\n  background-color: #9fd899;\n  color: #000000;\n}\n#T_0f137_row14_col5, #T_0f137_row15_col11, #T_0f137_row16_col3 {\n  background-color: #8dd08a;\n  color: #000000;\n}\n#T_0f137_row14_col10 {\n  background-color: #63bc6e;\n  color: #f1f1f1;\n}\n#T_0f137_row14_col15 {\n  background-color: #48ae60;\n  color: #f1f1f1;\n}\n#T_0f137_row14_col16, #T_0f137_row16_col14 {\n  background-color: #1d8640;\n  color: #f1f1f1;\n}\n#T_0f137_row15_col3 {\n  background-color: #88ce87;\n  color: #000000;\n}\n#T_0f137_row15_col4 {\n  background-color: #a3da9d;\n  color: #000000;\n}\n#T_0f137_row15_col6 {\n  background-color: #dcf2d7;\n  color: #000000;\n}\n#T_0f137_row15_col10 {\n  background-color: #8bcf89;\n  color: #000000;\n}\n#T_0f137_row15_col13 {\n  background-color: #b8e3b2;\n  color: #000000;\n}\n#T_0f137_row15_col14 {\n  background-color: #43ac5e;\n  color: #f1f1f1;\n}\n#T_0f137_row15_col16, #T_0f137_row16_col15 {\n  background-color: #004c1e;\n  color: #f1f1f1;\n}\n#T_0f137_row16_col4 {\n  background-color: #a0d99b;\n  color: #000000;\n}\n#T_0f137_row16_col5 {\n  background-color: #6bc072;\n  color: #000000;\n}\n#T_0f137_row16_col10 {\n  background-color: #76c578;\n  color: #000000;\n}\n#T_0f137_row16_col11 {\n  background-color: #78c679;\n  color: #000000;\n}\n</style>\n<table id=\"T_0f137\">\n  <thead>\n    <tr>\n      <th class=\"blank level0\" >&nbsp;</th>\n      <th id=\"T_0f137_level0_col0\" class=\"col_heading level0 col0\" >instant</th>\n      <th id=\"T_0f137_level0_col1\" class=\"col_heading level0 col1\" >dteday</th>\n      <th id=\"T_0f137_level0_col2\" class=\"col_heading level0 col2\" >season</th>\n      <th id=\"T_0f137_level0_col3\" class=\"col_heading level0 col3\" >yr</th>\n      <th id=\"T_0f137_level0_col4\" class=\"col_heading level0 col4\" >mnth</th>\n      <th id=\"T_0f137_level0_col5\" class=\"col_heading level0 col5\" >hr</th>\n      <th id=\"T_0f137_level0_col6\" class=\"col_heading level0 col6\" >holiday</th>\n      <th id=\"T_0f137_level0_col7\" class=\"col_heading level0 col7\" >weekday</th>\n      <th id=\"T_0f137_level0_col8\" class=\"col_heading level0 col8\" >workingday</th>\n      <th id=\"T_0f137_level0_col9\" class=\"col_heading level0 col9\" >weathersit</th>\n      <th id=\"T_0f137_level0_col10\" class=\"col_heading level0 col10\" >temp</th>\n      <th id=\"T_0f137_level0_col11\" class=\"col_heading level0 col11\" >atemp</th>\n      <th id=\"T_0f137_level0_col12\" class=\"col_heading level0 col12\" >hum</th>\n      <th id=\"T_0f137_level0_col13\" class=\"col_heading level0 col13\" >windspeed</th>\n      <th id=\"T_0f137_level0_col14\" class=\"col_heading level0 col14\" >casual</th>\n      <th id=\"T_0f137_level0_col15\" class=\"col_heading level0 col15\" >registered</th>\n      <th id=\"T_0f137_level0_col16\" class=\"col_heading level0 col16\" >cnt</th>\n    </tr>\n  </thead>\n  <tbody>\n    <tr>\n      <th id=\"T_0f137_level0_row0\" class=\"row_heading level0 row0\" >instant</th>\n      <td id=\"T_0f137_row0_col0\" class=\"data row0 col0\" >1.000000</td>\n      <td id=\"T_0f137_row0_col1\" class=\"data row0 col1\" >0.999990</td>\n      <td id=\"T_0f137_row0_col2\" class=\"data row0 col2\" >0.118039</td>\n      <td id=\"T_0f137_row0_col3\" class=\"data row0 col3\" >0.777284</td>\n      <td id=\"T_0f137_row0_col4\" class=\"data row0 col4\" >0.167195</td>\n      <td id=\"T_0f137_row0_col5\" class=\"data row0 col5\" >-0.007446</td>\n      <td id=\"T_0f137_row0_col6\" class=\"data row0 col6\" >0.008323</td>\n      <td id=\"T_0f137_row0_col7\" class=\"data row0 col7\" >0.007103</td>\n      <td id=\"T_0f137_row0_col8\" class=\"data row0 col8\" >0.005295</td>\n      <td id=\"T_0f137_row0_col9\" class=\"data row0 col9\" >-0.015359</td>\n      <td id=\"T_0f137_row0_col10\" class=\"data row0 col10\" >0.029297</td>\n      <td id=\"T_0f137_row0_col11\" class=\"data row0 col11\" >0.042490</td>\n      <td id=\"T_0f137_row0_col12\" class=\"data row0 col12\" >-0.013275</td>\n      <td id=\"T_0f137_row0_col13\" class=\"data row0 col13\" >-0.029001</td>\n      <td id=\"T_0f137_row0_col14\" class=\"data row0 col14\" >0.115768</td>\n      <td id=\"T_0f137_row0_col15\" class=\"data row0 col15\" >0.238546</td>\n      <td id=\"T_0f137_row0_col16\" class=\"data row0 col16\" >0.229814</td>\n    </tr>\n    <tr>\n      <th id=\"T_0f137_level0_row1\" class=\"row_heading level0 row1\" >dteday</th>\n      <td id=\"T_0f137_row1_col0\" class=\"data row1 col0\" >0.999990</td>\n      <td id=\"T_0f137_row1_col1\" class=\"data row1 col1\" >1.000000</td>\n      <td id=\"T_0f137_row1_col2\" class=\"data row1 col2\" >0.119277</td>\n      <td id=\"T_0f137_row1_col3\" class=\"data row1 col3\" >0.776468</td>\n      <td id=\"T_0f137_row1_col4\" class=\"data row1 col4\" >0.168474</td>\n      <td id=\"T_0f137_row1_col5\" class=\"data row1 col5\" >-0.009457</td>\n      <td id=\"T_0f137_row1_col6\" class=\"data row1 col6\" >0.008254</td>\n      <td id=\"T_0f137_row1_col7\" class=\"data row1 col7\" >0.007121</td>\n      <td id=\"T_0f137_row1_col8\" class=\"data row1 col8\" >0.005410</td>\n      <td id=\"T_0f137_row1_col9\" class=\"data row1 col9\" >-0.015217</td>\n      <td id=\"T_0f137_row1_col10\" class=\"data row1 col10\" >0.030437</td>\n      <td id=\"T_0f137_row1_col11\" class=\"data row1 col11\" >0.043644</td>\n      <td id=\"T_0f137_row1_col12\" class=\"data row1 col12\" >-0.012197</td>\n      <td id=\"T_0f137_row1_col13\" class=\"data row1 col13\" >-0.029317</td>\n      <td id=\"T_0f137_row1_col14\" class=\"data row1 col14\" >0.115635</td>\n      <td id=\"T_0f137_row1_col15\" class=\"data row1 col15\" >0.238038</td>\n      <td id=\"T_0f137_row1_col16\" class=\"data row1 col16\" >0.229357</td>\n    </tr>\n    <tr>\n      <th id=\"T_0f137_level0_row2\" class=\"row_heading level0 row2\" >season</th>\n      <td id=\"T_0f137_row2_col0\" class=\"data row2 col0\" >0.118039</td>\n      <td id=\"T_0f137_row2_col1\" class=\"data row2 col1\" >0.119277</td>\n      <td id=\"T_0f137_row2_col2\" class=\"data row2 col2\" >1.000000</td>\n      <td id=\"T_0f137_row2_col3\" class=\"data row2 col3\" >-0.446665</td>\n      <td id=\"T_0f137_row2_col4\" class=\"data row2 col4\" >0.865268</td>\n      <td id=\"T_0f137_row2_col5\" class=\"data row2 col5\" >-0.007610</td>\n      <td id=\"T_0f137_row2_col6\" class=\"data row2 col6\" >-0.008928</td>\n      <td id=\"T_0f137_row2_col7\" class=\"data row2 col7\" >-0.003688</td>\n      <td id=\"T_0f137_row2_col8\" class=\"data row2 col8\" >0.012630</td>\n      <td id=\"T_0f137_row2_col9\" class=\"data row2 col9\" >-0.009029</td>\n      <td id=\"T_0f137_row2_col10\" class=\"data row2 col10\" >0.410790</td>\n      <td id=\"T_0f137_row2_col11\" class=\"data row2 col11\" >0.413196</td>\n      <td id=\"T_0f137_row2_col12\" class=\"data row2 col12\" >0.198937</td>\n      <td id=\"T_0f137_row2_col13\" class=\"data row2 col13\" >-0.142924</td>\n      <td id=\"T_0f137_row2_col14\" class=\"data row2 col14\" >0.119043</td>\n      <td id=\"T_0f137_row2_col15\" class=\"data row2 col15\" >0.093595</td>\n      <td id=\"T_0f137_row2_col16\" class=\"data row2 col16\" >0.111369</td>\n    </tr>\n    <tr>\n      <th id=\"T_0f137_level0_row3\" class=\"row_heading level0 row3\" >yr</th>\n      <td id=\"T_0f137_row3_col0\" class=\"data row3 col0\" >0.777284</td>\n      <td id=\"T_0f137_row3_col1\" class=\"data row3 col1\" >0.776468</td>\n      <td id=\"T_0f137_row3_col2\" class=\"data row3 col2\" >-0.446665</td>\n      <td id=\"T_0f137_row3_col3\" class=\"data row3 col3\" >1.000000</td>\n      <td id=\"T_0f137_row3_col4\" class=\"data row3 col4\" >-0.488103</td>\n      <td id=\"T_0f137_row3_col5\" class=\"data row3 col5\" >-0.003948</td>\n      <td id=\"T_0f137_row3_col6\" class=\"data row3 col6\" >0.001039</td>\n      <td id=\"T_0f137_row3_col7\" class=\"data row3 col7\" >-0.002714</td>\n      <td id=\"T_0f137_row3_col8\" class=\"data row3 col8\" >0.001068</td>\n      <td id=\"T_0f137_row3_col9\" class=\"data row3 col9\" >-0.006309</td>\n      <td id=\"T_0f137_row3_col10\" class=\"data row3 col10\" >-0.198929</td>\n      <td id=\"T_0f137_row3_col11\" class=\"data row3 col11\" >-0.190360</td>\n      <td id=\"T_0f137_row3_col12\" class=\"data row3 col12\" >-0.141319</td>\n      <td id=\"T_0f137_row3_col13\" class=\"data row3 col13\" >0.067356</td>\n      <td id=\"T_0f137_row3_col14\" class=\"data row3 col14\" >0.053371</td>\n      <td id=\"T_0f137_row3_col15\" class=\"data row3 col15\" >0.171910</td>\n      <td id=\"T_0f137_row3_col16\" class=\"data row3 col16\" >0.156960</td>\n    </tr>\n    <tr>\n      <th id=\"T_0f137_level0_row4\" class=\"row_heading level0 row4\" >mnth</th>\n      <td id=\"T_0f137_row4_col0\" class=\"data row4 col0\" >0.167195</td>\n      <td id=\"T_0f137_row4_col1\" class=\"data row4 col1\" >0.168474</td>\n      <td id=\"T_0f137_row4_col2\" class=\"data row4 col2\" >0.865268</td>\n      <td id=\"T_0f137_row4_col3\" class=\"data row4 col3\" >-0.488103</td>\n      <td id=\"T_0f137_row4_col4\" class=\"data row4 col4\" >1.000000</td>\n      <td id=\"T_0f137_row4_col5\" class=\"data row4 col5\" >-0.007060</td>\n      <td id=\"T_0f137_row4_col6\" class=\"data row4 col6\" >0.009372</td>\n      <td id=\"T_0f137_row4_col7\" class=\"data row4 col7\" >0.014500</td>\n      <td id=\"T_0f137_row4_col8\" class=\"data row4 col8\" >0.006441</td>\n      <td id=\"T_0f137_row4_col9\" class=\"data row4 col9\" >-0.012239</td>\n      <td id=\"T_0f137_row4_col10\" class=\"data row4 col10\" >0.353330</td>\n      <td id=\"T_0f137_row4_col11\" class=\"data row4 col11\" >0.358541</td>\n      <td id=\"T_0f137_row4_col12\" class=\"data row4 col12\" >0.201669</td>\n      <td id=\"T_0f137_row4_col13\" class=\"data row4 col13\" >-0.147042</td>\n      <td id=\"T_0f137_row4_col14\" class=\"data row4 col14\" >0.078563</td>\n      <td id=\"T_0f137_row4_col15\" class=\"data row4 col15\" >0.061686</td>\n      <td id=\"T_0f137_row4_col16\" class=\"data row4 col16\" >0.073431</td>\n    </tr>\n    <tr>\n      <th id=\"T_0f137_level0_row5\" class=\"row_heading level0 row5\" >hr</th>\n      <td id=\"T_0f137_row5_col0\" class=\"data row5 col0\" >-0.007446</td>\n      <td id=\"T_0f137_row5_col1\" class=\"data row5 col1\" >-0.009457</td>\n      <td id=\"T_0f137_row5_col2\" class=\"data row5 col2\" >-0.007610</td>\n      <td id=\"T_0f137_row5_col3\" class=\"data row5 col3\" >-0.003948</td>\n      <td id=\"T_0f137_row5_col4\" class=\"data row5 col4\" >-0.007060</td>\n      <td id=\"T_0f137_row5_col5\" class=\"data row5 col5\" >1.000000</td>\n      <td id=\"T_0f137_row5_col6\" class=\"data row5 col6\" >0.000414</td>\n      <td id=\"T_0f137_row5_col7\" class=\"data row5 col7\" >-0.004037</td>\n      <td id=\"T_0f137_row5_col8\" class=\"data row5 col8\" >0.003454</td>\n      <td id=\"T_0f137_row5_col9\" class=\"data row5 col9\" >-0.024003</td>\n      <td id=\"T_0f137_row5_col10\" class=\"data row5 col10\" >0.139251</td>\n      <td id=\"T_0f137_row5_col11\" class=\"data row5 col11\" >0.134633</td>\n      <td id=\"T_0f137_row5_col12\" class=\"data row5 col12\" >-0.257202</td>\n      <td id=\"T_0f137_row5_col13\" class=\"data row5 col13\" >0.130441</td>\n      <td id=\"T_0f137_row5_col14\" class=\"data row5 col14\" >0.285182</td>\n      <td id=\"T_0f137_row5_col15\" class=\"data row5 col15\" >0.381933</td>\n      <td id=\"T_0f137_row5_col16\" class=\"data row5 col16\" >0.396698</td>\n    </tr>\n    <tr>\n      <th id=\"T_0f137_level0_row6\" class=\"row_heading level0 row6\" >holiday</th>\n      <td id=\"T_0f137_row6_col0\" class=\"data row6 col0\" >0.008323</td>\n      <td id=\"T_0f137_row6_col1\" class=\"data row6 col1\" >0.008254</td>\n      <td id=\"T_0f137_row6_col2\" class=\"data row6 col2\" >-0.008928</td>\n      <td id=\"T_0f137_row6_col3\" class=\"data row6 col3\" >0.001039</td>\n      <td id=\"T_0f137_row6_col4\" class=\"data row6 col4\" >0.009372</td>\n      <td id=\"T_0f137_row6_col5\" class=\"data row6 col5\" >0.000414</td>\n      <td id=\"T_0f137_row6_col6\" class=\"data row6 col6\" >1.000000</td>\n      <td id=\"T_0f137_row6_col7\" class=\"data row6 col7\" >-0.102503</td>\n      <td id=\"T_0f137_row6_col8\" class=\"data row6 col8\" >-0.248601</td>\n      <td id=\"T_0f137_row6_col9\" class=\"data row6 col9\" >-0.014707</td>\n      <td id=\"T_0f137_row6_col10\" class=\"data row6 col10\" >-0.028519</td>\n      <td id=\"T_0f137_row6_col11\" class=\"data row6 col11\" >-0.038005</td>\n      <td id=\"T_0f137_row6_col12\" class=\"data row6 col12\" >-0.036672</td>\n      <td id=\"T_0f137_row6_col13\" class=\"data row6 col13\" >0.022681</td>\n      <td id=\"T_0f137_row6_col14\" class=\"data row6 col14\" >0.022140</td>\n      <td id=\"T_0f137_row6_col15\" class=\"data row6 col15\" >-0.044534</td>\n      <td id=\"T_0f137_row6_col16\" class=\"data row6 col16\" >-0.030304</td>\n    </tr>\n    <tr>\n      <th id=\"T_0f137_level0_row7\" class=\"row_heading level0 row7\" >weekday</th>\n      <td id=\"T_0f137_row7_col0\" class=\"data row7 col0\" >0.007103</td>\n      <td id=\"T_0f137_row7_col1\" class=\"data row7 col1\" >0.007121</td>\n      <td id=\"T_0f137_row7_col2\" class=\"data row7 col2\" >-0.003688</td>\n      <td id=\"T_0f137_row7_col3\" class=\"data row7 col3\" >-0.002714</td>\n      <td id=\"T_0f137_row7_col4\" class=\"data row7 col4\" >0.014500</td>\n      <td id=\"T_0f137_row7_col5\" class=\"data row7 col5\" >-0.004037</td>\n      <td id=\"T_0f137_row7_col6\" class=\"data row7 col6\" >-0.102503</td>\n      <td id=\"T_0f137_row7_col7\" class=\"data row7 col7\" >1.000000</td>\n      <td id=\"T_0f137_row7_col8\" class=\"data row7 col8\" >0.031057</td>\n      <td id=\"T_0f137_row7_col9\" class=\"data row7 col9\" >0.017259</td>\n      <td id=\"T_0f137_row7_col10\" class=\"data row7 col10\" >-0.010002</td>\n      <td id=\"T_0f137_row7_col11\" class=\"data row7 col11\" >-0.009841</td>\n      <td id=\"T_0f137_row7_col12\" class=\"data row7 col12\" >-0.025932</td>\n      <td id=\"T_0f137_row7_col13\" class=\"data row7 col13\" >0.008447</td>\n      <td id=\"T_0f137_row7_col14\" class=\"data row7 col14\" >0.023687</td>\n      <td id=\"T_0f137_row7_col15\" class=\"data row7 col15\" >0.019179</td>\n      <td id=\"T_0f137_row7_col16\" class=\"data row7 col16\" >0.022618</td>\n    </tr>\n    <tr>\n      <th id=\"T_0f137_level0_row8\" class=\"row_heading level0 row8\" >workingday</th>\n      <td id=\"T_0f137_row8_col0\" class=\"data row8 col0\" >0.005295</td>\n      <td id=\"T_0f137_row8_col1\" class=\"data row8 col1\" >0.005410</td>\n      <td id=\"T_0f137_row8_col2\" class=\"data row8 col2\" >0.012630</td>\n      <td id=\"T_0f137_row8_col3\" class=\"data row8 col3\" >0.001068</td>\n      <td id=\"T_0f137_row8_col4\" class=\"data row8 col4\" >0.006441</td>\n      <td id=\"T_0f137_row8_col5\" class=\"data row8 col5\" >0.003454</td>\n      <td id=\"T_0f137_row8_col6\" class=\"data row8 col6\" >-0.248601</td>\n      <td id=\"T_0f137_row8_col7\" class=\"data row8 col7\" >0.031057</td>\n      <td id=\"T_0f137_row8_col8\" class=\"data row8 col8\" >1.000000</td>\n      <td id=\"T_0f137_row8_col9\" class=\"data row8 col9\" >0.042202</td>\n      <td id=\"T_0f137_row8_col10\" class=\"data row8 col10\" >0.062273</td>\n      <td id=\"T_0f137_row8_col11\" class=\"data row8 col11\" >0.066305</td>\n      <td id=\"T_0f137_row8_col12\" class=\"data row8 col12\" >0.022805</td>\n      <td id=\"T_0f137_row8_col13\" class=\"data row8 col13\" >-0.002493</td>\n      <td id=\"T_0f137_row8_col14\" class=\"data row8 col14\" >-0.298241</td>\n      <td id=\"T_0f137_row8_col15\" class=\"data row8 col15\" >0.134789</td>\n      <td id=\"T_0f137_row8_col16\" class=\"data row8 col16\" >0.025132</td>\n    </tr>\n    <tr>\n      <th id=\"T_0f137_level0_row9\" class=\"row_heading level0 row9\" >weathersit</th>\n      <td id=\"T_0f137_row9_col0\" class=\"data row9 col0\" >-0.015359</td>\n      <td id=\"T_0f137_row9_col1\" class=\"data row9 col1\" >-0.015217</td>\n      <td id=\"T_0f137_row9_col2\" class=\"data row9 col2\" >-0.009029</td>\n      <td id=\"T_0f137_row9_col3\" class=\"data row9 col3\" >-0.006309</td>\n      <td id=\"T_0f137_row9_col4\" class=\"data row9 col4\" >-0.012239</td>\n      <td id=\"T_0f137_row9_col5\" class=\"data row9 col5\" >-0.024003</td>\n      <td id=\"T_0f137_row9_col6\" class=\"data row9 col6\" >-0.014707</td>\n      <td id=\"T_0f137_row9_col7\" class=\"data row9 col7\" >0.017259</td>\n      <td id=\"T_0f137_row9_col8\" class=\"data row9 col8\" >0.042202</td>\n      <td id=\"T_0f137_row9_col9\" class=\"data row9 col9\" >1.000000</td>\n      <td id=\"T_0f137_row9_col10\" class=\"data row9 col10\" >-0.080149</td>\n      <td id=\"T_0f137_row9_col11\" class=\"data row9 col11\" >-0.081386</td>\n      <td id=\"T_0f137_row9_col12\" class=\"data row9 col12\" >0.430378</td>\n      <td id=\"T_0f137_row9_col13\" class=\"data row9 col13\" >0.009195</td>\n      <td id=\"T_0f137_row9_col14\" class=\"data row9 col14\" >-0.147903</td>\n      <td id=\"T_0f137_row9_col15\" class=\"data row9 col15\" >-0.130223</td>\n      <td id=\"T_0f137_row9_col16\" class=\"data row9 col16\" >-0.149848</td>\n    </tr>\n    <tr>\n      <th id=\"T_0f137_level0_row10\" class=\"row_heading level0 row10\" >temp</th>\n      <td id=\"T_0f137_row10_col0\" class=\"data row10 col0\" >0.029297</td>\n      <td id=\"T_0f137_row10_col1\" class=\"data row10 col1\" >0.030437</td>\n      <td id=\"T_0f137_row10_col2\" class=\"data row10 col2\" >0.410790</td>\n      <td id=\"T_0f137_row10_col3\" class=\"data row10 col3\" >-0.198929</td>\n      <td id=\"T_0f137_row10_col4\" class=\"data row10 col4\" >0.353330</td>\n      <td id=\"T_0f137_row10_col5\" class=\"data row10 col5\" >0.139251</td>\n      <td id=\"T_0f137_row10_col6\" class=\"data row10 col6\" >-0.028519</td>\n      <td id=\"T_0f137_row10_col7\" class=\"data row10 col7\" >-0.010002</td>\n      <td id=\"T_0f137_row10_col8\" class=\"data row10 col8\" >0.062273</td>\n      <td id=\"T_0f137_row10_col9\" class=\"data row10 col9\" >-0.080149</td>\n      <td id=\"T_0f137_row10_col10\" class=\"data row10 col10\" >1.000000</td>\n      <td id=\"T_0f137_row10_col11\" class=\"data row10 col11\" >0.991785</td>\n      <td id=\"T_0f137_row10_col12\" class=\"data row10 col12\" >-0.019289</td>\n      <td id=\"T_0f137_row10_col13\" class=\"data row10 col13\" >-0.013984</td>\n      <td id=\"T_0f137_row10_col14\" class=\"data row10 col14\" >0.450777</td>\n      <td id=\"T_0f137_row10_col15\" class=\"data row10 col15\" >0.322875</td>\n      <td id=\"T_0f137_row10_col16\" class=\"data row10 col16\" >0.395743</td>\n    </tr>\n    <tr>\n      <th id=\"T_0f137_level0_row11\" class=\"row_heading level0 row11\" >atemp</th>\n      <td id=\"T_0f137_row11_col0\" class=\"data row11 col0\" >0.042490</td>\n      <td id=\"T_0f137_row11_col1\" class=\"data row11 col1\" >0.043644</td>\n      <td id=\"T_0f137_row11_col2\" class=\"data row11 col2\" >0.413196</td>\n      <td id=\"T_0f137_row11_col3\" class=\"data row11 col3\" >-0.190360</td>\n      <td id=\"T_0f137_row11_col4\" class=\"data row11 col4\" >0.358541</td>\n      <td id=\"T_0f137_row11_col5\" class=\"data row11 col5\" >0.134633</td>\n      <td id=\"T_0f137_row11_col6\" class=\"data row11 col6\" >-0.038005</td>\n      <td id=\"T_0f137_row11_col7\" class=\"data row11 col7\" >-0.009841</td>\n      <td id=\"T_0f137_row11_col8\" class=\"data row11 col8\" >0.066305</td>\n      <td id=\"T_0f137_row11_col9\" class=\"data row11 col9\" >-0.081386</td>\n      <td id=\"T_0f137_row11_col10\" class=\"data row11 col10\" >0.991785</td>\n      <td id=\"T_0f137_row11_col11\" class=\"data row11 col11\" >1.000000</td>\n      <td id=\"T_0f137_row11_col12\" class=\"data row11 col12\" >-0.003669</td>\n      <td id=\"T_0f137_row11_col13\" class=\"data row11 col13\" >-0.057619</td>\n      <td id=\"T_0f137_row11_col14\" class=\"data row11 col14\" >0.447899</td>\n      <td id=\"T_0f137_row11_col15\" class=\"data row11 col15\" >0.323264</td>\n      <td id=\"T_0f137_row11_col16\" class=\"data row11 col16\" >0.395234</td>\n    </tr>\n    <tr>\n      <th id=\"T_0f137_level0_row12\" class=\"row_heading level0 row12\" >hum</th>\n      <td id=\"T_0f137_row12_col0\" class=\"data row12 col0\" >-0.013275</td>\n      <td id=\"T_0f137_row12_col1\" class=\"data row12 col1\" >-0.012197</td>\n      <td id=\"T_0f137_row12_col2\" class=\"data row12 col2\" >0.198937</td>\n      <td id=\"T_0f137_row12_col3\" class=\"data row12 col3\" >-0.141319</td>\n      <td id=\"T_0f137_row12_col4\" class=\"data row12 col4\" >0.201669</td>\n      <td id=\"T_0f137_row12_col5\" class=\"data row12 col5\" >-0.257202</td>\n      <td id=\"T_0f137_row12_col6\" class=\"data row12 col6\" >-0.036672</td>\n      <td id=\"T_0f137_row12_col7\" class=\"data row12 col7\" >-0.025932</td>\n      <td id=\"T_0f137_row12_col8\" class=\"data row12 col8\" >0.022805</td>\n      <td id=\"T_0f137_row12_col9\" class=\"data row12 col9\" >0.430378</td>\n      <td id=\"T_0f137_row12_col10\" class=\"data row12 col10\" >-0.019289</td>\n      <td id=\"T_0f137_row12_col11\" class=\"data row12 col11\" >-0.003669</td>\n      <td id=\"T_0f137_row12_col12\" class=\"data row12 col12\" >1.000000</td>\n      <td id=\"T_0f137_row12_col13\" class=\"data row12 col13\" >-0.295765</td>\n      <td id=\"T_0f137_row12_col14\" class=\"data row12 col14\" >-0.298354</td>\n      <td id=\"T_0f137_row12_col15\" class=\"data row12 col15\" >-0.264382</td>\n      <td id=\"T_0f137_row12_col16\" class=\"data row12 col16\" >-0.303672</td>\n    </tr>\n    <tr>\n      <th id=\"T_0f137_level0_row13\" class=\"row_heading level0 row13\" >windspeed</th>\n      <td id=\"T_0f137_row13_col0\" class=\"data row13 col0\" >-0.029001</td>\n      <td id=\"T_0f137_row13_col1\" class=\"data row13 col1\" >-0.029317</td>\n      <td id=\"T_0f137_row13_col2\" class=\"data row13 col2\" >-0.142924</td>\n      <td id=\"T_0f137_row13_col3\" class=\"data row13 col3\" >0.067356</td>\n      <td id=\"T_0f137_row13_col4\" class=\"data row13 col4\" >-0.147042</td>\n      <td id=\"T_0f137_row13_col5\" class=\"data row13 col5\" >0.130441</td>\n      <td id=\"T_0f137_row13_col6\" class=\"data row13 col6\" >0.022681</td>\n      <td id=\"T_0f137_row13_col7\" class=\"data row13 col7\" >0.008447</td>\n      <td id=\"T_0f137_row13_col8\" class=\"data row13 col8\" >-0.002493</td>\n      <td id=\"T_0f137_row13_col9\" class=\"data row13 col9\" >0.009195</td>\n      <td id=\"T_0f137_row13_col10\" class=\"data row13 col10\" >-0.013984</td>\n      <td id=\"T_0f137_row13_col11\" class=\"data row13 col11\" >-0.057619</td>\n      <td id=\"T_0f137_row13_col12\" class=\"data row13 col12\" >-0.295765</td>\n      <td id=\"T_0f137_row13_col13\" class=\"data row13 col13\" >1.000000</td>\n      <td id=\"T_0f137_row13_col14\" class=\"data row13 col14\" >0.067061</td>\n      <td id=\"T_0f137_row13_col15\" class=\"data row13 col15\" >0.091642</td>\n      <td id=\"T_0f137_row13_col16\" class=\"data row13 col16\" >0.094791</td>\n    </tr>\n    <tr>\n      <th id=\"T_0f137_level0_row14\" class=\"row_heading level0 row14\" >casual</th>\n      <td id=\"T_0f137_row14_col0\" class=\"data row14 col0\" >0.115768</td>\n      <td id=\"T_0f137_row14_col1\" class=\"data row14 col1\" >0.115635</td>\n      <td id=\"T_0f137_row14_col2\" class=\"data row14 col2\" >0.119043</td>\n      <td id=\"T_0f137_row14_col3\" class=\"data row14 col3\" >0.053371</td>\n      <td id=\"T_0f137_row14_col4\" class=\"data row14 col4\" >0.078563</td>\n      <td id=\"T_0f137_row14_col5\" class=\"data row14 col5\" >0.285182</td>\n      <td id=\"T_0f137_row14_col6\" class=\"data row14 col6\" >0.022140</td>\n      <td id=\"T_0f137_row14_col7\" class=\"data row14 col7\" >0.023687</td>\n      <td id=\"T_0f137_row14_col8\" class=\"data row14 col8\" >-0.298241</td>\n      <td id=\"T_0f137_row14_col9\" class=\"data row14 col9\" >-0.147903</td>\n      <td id=\"T_0f137_row14_col10\" class=\"data row14 col10\" >0.450777</td>\n      <td id=\"T_0f137_row14_col11\" class=\"data row14 col11\" >0.447899</td>\n      <td id=\"T_0f137_row14_col12\" class=\"data row14 col12\" >-0.298354</td>\n      <td id=\"T_0f137_row14_col13\" class=\"data row14 col13\" >0.067061</td>\n      <td id=\"T_0f137_row14_col14\" class=\"data row14 col14\" >1.000000</td>\n      <td id=\"T_0f137_row14_col15\" class=\"data row14 col15\" >0.503185</td>\n      <td id=\"T_0f137_row14_col16\" class=\"data row14 col16\" >0.702414</td>\n    </tr>\n    <tr>\n      <th id=\"T_0f137_level0_row15\" class=\"row_heading level0 row15\" >registered</th>\n      <td id=\"T_0f137_row15_col0\" class=\"data row15 col0\" >0.238546</td>\n      <td id=\"T_0f137_row15_col1\" class=\"data row15 col1\" >0.238038</td>\n      <td id=\"T_0f137_row15_col2\" class=\"data row15 col2\" >0.093595</td>\n      <td id=\"T_0f137_row15_col3\" class=\"data row15 col3\" >0.171910</td>\n      <td id=\"T_0f137_row15_col4\" class=\"data row15 col4\" >0.061686</td>\n      <td id=\"T_0f137_row15_col5\" class=\"data row15 col5\" >0.381933</td>\n      <td id=\"T_0f137_row15_col6\" class=\"data row15 col6\" >-0.044534</td>\n      <td id=\"T_0f137_row15_col7\" class=\"data row15 col7\" >0.019179</td>\n      <td id=\"T_0f137_row15_col8\" class=\"data row15 col8\" >0.134789</td>\n      <td id=\"T_0f137_row15_col9\" class=\"data row15 col9\" >-0.130223</td>\n      <td id=\"T_0f137_row15_col10\" class=\"data row15 col10\" >0.322875</td>\n      <td id=\"T_0f137_row15_col11\" class=\"data row15 col11\" >0.323264</td>\n      <td id=\"T_0f137_row15_col12\" class=\"data row15 col12\" >-0.264382</td>\n      <td id=\"T_0f137_row15_col13\" class=\"data row15 col13\" >0.091642</td>\n      <td id=\"T_0f137_row15_col14\" class=\"data row15 col14\" >0.503185</td>\n      <td id=\"T_0f137_row15_col15\" class=\"data row15 col15\" >1.000000</td>\n      <td id=\"T_0f137_row15_col16\" class=\"data row15 col16\" >0.968540</td>\n    </tr>\n    <tr>\n      <th id=\"T_0f137_level0_row16\" class=\"row_heading level0 row16\" >cnt</th>\n      <td id=\"T_0f137_row16_col0\" class=\"data row16 col0\" >0.229814</td>\n      <td id=\"T_0f137_row16_col1\" class=\"data row16 col1\" >0.229357</td>\n      <td id=\"T_0f137_row16_col2\" class=\"data row16 col2\" >0.111369</td>\n      <td id=\"T_0f137_row16_col3\" class=\"data row16 col3\" >0.156960</td>\n      <td id=\"T_0f137_row16_col4\" class=\"data row16 col4\" >0.073431</td>\n      <td id=\"T_0f137_row16_col5\" class=\"data row16 col5\" >0.396698</td>\n      <td id=\"T_0f137_row16_col6\" class=\"data row16 col6\" >-0.030304</td>\n      <td id=\"T_0f137_row16_col7\" class=\"data row16 col7\" >0.022618</td>\n      <td id=\"T_0f137_row16_col8\" class=\"data row16 col8\" >0.025132</td>\n      <td id=\"T_0f137_row16_col9\" class=\"data row16 col9\" >-0.149848</td>\n      <td id=\"T_0f137_row16_col10\" class=\"data row16 col10\" >0.395743</td>\n      <td id=\"T_0f137_row16_col11\" class=\"data row16 col11\" >0.395234</td>\n      <td id=\"T_0f137_row16_col12\" class=\"data row16 col12\" >-0.303672</td>\n      <td id=\"T_0f137_row16_col13\" class=\"data row16 col13\" >0.094791</td>\n      <td id=\"T_0f137_row16_col14\" class=\"data row16 col14\" >0.702414</td>\n      <td id=\"T_0f137_row16_col15\" class=\"data row16 col15\" >0.968540</td>\n      <td id=\"T_0f137_row16_col16\" class=\"data row16 col16\" >1.000000</td>\n    </tr>\n  </tbody>\n</table>\n"
     },
     "execution_count": 11,
     "metadata": {},
     "output_type": "execute_result"
    }
   ],
   "source": [
    "train.corr().style.background_gradient(cmap='Greens')"
   ],
   "metadata": {
    "collapsed": false,
    "pycharm": {
     "name": "#%%\n"
    }
   }
  },
  {
   "cell_type": "markdown",
   "source": [
    "A partir de lo observado se decide utilizar las features que aparecen a continuación y definir como variable objetivo la cantidad de bicicletas rentadas"
   ],
   "metadata": {
    "collapsed": false,
    "pycharm": {
     "name": "#%% md\n"
    }
   }
  },
  {
   "cell_type": "code",
   "execution_count": 5,
   "outputs": [],
   "source": [
    "x = train.drop(columns=['cnt', 'registered', 'casual', 'temp', 'mnth', 'yr', 'dteday'])\n",
    "y = train.cnt\n",
    "x_predecir = test.drop(columns=['temp', 'mnth', 'yr', 'dteday'])"
   ],
   "metadata": {
    "collapsed": false,
    "pycharm": {
     "name": "#%%\n"
    }
   }
  },
  {
   "cell_type": "markdown",
   "source": [
    "Se dividen estos datos para poder realizar pruebas en cada uno de los modelos"
   ],
   "metadata": {
    "collapsed": false,
    "pycharm": {
     "name": "#%% md\n"
    }
   }
  },
  {
   "cell_type": "code",
   "execution_count": 6,
   "outputs": [],
   "source": [
    "x_train, x_test, y_train, y_test = train_test_split(x, y, test_size=0.2)"
   ],
   "metadata": {
    "collapsed": false,
    "pycharm": {
     "name": "#%%\n"
    }
   }
  },
  {
   "cell_type": "markdown",
   "source": [
    "### Se presentan análisis sobre disitintas soluciones o modelos para definir cuál es el que presenta un menor RMSE"
   ],
   "metadata": {
    "collapsed": false,
    "pycharm": {
     "name": "#%% md\n"
    }
   }
  },
  {
   "cell_type": "markdown",
   "source": [
    "#### Decision Tree Regresor"
   ],
   "metadata": {
    "collapsed": false,
    "pycharm": {
     "name": "#%% md\n"
    }
   }
  },
  {
   "cell_type": "code",
   "execution_count": 93,
   "outputs": [],
   "source": [
    "tree_para = {'criterion':['squared_error']}\n",
    "model_dtr = GridSearchCV(DecisionTreeRegressor(), tree_para, cv=5)"
   ],
   "metadata": {
    "collapsed": false,
    "pycharm": {
     "name": "#%%\n"
    }
   }
  },
  {
   "cell_type": "code",
   "execution_count": 94,
   "outputs": [
    {
     "data": {
      "text/plain": "GridSearchCV(cv=5, estimator=DecisionTreeRegressor(),\n             param_grid={'criterion': ['squared_error']})",
      "text/html": "<style>#sk-container-id-16 {color: black;background-color: white;}#sk-container-id-16 pre{padding: 0;}#sk-container-id-16 div.sk-toggleable {background-color: white;}#sk-container-id-16 label.sk-toggleable__label {cursor: pointer;display: block;width: 100%;margin-bottom: 0;padding: 0.3em;box-sizing: border-box;text-align: center;}#sk-container-id-16 label.sk-toggleable__label-arrow:before {content: \"▸\";float: left;margin-right: 0.25em;color: #696969;}#sk-container-id-16 label.sk-toggleable__label-arrow:hover:before {color: black;}#sk-container-id-16 div.sk-estimator:hover label.sk-toggleable__label-arrow:before {color: black;}#sk-container-id-16 div.sk-toggleable__content {max-height: 0;max-width: 0;overflow: hidden;text-align: left;background-color: #f0f8ff;}#sk-container-id-16 div.sk-toggleable__content pre {margin: 0.2em;color: black;border-radius: 0.25em;background-color: #f0f8ff;}#sk-container-id-16 input.sk-toggleable__control:checked~div.sk-toggleable__content {max-height: 200px;max-width: 100%;overflow: auto;}#sk-container-id-16 input.sk-toggleable__control:checked~label.sk-toggleable__label-arrow:before {content: \"▾\";}#sk-container-id-16 div.sk-estimator input.sk-toggleable__control:checked~label.sk-toggleable__label {background-color: #d4ebff;}#sk-container-id-16 div.sk-label input.sk-toggleable__control:checked~label.sk-toggleable__label {background-color: #d4ebff;}#sk-container-id-16 input.sk-hidden--visually {border: 0;clip: rect(1px 1px 1px 1px);clip: rect(1px, 1px, 1px, 1px);height: 1px;margin: -1px;overflow: hidden;padding: 0;position: absolute;width: 1px;}#sk-container-id-16 div.sk-estimator {font-family: monospace;background-color: #f0f8ff;border: 1px dotted black;border-radius: 0.25em;box-sizing: border-box;margin-bottom: 0.5em;}#sk-container-id-16 div.sk-estimator:hover {background-color: #d4ebff;}#sk-container-id-16 div.sk-parallel-item::after {content: \"\";width: 100%;border-bottom: 1px solid gray;flex-grow: 1;}#sk-container-id-16 div.sk-label:hover label.sk-toggleable__label {background-color: #d4ebff;}#sk-container-id-16 div.sk-serial::before {content: \"\";position: absolute;border-left: 1px solid gray;box-sizing: border-box;top: 0;bottom: 0;left: 50%;z-index: 0;}#sk-container-id-16 div.sk-serial {display: flex;flex-direction: column;align-items: center;background-color: white;padding-right: 0.2em;padding-left: 0.2em;position: relative;}#sk-container-id-16 div.sk-item {position: relative;z-index: 1;}#sk-container-id-16 div.sk-parallel {display: flex;align-items: stretch;justify-content: center;background-color: white;position: relative;}#sk-container-id-16 div.sk-item::before, #sk-container-id-16 div.sk-parallel-item::before {content: \"\";position: absolute;border-left: 1px solid gray;box-sizing: border-box;top: 0;bottom: 0;left: 50%;z-index: -1;}#sk-container-id-16 div.sk-parallel-item {display: flex;flex-direction: column;z-index: 1;position: relative;background-color: white;}#sk-container-id-16 div.sk-parallel-item:first-child::after {align-self: flex-end;width: 50%;}#sk-container-id-16 div.sk-parallel-item:last-child::after {align-self: flex-start;width: 50%;}#sk-container-id-16 div.sk-parallel-item:only-child::after {width: 0;}#sk-container-id-16 div.sk-dashed-wrapped {border: 1px dashed gray;margin: 0 0.4em 0.5em 0.4em;box-sizing: border-box;padding-bottom: 0.4em;background-color: white;}#sk-container-id-16 div.sk-label label {font-family: monospace;font-weight: bold;display: inline-block;line-height: 1.2em;}#sk-container-id-16 div.sk-label-container {text-align: center;}#sk-container-id-16 div.sk-container {/* jupyter's `normalize.less` sets `[hidden] { display: none; }` but bootstrap.min.css set `[hidden] { display: none !important; }` so we also need the `!important` here to be able to override the default hidden behavior on the sphinx rendered scikit-learn.org. See: https://github.com/scikit-learn/scikit-learn/issues/21755 */display: inline-block !important;position: relative;}#sk-container-id-16 div.sk-text-repr-fallback {display: none;}</style><div id=\"sk-container-id-16\" class=\"sk-top-container\"><div class=\"sk-text-repr-fallback\"><pre>GridSearchCV(cv=5, estimator=DecisionTreeRegressor(),\n             param_grid={&#x27;criterion&#x27;: [&#x27;squared_error&#x27;]})</pre><b>In a Jupyter environment, please rerun this cell to show the HTML representation or trust the notebook. <br />On GitHub, the HTML representation is unable to render, please try loading this page with nbviewer.org.</b></div><div class=\"sk-container\" hidden><div class=\"sk-item sk-dashed-wrapped\"><div class=\"sk-label-container\"><div class=\"sk-label sk-toggleable\"><input class=\"sk-toggleable__control sk-hidden--visually\" id=\"sk-estimator-id-46\" type=\"checkbox\" ><label for=\"sk-estimator-id-46\" class=\"sk-toggleable__label sk-toggleable__label-arrow\">GridSearchCV</label><div class=\"sk-toggleable__content\"><pre>GridSearchCV(cv=5, estimator=DecisionTreeRegressor(),\n             param_grid={&#x27;criterion&#x27;: [&#x27;squared_error&#x27;]})</pre></div></div></div><div class=\"sk-parallel\"><div class=\"sk-parallel-item\"><div class=\"sk-item\"><div class=\"sk-label-container\"><div class=\"sk-label sk-toggleable\"><input class=\"sk-toggleable__control sk-hidden--visually\" id=\"sk-estimator-id-47\" type=\"checkbox\" ><label for=\"sk-estimator-id-47\" class=\"sk-toggleable__label sk-toggleable__label-arrow\">estimator: DecisionTreeRegressor</label><div class=\"sk-toggleable__content\"><pre>DecisionTreeRegressor()</pre></div></div></div><div class=\"sk-serial\"><div class=\"sk-item\"><div class=\"sk-estimator sk-toggleable\"><input class=\"sk-toggleable__control sk-hidden--visually\" id=\"sk-estimator-id-48\" type=\"checkbox\" ><label for=\"sk-estimator-id-48\" class=\"sk-toggleable__label sk-toggleable__label-arrow\">DecisionTreeRegressor</label><div class=\"sk-toggleable__content\"><pre>DecisionTreeRegressor()</pre></div></div></div></div></div></div></div></div></div></div>"
     },
     "execution_count": 94,
     "metadata": {},
     "output_type": "execute_result"
    }
   ],
   "source": [
    "model_dtr.fit(x_train, y_train)"
   ],
   "metadata": {
    "collapsed": false,
    "pycharm": {
     "name": "#%%\n"
    }
   }
  },
  {
   "cell_type": "code",
   "execution_count": 95,
   "outputs": [
    {
     "data": {
      "text/plain": "{'mean_fit_time': array([0.03177729]),\n 'std_fit_time': array([0.00891469]),\n 'mean_score_time': array([0.00153542]),\n 'std_score_time': array([2.20343144e-05]),\n 'param_criterion': masked_array(data=['squared_error'],\n              mask=[False],\n        fill_value='?',\n             dtype=object),\n 'params': [{'criterion': 'squared_error'}],\n 'split0_test_score': array([0.86275722]),\n 'split1_test_score': array([0.88690157]),\n 'split2_test_score': array([0.88518543]),\n 'split3_test_score': array([0.88076273]),\n 'split4_test_score': array([0.88393372]),\n 'mean_test_score': array([0.87990813]),\n 'std_test_score': array([0.00880735]),\n 'rank_test_score': array([1], dtype=int32)}"
     },
     "execution_count": 95,
     "metadata": {},
     "output_type": "execute_result"
    }
   ],
   "source": [
    "model_dtr.cv_results_"
   ],
   "metadata": {
    "collapsed": false,
    "pycharm": {
     "name": "#%%\n"
    }
   }
  },
  {
   "cell_type": "code",
   "execution_count": 96,
   "outputs": [
    {
     "data": {
      "text/plain": "49.651590273290005"
     },
     "execution_count": 96,
     "metadata": {},
     "output_type": "execute_result"
    }
   ],
   "source": [
    "y_pred = model_dtr.predict(x_test)\n",
    "RMSE_tree = math.sqrt(mean_squared_error(y_test, y_pred))\n",
    "RMSE_tree"
   ],
   "metadata": {
    "collapsed": false,
    "pycharm": {
     "name": "#%%\n"
    }
   }
  },
  {
   "cell_type": "markdown",
   "source": [
    "#### Random Forest Regresor"
   ],
   "metadata": {
    "collapsed": false,
    "pycharm": {
     "name": "#%% md\n"
    }
   }
  },
  {
   "cell_type": "code",
   "execution_count": 97,
   "outputs": [],
   "source": [
    "randomf_para = {'criterion':['squared_error']}\n",
    "model_rfr = GridSearchCV(RandomForestRegressor(), randomf_para, cv=5)"
   ],
   "metadata": {
    "collapsed": false,
    "pycharm": {
     "name": "#%%\n"
    }
   }
  },
  {
   "cell_type": "code",
   "execution_count": 98,
   "outputs": [
    {
     "data": {
      "text/plain": "GridSearchCV(cv=5, estimator=RandomForestRegressor(),\n             param_grid={'criterion': ['squared_error']})",
      "text/html": "<style>#sk-container-id-17 {color: black;background-color: white;}#sk-container-id-17 pre{padding: 0;}#sk-container-id-17 div.sk-toggleable {background-color: white;}#sk-container-id-17 label.sk-toggleable__label {cursor: pointer;display: block;width: 100%;margin-bottom: 0;padding: 0.3em;box-sizing: border-box;text-align: center;}#sk-container-id-17 label.sk-toggleable__label-arrow:before {content: \"▸\";float: left;margin-right: 0.25em;color: #696969;}#sk-container-id-17 label.sk-toggleable__label-arrow:hover:before {color: black;}#sk-container-id-17 div.sk-estimator:hover label.sk-toggleable__label-arrow:before {color: black;}#sk-container-id-17 div.sk-toggleable__content {max-height: 0;max-width: 0;overflow: hidden;text-align: left;background-color: #f0f8ff;}#sk-container-id-17 div.sk-toggleable__content pre {margin: 0.2em;color: black;border-radius: 0.25em;background-color: #f0f8ff;}#sk-container-id-17 input.sk-toggleable__control:checked~div.sk-toggleable__content {max-height: 200px;max-width: 100%;overflow: auto;}#sk-container-id-17 input.sk-toggleable__control:checked~label.sk-toggleable__label-arrow:before {content: \"▾\";}#sk-container-id-17 div.sk-estimator input.sk-toggleable__control:checked~label.sk-toggleable__label {background-color: #d4ebff;}#sk-container-id-17 div.sk-label input.sk-toggleable__control:checked~label.sk-toggleable__label {background-color: #d4ebff;}#sk-container-id-17 input.sk-hidden--visually {border: 0;clip: rect(1px 1px 1px 1px);clip: rect(1px, 1px, 1px, 1px);height: 1px;margin: -1px;overflow: hidden;padding: 0;position: absolute;width: 1px;}#sk-container-id-17 div.sk-estimator {font-family: monospace;background-color: #f0f8ff;border: 1px dotted black;border-radius: 0.25em;box-sizing: border-box;margin-bottom: 0.5em;}#sk-container-id-17 div.sk-estimator:hover {background-color: #d4ebff;}#sk-container-id-17 div.sk-parallel-item::after {content: \"\";width: 100%;border-bottom: 1px solid gray;flex-grow: 1;}#sk-container-id-17 div.sk-label:hover label.sk-toggleable__label {background-color: #d4ebff;}#sk-container-id-17 div.sk-serial::before {content: \"\";position: absolute;border-left: 1px solid gray;box-sizing: border-box;top: 0;bottom: 0;left: 50%;z-index: 0;}#sk-container-id-17 div.sk-serial {display: flex;flex-direction: column;align-items: center;background-color: white;padding-right: 0.2em;padding-left: 0.2em;position: relative;}#sk-container-id-17 div.sk-item {position: relative;z-index: 1;}#sk-container-id-17 div.sk-parallel {display: flex;align-items: stretch;justify-content: center;background-color: white;position: relative;}#sk-container-id-17 div.sk-item::before, #sk-container-id-17 div.sk-parallel-item::before {content: \"\";position: absolute;border-left: 1px solid gray;box-sizing: border-box;top: 0;bottom: 0;left: 50%;z-index: -1;}#sk-container-id-17 div.sk-parallel-item {display: flex;flex-direction: column;z-index: 1;position: relative;background-color: white;}#sk-container-id-17 div.sk-parallel-item:first-child::after {align-self: flex-end;width: 50%;}#sk-container-id-17 div.sk-parallel-item:last-child::after {align-self: flex-start;width: 50%;}#sk-container-id-17 div.sk-parallel-item:only-child::after {width: 0;}#sk-container-id-17 div.sk-dashed-wrapped {border: 1px dashed gray;margin: 0 0.4em 0.5em 0.4em;box-sizing: border-box;padding-bottom: 0.4em;background-color: white;}#sk-container-id-17 div.sk-label label {font-family: monospace;font-weight: bold;display: inline-block;line-height: 1.2em;}#sk-container-id-17 div.sk-label-container {text-align: center;}#sk-container-id-17 div.sk-container {/* jupyter's `normalize.less` sets `[hidden] { display: none; }` but bootstrap.min.css set `[hidden] { display: none !important; }` so we also need the `!important` here to be able to override the default hidden behavior on the sphinx rendered scikit-learn.org. See: https://github.com/scikit-learn/scikit-learn/issues/21755 */display: inline-block !important;position: relative;}#sk-container-id-17 div.sk-text-repr-fallback {display: none;}</style><div id=\"sk-container-id-17\" class=\"sk-top-container\"><div class=\"sk-text-repr-fallback\"><pre>GridSearchCV(cv=5, estimator=RandomForestRegressor(),\n             param_grid={&#x27;criterion&#x27;: [&#x27;squared_error&#x27;]})</pre><b>In a Jupyter environment, please rerun this cell to show the HTML representation or trust the notebook. <br />On GitHub, the HTML representation is unable to render, please try loading this page with nbviewer.org.</b></div><div class=\"sk-container\" hidden><div class=\"sk-item sk-dashed-wrapped\"><div class=\"sk-label-container\"><div class=\"sk-label sk-toggleable\"><input class=\"sk-toggleable__control sk-hidden--visually\" id=\"sk-estimator-id-49\" type=\"checkbox\" ><label for=\"sk-estimator-id-49\" class=\"sk-toggleable__label sk-toggleable__label-arrow\">GridSearchCV</label><div class=\"sk-toggleable__content\"><pre>GridSearchCV(cv=5, estimator=RandomForestRegressor(),\n             param_grid={&#x27;criterion&#x27;: [&#x27;squared_error&#x27;]})</pre></div></div></div><div class=\"sk-parallel\"><div class=\"sk-parallel-item\"><div class=\"sk-item\"><div class=\"sk-label-container\"><div class=\"sk-label sk-toggleable\"><input class=\"sk-toggleable__control sk-hidden--visually\" id=\"sk-estimator-id-50\" type=\"checkbox\" ><label for=\"sk-estimator-id-50\" class=\"sk-toggleable__label sk-toggleable__label-arrow\">estimator: RandomForestRegressor</label><div class=\"sk-toggleable__content\"><pre>RandomForestRegressor()</pre></div></div></div><div class=\"sk-serial\"><div class=\"sk-item\"><div class=\"sk-estimator sk-toggleable\"><input class=\"sk-toggleable__control sk-hidden--visually\" id=\"sk-estimator-id-51\" type=\"checkbox\" ><label for=\"sk-estimator-id-51\" class=\"sk-toggleable__label sk-toggleable__label-arrow\">RandomForestRegressor</label><div class=\"sk-toggleable__content\"><pre>RandomForestRegressor()</pre></div></div></div></div></div></div></div></div></div></div>"
     },
     "execution_count": 98,
     "metadata": {},
     "output_type": "execute_result"
    }
   ],
   "source": [
    "model_rfr.fit(x_train, y_train)"
   ],
   "metadata": {
    "collapsed": false,
    "pycharm": {
     "name": "#%%\n"
    }
   }
  },
  {
   "cell_type": "code",
   "execution_count": 99,
   "outputs": [
    {
     "data": {
      "text/plain": "{'mean_fit_time': array([1.77241731]),\n 'std_fit_time': array([0.03842259]),\n 'mean_score_time': array([0.03842845]),\n 'std_score_time': array([0.00148721]),\n 'param_criterion': masked_array(data=['squared_error'],\n              mask=[False],\n        fill_value='?',\n             dtype=object),\n 'params': [{'criterion': 'squared_error'}],\n 'split0_test_score': array([0.92660757]),\n 'split1_test_score': array([0.93655458]),\n 'split2_test_score': array([0.93782362]),\n 'split3_test_score': array([0.93649844]),\n 'split4_test_score': array([0.93988278]),\n 'mean_test_score': array([0.9354734]),\n 'std_test_score': array([0.00459975]),\n 'rank_test_score': array([1], dtype=int32)}"
     },
     "execution_count": 99,
     "metadata": {},
     "output_type": "execute_result"
    }
   ],
   "source": [
    "model_rfr.cv_results_"
   ],
   "metadata": {
    "collapsed": false,
    "pycharm": {
     "name": "#%%\n"
    }
   }
  },
  {
   "cell_type": "code",
   "execution_count": 100,
   "outputs": [
    {
     "data": {
      "text/plain": "35.85103784295047"
     },
     "execution_count": 100,
     "metadata": {},
     "output_type": "execute_result"
    }
   ],
   "source": [
    "y_pred = model_rfr.predict(x_test)\n",
    "RMSE_tree = math.sqrt(mean_squared_error(y_test, y_pred))\n",
    "RMSE_tree"
   ],
   "metadata": {
    "collapsed": false,
    "pycharm": {
     "name": "#%%\n"
    }
   }
  },
  {
   "cell_type": "markdown",
   "source": [
    "#### XGBRegressor"
   ],
   "metadata": {
    "collapsed": false,
    "pycharm": {
     "name": "#%% md\n"
    }
   }
  },
  {
   "cell_type": "code",
   "execution_count": 101,
   "outputs": [],
   "source": [
    "xgbr_para = {}\n",
    "model_xgbr = GridSearchCV(XGBRegressor(), xgbr_para, cv=5)"
   ],
   "metadata": {
    "collapsed": false,
    "pycharm": {
     "name": "#%%\n"
    }
   }
  },
  {
   "cell_type": "code",
   "execution_count": 102,
   "outputs": [
    {
     "name": "stderr",
     "output_type": "stream",
     "text": [
      "/home/jeo/anaconda3/envs/data/lib/python3.9/site-packages/xgboost/data.py:250: FutureWarning: pandas.Int64Index is deprecated and will be removed from pandas in a future version. Use pandas.Index with the appropriate dtype instead.\n",
      "  elif isinstance(data.columns, (pd.Int64Index, pd.RangeIndex)):\n",
      "/home/jeo/anaconda3/envs/data/lib/python3.9/site-packages/xgboost/data.py:250: FutureWarning: pandas.Int64Index is deprecated and will be removed from pandas in a future version. Use pandas.Index with the appropriate dtype instead.\n",
      "  elif isinstance(data.columns, (pd.Int64Index, pd.RangeIndex)):\n",
      "/home/jeo/anaconda3/envs/data/lib/python3.9/site-packages/xgboost/data.py:250: FutureWarning: pandas.Int64Index is deprecated and will be removed from pandas in a future version. Use pandas.Index with the appropriate dtype instead.\n",
      "  elif isinstance(data.columns, (pd.Int64Index, pd.RangeIndex)):\n",
      "/home/jeo/anaconda3/envs/data/lib/python3.9/site-packages/xgboost/data.py:250: FutureWarning: pandas.Int64Index is deprecated and will be removed from pandas in a future version. Use pandas.Index with the appropriate dtype instead.\n",
      "  elif isinstance(data.columns, (pd.Int64Index, pd.RangeIndex)):\n",
      "/home/jeo/anaconda3/envs/data/lib/python3.9/site-packages/xgboost/data.py:250: FutureWarning: pandas.Int64Index is deprecated and will be removed from pandas in a future version. Use pandas.Index with the appropriate dtype instead.\n",
      "  elif isinstance(data.columns, (pd.Int64Index, pd.RangeIndex)):\n",
      "/home/jeo/anaconda3/envs/data/lib/python3.9/site-packages/xgboost/data.py:250: FutureWarning: pandas.Int64Index is deprecated and will be removed from pandas in a future version. Use pandas.Index with the appropriate dtype instead.\n",
      "  elif isinstance(data.columns, (pd.Int64Index, pd.RangeIndex)):\n"
     ]
    },
    {
     "data": {
      "text/plain": "GridSearchCV(cv=5,\n             estimator=XGBRegressor(base_score=None, booster=None,\n                                    colsample_bylevel=None,\n                                    colsample_bynode=None,\n                                    colsample_bytree=None,\n                                    enable_categorical=False, gamma=None,\n                                    gpu_id=None, importance_type=None,\n                                    interaction_constraints=None,\n                                    learning_rate=None, max_delta_step=None,\n                                    max_depth=None, min_child_weight=None,\n                                    missing=nan, monotone_constraints=None,\n                                    n_estimators=100, n_jobs=None,\n                                    num_parallel_tree=None, predictor=None,\n                                    random_state=None, reg_alpha=None,\n                                    reg_lambda=None, scale_pos_weight=None,\n                                    subsample=None, tree_method=None,\n                                    validate_parameters=None, verbosity=None),\n             param_grid={})",
      "text/html": "<style>#sk-container-id-18 {color: black;background-color: white;}#sk-container-id-18 pre{padding: 0;}#sk-container-id-18 div.sk-toggleable {background-color: white;}#sk-container-id-18 label.sk-toggleable__label {cursor: pointer;display: block;width: 100%;margin-bottom: 0;padding: 0.3em;box-sizing: border-box;text-align: center;}#sk-container-id-18 label.sk-toggleable__label-arrow:before {content: \"▸\";float: left;margin-right: 0.25em;color: #696969;}#sk-container-id-18 label.sk-toggleable__label-arrow:hover:before {color: black;}#sk-container-id-18 div.sk-estimator:hover label.sk-toggleable__label-arrow:before {color: black;}#sk-container-id-18 div.sk-toggleable__content {max-height: 0;max-width: 0;overflow: hidden;text-align: left;background-color: #f0f8ff;}#sk-container-id-18 div.sk-toggleable__content pre {margin: 0.2em;color: black;border-radius: 0.25em;background-color: #f0f8ff;}#sk-container-id-18 input.sk-toggleable__control:checked~div.sk-toggleable__content {max-height: 200px;max-width: 100%;overflow: auto;}#sk-container-id-18 input.sk-toggleable__control:checked~label.sk-toggleable__label-arrow:before {content: \"▾\";}#sk-container-id-18 div.sk-estimator input.sk-toggleable__control:checked~label.sk-toggleable__label {background-color: #d4ebff;}#sk-container-id-18 div.sk-label input.sk-toggleable__control:checked~label.sk-toggleable__label {background-color: #d4ebff;}#sk-container-id-18 input.sk-hidden--visually {border: 0;clip: rect(1px 1px 1px 1px);clip: rect(1px, 1px, 1px, 1px);height: 1px;margin: -1px;overflow: hidden;padding: 0;position: absolute;width: 1px;}#sk-container-id-18 div.sk-estimator {font-family: monospace;background-color: #f0f8ff;border: 1px dotted black;border-radius: 0.25em;box-sizing: border-box;margin-bottom: 0.5em;}#sk-container-id-18 div.sk-estimator:hover {background-color: #d4ebff;}#sk-container-id-18 div.sk-parallel-item::after {content: \"\";width: 100%;border-bottom: 1px solid gray;flex-grow: 1;}#sk-container-id-18 div.sk-label:hover label.sk-toggleable__label {background-color: #d4ebff;}#sk-container-id-18 div.sk-serial::before {content: \"\";position: absolute;border-left: 1px solid gray;box-sizing: border-box;top: 0;bottom: 0;left: 50%;z-index: 0;}#sk-container-id-18 div.sk-serial {display: flex;flex-direction: column;align-items: center;background-color: white;padding-right: 0.2em;padding-left: 0.2em;position: relative;}#sk-container-id-18 div.sk-item {position: relative;z-index: 1;}#sk-container-id-18 div.sk-parallel {display: flex;align-items: stretch;justify-content: center;background-color: white;position: relative;}#sk-container-id-18 div.sk-item::before, #sk-container-id-18 div.sk-parallel-item::before {content: \"\";position: absolute;border-left: 1px solid gray;box-sizing: border-box;top: 0;bottom: 0;left: 50%;z-index: -1;}#sk-container-id-18 div.sk-parallel-item {display: flex;flex-direction: column;z-index: 1;position: relative;background-color: white;}#sk-container-id-18 div.sk-parallel-item:first-child::after {align-self: flex-end;width: 50%;}#sk-container-id-18 div.sk-parallel-item:last-child::after {align-self: flex-start;width: 50%;}#sk-container-id-18 div.sk-parallel-item:only-child::after {width: 0;}#sk-container-id-18 div.sk-dashed-wrapped {border: 1px dashed gray;margin: 0 0.4em 0.5em 0.4em;box-sizing: border-box;padding-bottom: 0.4em;background-color: white;}#sk-container-id-18 div.sk-label label {font-family: monospace;font-weight: bold;display: inline-block;line-height: 1.2em;}#sk-container-id-18 div.sk-label-container {text-align: center;}#sk-container-id-18 div.sk-container {/* jupyter's `normalize.less` sets `[hidden] { display: none; }` but bootstrap.min.css set `[hidden] { display: none !important; }` so we also need the `!important` here to be able to override the default hidden behavior on the sphinx rendered scikit-learn.org. See: https://github.com/scikit-learn/scikit-learn/issues/21755 */display: inline-block !important;position: relative;}#sk-container-id-18 div.sk-text-repr-fallback {display: none;}</style><div id=\"sk-container-id-18\" class=\"sk-top-container\"><div class=\"sk-text-repr-fallback\"><pre>GridSearchCV(cv=5,\n             estimator=XGBRegressor(base_score=None, booster=None,\n                                    colsample_bylevel=None,\n                                    colsample_bynode=None,\n                                    colsample_bytree=None,\n                                    enable_categorical=False, gamma=None,\n                                    gpu_id=None, importance_type=None,\n                                    interaction_constraints=None,\n                                    learning_rate=None, max_delta_step=None,\n                                    max_depth=None, min_child_weight=None,\n                                    missing=nan, monotone_constraints=None,\n                                    n_estimators=100, n_jobs=None,\n                                    num_parallel_tree=None, predictor=None,\n                                    random_state=None, reg_alpha=None,\n                                    reg_lambda=None, scale_pos_weight=None,\n                                    subsample=None, tree_method=None,\n                                    validate_parameters=None, verbosity=None),\n             param_grid={})</pre><b>In a Jupyter environment, please rerun this cell to show the HTML representation or trust the notebook. <br />On GitHub, the HTML representation is unable to render, please try loading this page with nbviewer.org.</b></div><div class=\"sk-container\" hidden><div class=\"sk-item sk-dashed-wrapped\"><div class=\"sk-label-container\"><div class=\"sk-label sk-toggleable\"><input class=\"sk-toggleable__control sk-hidden--visually\" id=\"sk-estimator-id-52\" type=\"checkbox\" ><label for=\"sk-estimator-id-52\" class=\"sk-toggleable__label sk-toggleable__label-arrow\">GridSearchCV</label><div class=\"sk-toggleable__content\"><pre>GridSearchCV(cv=5,\n             estimator=XGBRegressor(base_score=None, booster=None,\n                                    colsample_bylevel=None,\n                                    colsample_bynode=None,\n                                    colsample_bytree=None,\n                                    enable_categorical=False, gamma=None,\n                                    gpu_id=None, importance_type=None,\n                                    interaction_constraints=None,\n                                    learning_rate=None, max_delta_step=None,\n                                    max_depth=None, min_child_weight=None,\n                                    missing=nan, monotone_constraints=None,\n                                    n_estimators=100, n_jobs=None,\n                                    num_parallel_tree=None, predictor=None,\n                                    random_state=None, reg_alpha=None,\n                                    reg_lambda=None, scale_pos_weight=None,\n                                    subsample=None, tree_method=None,\n                                    validate_parameters=None, verbosity=None),\n             param_grid={})</pre></div></div></div><div class=\"sk-parallel\"><div class=\"sk-parallel-item\"><div class=\"sk-item\"><div class=\"sk-label-container\"><div class=\"sk-label sk-toggleable\"><input class=\"sk-toggleable__control sk-hidden--visually\" id=\"sk-estimator-id-53\" type=\"checkbox\" ><label for=\"sk-estimator-id-53\" class=\"sk-toggleable__label sk-toggleable__label-arrow\">estimator: XGBRegressor</label><div class=\"sk-toggleable__content\"><pre>XGBRegressor(base_score=None, booster=None, colsample_bylevel=None,\n             colsample_bynode=None, colsample_bytree=None,\n             enable_categorical=False, gamma=None, gpu_id=None,\n             importance_type=None, interaction_constraints=None,\n             learning_rate=None, max_delta_step=None, max_depth=None,\n             min_child_weight=None, missing=nan, monotone_constraints=None,\n             n_estimators=100, n_jobs=None, num_parallel_tree=None,\n             predictor=None, random_state=None, reg_alpha=None, reg_lambda=None,\n             scale_pos_weight=None, subsample=None, tree_method=None,\n             validate_parameters=None, verbosity=None)</pre></div></div></div><div class=\"sk-serial\"><div class=\"sk-item\"><div class=\"sk-estimator sk-toggleable\"><input class=\"sk-toggleable__control sk-hidden--visually\" id=\"sk-estimator-id-54\" type=\"checkbox\" ><label for=\"sk-estimator-id-54\" class=\"sk-toggleable__label sk-toggleable__label-arrow\">XGBRegressor</label><div class=\"sk-toggleable__content\"><pre>XGBRegressor(base_score=None, booster=None, colsample_bylevel=None,\n             colsample_bynode=None, colsample_bytree=None,\n             enable_categorical=False, gamma=None, gpu_id=None,\n             importance_type=None, interaction_constraints=None,\n             learning_rate=None, max_delta_step=None, max_depth=None,\n             min_child_weight=None, missing=nan, monotone_constraints=None,\n             n_estimators=100, n_jobs=None, num_parallel_tree=None,\n             predictor=None, random_state=None, reg_alpha=None, reg_lambda=None,\n             scale_pos_weight=None, subsample=None, tree_method=None,\n             validate_parameters=None, verbosity=None)</pre></div></div></div></div></div></div></div></div></div></div>"
     },
     "execution_count": 102,
     "metadata": {},
     "output_type": "execute_result"
    }
   ],
   "source": [
    "model_xgbr.fit(x_train, y_train)"
   ],
   "metadata": {
    "collapsed": false,
    "pycharm": {
     "name": "#%%\n"
    }
   }
  },
  {
   "cell_type": "code",
   "execution_count": 103,
   "outputs": [
    {
     "data": {
      "text/plain": "{'mean_fit_time': array([0.35107503]),\n 'std_fit_time': array([0.22567911]),\n 'mean_score_time': array([0.00258117]),\n 'std_score_time': array([0.00046621]),\n 'params': [{}],\n 'split0_test_score': array([0.93353922]),\n 'split1_test_score': array([0.9487069]),\n 'split2_test_score': array([0.94115362]),\n 'split3_test_score': array([0.9497131]),\n 'split4_test_score': array([0.94814145]),\n 'mean_test_score': array([0.94425086]),\n 'std_test_score': array([0.00615079]),\n 'rank_test_score': array([1], dtype=int32)}"
     },
     "execution_count": 103,
     "metadata": {},
     "output_type": "execute_result"
    }
   ],
   "source": [
    "model_xgbr.cv_results_"
   ],
   "metadata": {
    "collapsed": false,
    "pycharm": {
     "name": "#%%\n"
    }
   }
  },
  {
   "cell_type": "code",
   "execution_count": 104,
   "outputs": [
    {
     "data": {
      "text/plain": "31.52089126848505"
     },
     "execution_count": 104,
     "metadata": {},
     "output_type": "execute_result"
    }
   ],
   "source": [
    "y_pred = model_xgbr.predict(x_test)\n",
    "RMSE_tree = math.sqrt(mean_squared_error(y_test, y_pred))\n",
    "RMSE_tree"
   ],
   "metadata": {
    "collapsed": false,
    "pycharm": {
     "name": "#%%\n"
    }
   }
  },
  {
   "cell_type": "markdown",
   "source": [
    "#### ALTERNATIVA DOBLE PREDICCION"
   ],
   "metadata": {
    "collapsed": false,
    "pycharm": {
     "name": "#%% md\n"
    }
   }
  },
  {
   "cell_type": "markdown",
   "source": [
    "Esta alternativa consiste en la elaboración de dos modelos para la predicción que se solicita. El primer modelo se encargara de predecir la feature casual que como se observa en la matriz de correlación presenta una relación bastante evidente con la variable objetivo cnt, pero el dataset de test no cuenta con ésta. Por este motivo en esta primera instancia se realiza esta acción. El segundo modelo se encarga de predecir la variable objetivo a partir del dataset de test mas la columna casual que se predijo con el primer modelo. Esta alternativa solo se realizó con el objetivo de ver el comportamiento de lo que se plantea y no asegura un resultado acorde"
   ],
   "metadata": {
    "collapsed": false,
    "pycharm": {
     "name": "#%% md\n"
    }
   }
  },
  {
   "cell_type": "markdown",
   "source": [
    "Dividir el dataset para realizar el entramiento correspondiente y realizar pruebas"
   ],
   "metadata": {
    "collapsed": false,
    "pycharm": {
     "name": "#%% md\n"
    }
   }
  },
  {
   "cell_type": "code",
   "execution_count": 72,
   "outputs": [],
   "source": [
    "x1 = train.drop(columns=['cnt', 'registered', 'casual', 'temp', 'mnth', 'yr', 'dteday'])\n",
    "x2 = train.drop(columns=['cnt', 'registered', 'temp', 'mnth', 'yr', 'dteday'])\n",
    "y2 = train.cnt\n",
    "y1 = train.casual"
   ],
   "metadata": {
    "collapsed": false,
    "pycharm": {
     "name": "#%%\n"
    }
   }
  },
  {
   "cell_type": "code",
   "execution_count": 73,
   "outputs": [],
   "source": [
    "x_train1, x_test1, y_train1, y_test1 = train_test_split(x1, y1, test_size=0.2)"
   ],
   "metadata": {
    "collapsed": false,
    "pycharm": {
     "name": "#%%\n"
    }
   }
  },
  {
   "cell_type": "markdown",
   "source": [
    "Se utilizará para ambos modelos XGBRegressor() porque es el que presento mejor desempeño anteriormente"
   ],
   "metadata": {
    "collapsed": false,
    "pycharm": {
     "name": "#%% md\n"
    }
   }
  },
  {
   "cell_type": "markdown",
   "source": [
    "Entrenamiento de primer modelo"
   ],
   "metadata": {
    "collapsed": false,
    "pycharm": {
     "name": "#%% md\n"
    }
   }
  },
  {
   "cell_type": "code",
   "execution_count": 74,
   "outputs": [
    {
     "name": "stderr",
     "output_type": "stream",
     "text": [
      "/home/jeo/anaconda3/envs/data/lib/python3.9/site-packages/xgboost/data.py:250: FutureWarning: pandas.Int64Index is deprecated and will be removed from pandas in a future version. Use pandas.Index with the appropriate dtype instead.\n",
      "  elif isinstance(data.columns, (pd.Int64Index, pd.RangeIndex)):\n"
     ]
    },
    {
     "data": {
      "text/plain": "11.174232414281114"
     },
     "execution_count": 74,
     "metadata": {},
     "output_type": "execute_result"
    }
   ],
   "source": [
    "model1 = XGBRegressor()\n",
    "model1.fit(x_train1, y_train1)\n",
    "pred1 = model1.predict(x_test1)\n",
    "e = mean_squared_error(y_test1, pred1)\n",
    "math.sqrt(e)"
   ],
   "metadata": {
    "collapsed": false,
    "pycharm": {
     "name": "#%%\n"
    }
   }
  },
  {
   "cell_type": "markdown",
   "source": [
    "Entrenamiento de segundo modelo"
   ],
   "metadata": {
    "collapsed": false,
    "pycharm": {
     "name": "#%% md\n"
    }
   }
  },
  {
   "cell_type": "code",
   "execution_count": 75,
   "outputs": [],
   "source": [
    "x_train2, x_test2, y_train2, y_test2 = train_test_split(x2, y2, test_size=0.2)"
   ],
   "metadata": {
    "collapsed": false,
    "pycharm": {
     "name": "#%%\n"
    }
   }
  },
  {
   "cell_type": "code",
   "execution_count": 76,
   "outputs": [
    {
     "name": "stderr",
     "output_type": "stream",
     "text": [
      "/home/jeo/anaconda3/envs/data/lib/python3.9/site-packages/xgboost/data.py:250: FutureWarning: pandas.Int64Index is deprecated and will be removed from pandas in a future version. Use pandas.Index with the appropriate dtype instead.\n",
      "  elif isinstance(data.columns, (pd.Int64Index, pd.RangeIndex)):\n"
     ]
    },
    {
     "data": {
      "text/plain": "26.44031681288778"
     },
     "execution_count": 76,
     "metadata": {},
     "output_type": "execute_result"
    }
   ],
   "source": [
    "model2 = XGBRegressor()\n",
    "model2.fit(x_train2, y_train2)\n",
    "pred2 = model2.predict(x_test2)\n",
    "e = mean_squared_error(y_test2, pred2)\n",
    "math.sqrt(e)"
   ],
   "metadata": {
    "collapsed": false,
    "pycharm": {
     "name": "#%%\n"
    }
   }
  },
  {
   "cell_type": "markdown",
   "source": [
    "#### Probar Modelo"
   ],
   "metadata": {
    "collapsed": false,
    "pycharm": {
     "name": "#%% md\n"
    }
   }
  },
  {
   "cell_type": "markdown",
   "source": [
    "Con el modelo entrenado se procede a realizar pruebas para comprobar su rendimiento"
   ],
   "metadata": {
    "collapsed": false,
    "pycharm": {
     "name": "#%% md\n"
    }
   }
  },
  {
   "cell_type": "code",
   "execution_count": 77,
   "outputs": [],
   "source": [
    "x_test1['casual'] = pred1"
   ],
   "metadata": {
    "collapsed": false,
    "pycharm": {
     "name": "#%%\n"
    }
   }
  },
  {
   "cell_type": "code",
   "execution_count": 78,
   "outputs": [
    {
     "data": {
      "text/plain": "211.35352913804286"
     },
     "execution_count": 78,
     "metadata": {},
     "output_type": "execute_result"
    }
   ],
   "source": [
    "pred_final = model2.predict(x_test1.sort_values(by=['instant']))"
   ],
   "metadata": {
    "collapsed": false,
    "pycharm": {
     "name": "#%%\n"
    }
   }
  },
  {
   "cell_type": "code",
   "execution_count": 80,
   "outputs": [
    {
     "data": {
      "text/plain": "       instant  dteday  season  yr  mnth  hr  holiday  weekday  workingday  \\\n6            7  734138       1   0     1   6        0        6           0   \n9           10  734138       1   0     1   9        0        6           0   \n16          17  734138       1   0     1  16        0        6           0   \n17          18  734138       1   0     1  17        0        6           0   \n23          24  734138       1   0     1  23        0        6           0   \n...        ...     ...     ...  ..   ...  ..      ...      ...         ...   \n11974    11975  734642       2   1     5   3        0        6           0   \n11978    11979  734642       2   1     5   7        0        6           0   \n11987    11988  734642       2   1     5  16        0        6           0   \n11990    11991  734642       2   1     5  19        0        6           0   \n11994    11995  734642       2   1     5  23        0        6           0   \n\n       weathersit  temp   atemp   hum  windspeed  casual  registered  cnt  \n6               1  0.22  0.2727  0.80     0.0000       2           0    2  \n9               1  0.32  0.3485  0.76     0.0000       8           6   14  \n16              2  0.42  0.4242  0.82     0.2985      41          52   93  \n17              2  0.44  0.4394  0.82     0.2836      15          52   67  \n23              2  0.46  0.4545  0.88     0.2985      15          24   39  \n...           ...   ...     ...   ...        ...     ...         ...  ...  \n11974           1  0.50  0.4848  0.48     0.1045      10          23   33  \n11978           1  0.46  0.4545  0.67     0.1045      28          67   95  \n11987           1  0.74  0.6515  0.30     0.1045     331         311  642  \n11990           1  0.70  0.6364  0.39     0.1343     203         229  432  \n11994           1  0.60  0.6212  0.56     0.1642      71         168  239  \n\n[2400 rows x 17 columns]",
      "text/html": "<div>\n<style scoped>\n    .dataframe tbody tr th:only-of-type {\n        vertical-align: middle;\n    }\n\n    .dataframe tbody tr th {\n        vertical-align: top;\n    }\n\n    .dataframe thead th {\n        text-align: right;\n    }\n</style>\n<table border=\"1\" class=\"dataframe\">\n  <thead>\n    <tr style=\"text-align: right;\">\n      <th></th>\n      <th>instant</th>\n      <th>dteday</th>\n      <th>season</th>\n      <th>yr</th>\n      <th>mnth</th>\n      <th>hr</th>\n      <th>holiday</th>\n      <th>weekday</th>\n      <th>workingday</th>\n      <th>weathersit</th>\n      <th>temp</th>\n      <th>atemp</th>\n      <th>hum</th>\n      <th>windspeed</th>\n      <th>casual</th>\n      <th>registered</th>\n      <th>cnt</th>\n    </tr>\n  </thead>\n  <tbody>\n    <tr>\n      <th>6</th>\n      <td>7</td>\n      <td>734138</td>\n      <td>1</td>\n      <td>0</td>\n      <td>1</td>\n      <td>6</td>\n      <td>0</td>\n      <td>6</td>\n      <td>0</td>\n      <td>1</td>\n      <td>0.22</td>\n      <td>0.2727</td>\n      <td>0.80</td>\n      <td>0.0000</td>\n      <td>2</td>\n      <td>0</td>\n      <td>2</td>\n    </tr>\n    <tr>\n      <th>9</th>\n      <td>10</td>\n      <td>734138</td>\n      <td>1</td>\n      <td>0</td>\n      <td>1</td>\n      <td>9</td>\n      <td>0</td>\n      <td>6</td>\n      <td>0</td>\n      <td>1</td>\n      <td>0.32</td>\n      <td>0.3485</td>\n      <td>0.76</td>\n      <td>0.0000</td>\n      <td>8</td>\n      <td>6</td>\n      <td>14</td>\n    </tr>\n    <tr>\n      <th>16</th>\n      <td>17</td>\n      <td>734138</td>\n      <td>1</td>\n      <td>0</td>\n      <td>1</td>\n      <td>16</td>\n      <td>0</td>\n      <td>6</td>\n      <td>0</td>\n      <td>2</td>\n      <td>0.42</td>\n      <td>0.4242</td>\n      <td>0.82</td>\n      <td>0.2985</td>\n      <td>41</td>\n      <td>52</td>\n      <td>93</td>\n    </tr>\n    <tr>\n      <th>17</th>\n      <td>18</td>\n      <td>734138</td>\n      <td>1</td>\n      <td>0</td>\n      <td>1</td>\n      <td>17</td>\n      <td>0</td>\n      <td>6</td>\n      <td>0</td>\n      <td>2</td>\n      <td>0.44</td>\n      <td>0.4394</td>\n      <td>0.82</td>\n      <td>0.2836</td>\n      <td>15</td>\n      <td>52</td>\n      <td>67</td>\n    </tr>\n    <tr>\n      <th>23</th>\n      <td>24</td>\n      <td>734138</td>\n      <td>1</td>\n      <td>0</td>\n      <td>1</td>\n      <td>23</td>\n      <td>0</td>\n      <td>6</td>\n      <td>0</td>\n      <td>2</td>\n      <td>0.46</td>\n      <td>0.4545</td>\n      <td>0.88</td>\n      <td>0.2985</td>\n      <td>15</td>\n      <td>24</td>\n      <td>39</td>\n    </tr>\n    <tr>\n      <th>...</th>\n      <td>...</td>\n      <td>...</td>\n      <td>...</td>\n      <td>...</td>\n      <td>...</td>\n      <td>...</td>\n      <td>...</td>\n      <td>...</td>\n      <td>...</td>\n      <td>...</td>\n      <td>...</td>\n      <td>...</td>\n      <td>...</td>\n      <td>...</td>\n      <td>...</td>\n      <td>...</td>\n      <td>...</td>\n    </tr>\n    <tr>\n      <th>11974</th>\n      <td>11975</td>\n      <td>734642</td>\n      <td>2</td>\n      <td>1</td>\n      <td>5</td>\n      <td>3</td>\n      <td>0</td>\n      <td>6</td>\n      <td>0</td>\n      <td>1</td>\n      <td>0.50</td>\n      <td>0.4848</td>\n      <td>0.48</td>\n      <td>0.1045</td>\n      <td>10</td>\n      <td>23</td>\n      <td>33</td>\n    </tr>\n    <tr>\n      <th>11978</th>\n      <td>11979</td>\n      <td>734642</td>\n      <td>2</td>\n      <td>1</td>\n      <td>5</td>\n      <td>7</td>\n      <td>0</td>\n      <td>6</td>\n      <td>0</td>\n      <td>1</td>\n      <td>0.46</td>\n      <td>0.4545</td>\n      <td>0.67</td>\n      <td>0.1045</td>\n      <td>28</td>\n      <td>67</td>\n      <td>95</td>\n    </tr>\n    <tr>\n      <th>11987</th>\n      <td>11988</td>\n      <td>734642</td>\n      <td>2</td>\n      <td>1</td>\n      <td>5</td>\n      <td>16</td>\n      <td>0</td>\n      <td>6</td>\n      <td>0</td>\n      <td>1</td>\n      <td>0.74</td>\n      <td>0.6515</td>\n      <td>0.30</td>\n      <td>0.1045</td>\n      <td>331</td>\n      <td>311</td>\n      <td>642</td>\n    </tr>\n    <tr>\n      <th>11990</th>\n      <td>11991</td>\n      <td>734642</td>\n      <td>2</td>\n      <td>1</td>\n      <td>5</td>\n      <td>19</td>\n      <td>0</td>\n      <td>6</td>\n      <td>0</td>\n      <td>1</td>\n      <td>0.70</td>\n      <td>0.6364</td>\n      <td>0.39</td>\n      <td>0.1343</td>\n      <td>203</td>\n      <td>229</td>\n      <td>432</td>\n    </tr>\n    <tr>\n      <th>11994</th>\n      <td>11995</td>\n      <td>734642</td>\n      <td>2</td>\n      <td>1</td>\n      <td>5</td>\n      <td>23</td>\n      <td>0</td>\n      <td>6</td>\n      <td>0</td>\n      <td>1</td>\n      <td>0.60</td>\n      <td>0.6212</td>\n      <td>0.56</td>\n      <td>0.1642</td>\n      <td>71</td>\n      <td>168</td>\n      <td>239</td>\n    </tr>\n  </tbody>\n</table>\n<p>2400 rows × 17 columns</p>\n</div>"
     },
     "execution_count": 80,
     "metadata": {},
     "output_type": "execute_result"
    }
   ],
   "source": [
    "valores_finales = train[train.instant.isin(x_test1.instant)]\n",
    "valores_finales"
   ],
   "metadata": {
    "collapsed": false,
    "pycharm": {
     "name": "#%%\n"
    }
   }
  },
  {
   "cell_type": "code",
   "execution_count": 79,
   "outputs": [
    {
     "data": {
      "text/plain": "array([4.5993999e-01, 7.6884331e+01, 8.2136894e+01, ..., 6.3637152e+02,\n       3.8334204e+02, 2.2009944e+02], dtype=float32)"
     },
     "execution_count": 79,
     "metadata": {},
     "output_type": "execute_result"
    }
   ],
   "source": [
    "pred_final"
   ],
   "metadata": {
    "collapsed": false,
    "pycharm": {
     "name": "#%%\n"
    }
   }
  },
  {
   "cell_type": "code",
   "execution_count": 81,
   "outputs": [
    {
     "data": {
      "text/plain": "30.034373831795396"
     },
     "execution_count": 81,
     "metadata": {},
     "output_type": "execute_result"
    }
   ],
   "source": [
    "e = mean_squared_error(valores_finales.cnt, pred_final)\n",
    "math.sqrt(e)"
   ],
   "metadata": {
    "collapsed": false,
    "pycharm": {
     "name": "#%%\n"
    }
   }
  },
  {
   "cell_type": "markdown",
   "source": [
    "Se observa una leve disminución del modelo de XGBRegressor por si solo, pero no es significativo dicho cambio"
   ],
   "metadata": {
    "collapsed": false,
    "pycharm": {
     "name": "#%% md\n"
    }
   }
  },
  {
   "cell_type": "code",
   "execution_count": 86,
   "outputs": [],
   "source": [
    "prueba_pred_final = x_predecir.copy()"
   ],
   "metadata": {
    "collapsed": false,
    "pycharm": {
     "name": "#%%\n"
    }
   }
  },
  {
   "cell_type": "code",
   "execution_count": 87,
   "outputs": [],
   "source": [
    "pred_final1 = model1.predict(prueba_pred_final)"
   ],
   "metadata": {
    "collapsed": false,
    "pycharm": {
     "name": "#%%\n"
    }
   }
  },
  {
   "cell_type": "code",
   "execution_count": 88,
   "outputs": [],
   "source": [
    "prueba_pred_final['casual'] = pred_final1"
   ],
   "metadata": {
    "collapsed": false,
    "pycharm": {
     "name": "#%%\n"
    }
   }
  },
  {
   "cell_type": "code",
   "execution_count": 89,
   "outputs": [
    {
     "data": {
      "text/plain": "array([ 64.084694,  97.352745,  92.18333 , ..., 168.04433 , 120.04432 ,\n        79.561646], dtype=float32)"
     },
     "execution_count": 89,
     "metadata": {},
     "output_type": "execute_result"
    }
   ],
   "source": [
    "pred_final2 = model2.predict(prueba_pred_final)\n",
    "pred_final2"
   ],
   "metadata": {
    "collapsed": false,
    "pycharm": {
     "name": "#%%\n"
    }
   }
  },
  {
   "cell_type": "markdown",
   "source": [
    "Se decide utilizar XGBRegressor para predecir el resultado debido a su menor medida de RMSE"
   ],
   "metadata": {
    "collapsed": false,
    "pycharm": {
     "name": "#%% md\n"
    }
   }
  },
  {
   "cell_type": "code",
   "execution_count": 105,
   "outputs": [],
   "source": [
    "y_final = model_xgbr.predict(x_predecir)"
   ],
   "metadata": {
    "collapsed": false,
    "pycharm": {
     "name": "#%%\n"
    }
   }
  },
  {
   "cell_type": "markdown",
   "source": [
    "Se aplica valor absoluto a la predicción final para asegurar que no existan valores negativos"
   ],
   "metadata": {
    "collapsed": false,
    "pycharm": {
     "name": "#%% md\n"
    }
   }
  },
  {
   "cell_type": "code",
   "execution_count": 107,
   "outputs": [],
   "source": [
    "final = np.abs(y_final)"
   ],
   "metadata": {
    "collapsed": false,
    "pycharm": {
     "name": "#%%\n"
    }
   }
  },
  {
   "cell_type": "code",
   "execution_count": 123,
   "outputs": [
    {
     "data": {
      "text/plain": "            pred\n0      35.846741\n1      35.485882\n2      61.685482\n3      88.390938\n4     302.070374\n...          ...\n5375  359.900391\n5376  238.535202\n5377  195.664307\n5378  159.896103\n5379  121.450211\n\n[5380 rows x 1 columns]",
      "text/html": "<div>\n<style scoped>\n    .dataframe tbody tr th:only-of-type {\n        vertical-align: middle;\n    }\n\n    .dataframe tbody tr th {\n        vertical-align: top;\n    }\n\n    .dataframe thead th {\n        text-align: right;\n    }\n</style>\n<table border=\"1\" class=\"dataframe\">\n  <thead>\n    <tr style=\"text-align: right;\">\n      <th></th>\n      <th>pred</th>\n    </tr>\n  </thead>\n  <tbody>\n    <tr>\n      <th>0</th>\n      <td>35.846741</td>\n    </tr>\n    <tr>\n      <th>1</th>\n      <td>35.485882</td>\n    </tr>\n    <tr>\n      <th>2</th>\n      <td>61.685482</td>\n    </tr>\n    <tr>\n      <th>3</th>\n      <td>88.390938</td>\n    </tr>\n    <tr>\n      <th>4</th>\n      <td>302.070374</td>\n    </tr>\n    <tr>\n      <th>...</th>\n      <td>...</td>\n    </tr>\n    <tr>\n      <th>5375</th>\n      <td>359.900391</td>\n    </tr>\n    <tr>\n      <th>5376</th>\n      <td>238.535202</td>\n    </tr>\n    <tr>\n      <th>5377</th>\n      <td>195.664307</td>\n    </tr>\n    <tr>\n      <th>5378</th>\n      <td>159.896103</td>\n    </tr>\n    <tr>\n      <th>5379</th>\n      <td>121.450211</td>\n    </tr>\n  </tbody>\n</table>\n<p>5380 rows × 1 columns</p>\n</div>"
     },
     "execution_count": 123,
     "metadata": {},
     "output_type": "execute_result"
    }
   ],
   "source": [
    "resultado = pd.DataFrame(final)\n",
    "resultado = resultado.rename(columns={0: 'pred'})\n",
    "resultado"
   ],
   "metadata": {
    "collapsed": false,
    "pycharm": {
     "name": "#%%\n"
    }
   }
  },
  {
   "cell_type": "markdown",
   "source": [
    "Exportar Resultado a csv"
   ],
   "metadata": {
    "collapsed": false,
    "pycharm": {
     "name": "#%% md\n"
    }
   }
  },
  {
   "cell_type": "code",
   "execution_count": 124,
   "outputs": [],
   "source": [
    "resultado.to_csv('jeo10.csv', index=False)"
   ],
   "metadata": {
    "collapsed": false,
    "pycharm": {
     "name": "#%%\n"
    }
   }
  }
 ],
 "metadata": {
  "kernelspec": {
   "display_name": "Python 3",
   "language": "python",
   "name": "python3"
  },
  "language_info": {
   "codemirror_mode": {
    "name": "ipython",
    "version": 2
   },
   "file_extension": ".py",
   "mimetype": "text/x-python",
   "name": "python",
   "nbconvert_exporter": "python",
   "pygments_lexer": "ipython2",
   "version": "2.7.6"
  }
 },
 "nbformat": 4,
 "nbformat_minor": 0
}